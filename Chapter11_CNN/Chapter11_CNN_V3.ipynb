{
 "cells": [
  {
   "cell_type": "markdown",
   "metadata": {},
   "source": [
    "# CNN"
   ]
  },
  {
   "cell_type": "code",
   "execution_count": 1,
   "metadata": {},
   "outputs": [],
   "source": [
    "import tensorflow as tf\n",
    "from tensorflow import keras\n",
    "from tensorflow.keras import layers\n",
    "from tensorflow.keras.models import Sequential\n",
    "from tensorflow.keras.layers import Dense"
   ]
  },
  {
   "cell_type": "code",
   "execution_count": 2,
   "metadata": {},
   "outputs": [],
   "source": [
    "Data_path=\"Datasets/\""
   ]
  },
  {
   "cell_type": "markdown",
   "metadata": {},
   "source": [
    "## Reshape images in ANN"
   ]
  },
  {
   "cell_type": "code",
   "execution_count": 3,
   "metadata": {},
   "outputs": [
    {
     "name": "stdout",
     "output_type": "stream",
     "text": [
      "X_train shape (60000, 28, 28)\n",
      "X_test shape (10000, 28, 28)\n",
      "X_train new shape (60000, 784)\n",
      "X_test new shape (10000, 784)\n"
     ]
    }
   ],
   "source": [
    "(X_train, Y_train), (X_test, Y_test) = keras.datasets.mnist.load_data()\n",
    "print(\"X_train shape\", X_train.shape)\n",
    "print(\"X_test shape\", X_test.shape)\n",
    "\n",
    "x_train = X_train.reshape(60000, 784)\n",
    "x_test = X_test.reshape(10000, 784)\n",
    "\n",
    "print(\"X_train new shape\", x_train.shape)\n",
    "print(\"X_test new shape\", x_test.shape)"
   ]
  },
  {
   "cell_type": "code",
   "execution_count": 4,
   "metadata": {},
   "outputs": [
    {
     "name": "stdout",
     "output_type": "stream",
     "text": [
      "Model: \"sequential\"\n",
      "_________________________________________________________________\n",
      "Layer (type)                 Output Shape              Param #   \n",
      "=================================================================\n",
      "dense (Dense)                (None, 20)                15700     \n",
      "_________________________________________________________________\n",
      "dense_1 (Dense)              (None, 20)                420       \n",
      "_________________________________________________________________\n",
      "dense_2 (Dense)              (None, 10)                210       \n",
      "=================================================================\n",
      "Total params: 16,330\n",
      "Trainable params: 16,330\n",
      "Non-trainable params: 0\n",
      "_________________________________________________________________\n",
      "Train on 60000 samples\n",
      "Epoch 1/2\n",
      "60000/60000 [==============================] - 2s 39us/sample - loss: 1.0009 - accuracy: 0.7708\n",
      "Epoch 2/2\n",
      "60000/60000 [==============================] - 2s 28us/sample - loss: 0.3581 - accuracy: 0.9027\n"
     ]
    },
    {
     "data": {
      "text/plain": [
       "<tensorflow.python.keras.callbacks.History at 0x7feb0ee61f50>"
      ]
     },
     "execution_count": 4,
     "metadata": {},
     "output_type": "execute_result"
    }
   ],
   "source": [
    "num_classes=10\n",
    "x_train = x_train.astype('float32')\n",
    "x_test = x_test.astype('float32')\n",
    "x_train /= 255\n",
    "x_test /= 255\n",
    "\n",
    "## Convert class vectors to binary class matrices\n",
    "y_train = keras.utils.to_categorical(Y_train, num_classes)\n",
    "y_test = keras.utils.to_categorical(Y_test, num_classes)\n",
    "\n",
    "model = keras.Sequential()\n",
    "model.add(layers.Dense(20, activation='sigmoid', input_shape=(784,)))\n",
    "model.add(layers.Dense(20, activation='sigmoid'))\n",
    "model.add(layers.Dense(10, activation='softmax'))\n",
    "model.summary()\n",
    "model.compile(loss='categorical_crossentropy', metrics=['accuracy'])\n",
    "model.fit(x_train, y_train,epochs=2)"
   ]
  },
  {
   "cell_type": "markdown",
   "metadata": {},
   "source": [
    "## Convolution Layer"
   ]
  },
  {
   "cell_type": "code",
   "execution_count": 5,
   "metadata": {},
   "outputs": [
    {
     "name": "stdout",
     "output_type": "stream",
     "text": [
      "X_train shape (60000, 28, 28)\n",
      "X_test shape (10000, 28, 28)\n"
     ]
    }
   ],
   "source": [
    "(X_train, Y_train), (X_test, Y_test) = keras.datasets.mnist.load_data()\n",
    "print(\"X_train shape\", X_train.shape)\n",
    "print(\"X_test shape\", X_test.shape)"
   ]
  },
  {
   "cell_type": "code",
   "execution_count": 6,
   "metadata": {},
   "outputs": [
    {
     "data": {
      "image/png": "[encoded data removed]",
      "text/plain": [
       "<Figure size 432x288 with 4 Axes>"
      ]
     },
     "metadata": {
      "needs_background": "light"
     },
     "output_type": "display_data"
    }
   ],
   "source": [
    "# Plot 4 images as gray scale\n",
    "\n",
    "%matplotlib inline\n",
    "import matplotlib.pyplot as plt\n",
    "plt.subplot(221)\n",
    "plt.imshow(X_train[1], cmap=plt.get_cmap('gray'))\n",
    "plt.subplot(222)\n",
    "plt.imshow(X_train[6], cmap=plt.get_cmap('gray'))\n",
    "plt.subplot(223)\n",
    "plt.imshow(X_train[7], cmap=plt.get_cmap('gray'))\n",
    "plt.subplot(224)\n",
    "plt.imshow(X_train[9], cmap=plt.get_cmap('gray'))\n",
    "\n",
    "# show the plot\n",
    "plt.show()"
   ]
  },
  {
   "cell_type": "markdown",
   "metadata": {},
   "source": [
    "## Random kernel_initializer"
   ]
  },
  {
   "cell_type": "code",
   "execution_count": 7,
   "metadata": {},
   "outputs": [
    {
     "name": "stdout",
     "output_type": "stream",
     "text": [
      "Actual Image\n"
     ]
    },
    {
     "data": {
      "image/png": "[encoded data removed]",
      "text/plain": [
       "<Figure size 432x288 with 1 Axes>"
      ]
     },
     "metadata": {
      "needs_background": "light"
     },
     "output_type": "display_data"
    },
    {
     "name": "stdout",
     "output_type": "stream",
     "text": [
      "Random Weights Kennel\n"
     ]
    },
    {
     "data": {
      "image/png": "[encoded data removed]",
      "text/plain": [
       "<Figure size 432x288 with 1 Axes>"
      ]
     },
     "metadata": {
      "needs_background": "light"
     },
     "output_type": "display_data"
    }
   ],
   "source": [
    "#i=int(np.random.rand(1,1)*60000)\n",
    "#634 #924 #952 #3611  #4458\n",
    "import numpy as np\n",
    "x=X_train[3611]\n",
    "\n",
    "\n",
    "print(\"Actual Image\")\n",
    "plt.imshow(x, cmap=plt.get_cmap('gray'))\n",
    "plt.show()\n",
    "\n",
    "\n",
    "print(\"Random Weights Kennel\")\n",
    "from tensorflow.keras.layers import Conv2D\n",
    "model=Sequential()\n",
    "model.add(Conv2D(filters=1,\n",
    "                 kernel_size=7,\n",
    "                 input_shape=(28,28,1),\n",
    "                 kernel_initializer='random_uniform'))\n",
    "\n",
    "img_reshape=np.expand_dims(x, axis=0)\n",
    "img_reshape=np.expand_dims(img_reshape, axis=3)\n",
    "img_reshape=model.predict(img_reshape)\n",
    "pixels = np.matrix(img_reshape[:][:][:][0])\n",
    "plt.imshow(pixels,cmap=plt.get_cmap('gray'))\n",
    "plt.show()"
   ]
  },
  {
   "cell_type": "markdown",
   "metadata": {},
   "source": [
    "### Constant kernel_initializer"
   ]
  },
  {
   "cell_type": "code",
   "execution_count": 8,
   "metadata": {},
   "outputs": [
    {
     "name": "stdout",
     "output_type": "stream",
     "text": [
      "filter1 \n",
      " [[  1   1   1   1   1   1   1]\n",
      " [  1   1   1   1   1   1   1]\n",
      " [100 100 100 100 100 100 100]\n",
      " [100 100 100 100 100 100 100]\n",
      " [100 100 100 100 100 100 100]\n",
      " [  1   1   1   1   1   1   1]\n",
      " [  1   1   1   1   1   1   1]]\n",
      "filter2 \n",
      " [[  1   1 100 100 100   1   1]\n",
      " [  1   1 100 100 100   1   1]\n",
      " [  1   1 100 100 100   1   1]\n",
      " [  1   1 100 100 100   1   1]\n",
      " [  1   1 100 100 100   1   1]\n",
      " [  1   1 100 100 100   1   1]\n",
      " [  1   1 100 100 100   1   1]]\n"
     ]
    }
   ],
   "source": [
    "import numpy as np\n",
    "filter1=np.array([[1,1,1,1,1,1,1],\n",
    "           [1,1,1,1,1,1,1],\n",
    "           [100,100,100,100,100,100,100],\n",
    "           [100,100,100,100,100,100,100],\n",
    "           [100,100,100,100,100,100,100],\n",
    "           [1,1,1,1,1,1,1],\n",
    "           [1,1,1,1,1,1,1]])\n",
    "print(\"filter1 \\n\", filter1)\n",
    "\n",
    "filter2=np.transpose(filter1)\n",
    "print(\"filter2 \\n\",filter2)"
   ]
  },
  {
   "cell_type": "code",
   "execution_count": 9,
   "metadata": {},
   "outputs": [
    {
     "name": "stdout",
     "output_type": "stream",
     "text": [
      "Actual Image\n"
     ]
    },
    {
     "data": {
      "image/png": "[encoded data removed]",
      "text/plain": [
       "<Figure size 432x288 with 1 Axes>"
      ]
     },
     "metadata": {
      "needs_background": "light"
     },
     "output_type": "display_data"
    },
    {
     "name": "stdout",
     "output_type": "stream",
     "text": [
      "Horizontal Line\n"
     ]
    },
    {
     "data": {
      "image/png": "[encoded data removed]",
      "text/plain": [
       "<Figure size 432x288 with 1 Axes>"
      ]
     },
     "metadata": {
      "needs_background": "light"
     },
     "output_type": "display_data"
    },
    {
     "name": "stdout",
     "output_type": "stream",
     "text": [
      "Vertical Line\n"
     ]
    },
    {
     "data": {
      "image/png": "[encoded data removed]",
      "text/plain": [
       "<Figure size 432x288 with 1 Axes>"
      ]
     },
     "metadata": {
      "needs_background": "light"
     },
     "output_type": "display_data"
    }
   ],
   "source": [
    "#Try #634 #924 #952 #3611  #4458\n",
    "x=X_train[3611]\n",
    "\n",
    "print(\"Actual Image\")\n",
    "plt.imshow(x, cmap=plt.get_cmap('gray'))\n",
    "plt.show()\n",
    "\n",
    "print(\"Horizontal Line\")\n",
    "\n",
    "model=Sequential()\n",
    "model.add(Conv2D(1,\n",
    "                 kernel_size=7,\n",
    "                 input_shape=(28,28,1),\n",
    "                 kernel_initializer=keras.initializers.Constant(filter1)))\n",
    "\n",
    "img_reshape=np.expand_dims(x, axis=0)\n",
    "img_reshape=np.expand_dims(img_reshape, axis=3)\n",
    "img_reshape=model.predict(img_reshape)\n",
    "pixels = np.matrix(img_reshape[:][:][:][0])\n",
    "plt.imshow(pixels,cmap=plt.get_cmap('gray'))\n",
    "plt.show()\n",
    "\n",
    "print(\"Vertical Line\")\n",
    "model=Sequential()\n",
    "model.add(Conv2D(1,\n",
    "                 kernel_size=7,\n",
    "                 input_shape=(28,28,1),\n",
    "                 kernel_initializer=keras.initializers.Constant(filter2)))\n",
    "\n",
    "img_reshape=np.expand_dims(x, axis=0)\n",
    "img_reshape=np.expand_dims(img_reshape, axis=3)\n",
    "img_reshape=model.predict(img_reshape)\n",
    "pixels = np.matrix(img_reshape[:][:][:][0])\n",
    "plt.imshow(pixels,cmap=plt.get_cmap('gray'))\n",
    "plt.show()"
   ]
  },
  {
   "cell_type": "markdown",
   "metadata": {},
   "source": [
    "### Filters for Colour Images"
   ]
  },
  {
   "cell_type": "code",
   "execution_count": 10,
   "metadata": {},
   "outputs": [
    {
     "name": "stdout",
     "output_type": "stream",
     "text": [
      "5013\n",
      "imp_path Datasets/43534.png\n",
      "(32, 32, 3)\n",
      "[[[12.156863  10.666667   8.235294 ]\n",
      "  [12.941177   9.176471   7.6862745]\n",
      "  [13.490196   8.862745   8.       ]\n",
      "  [11.372549   7.372549   6.27451  ]\n",
      "  [11.607843   7.6862745  6.666667 ]]\n",
      "\n",
      " [[11.843138  10.745098   8.078431 ]\n",
      "  [13.960785  10.82353    8.941176 ]\n",
      "  [14.901961   9.960784   9.019608 ]\n",
      "  [13.411765   8.941176   7.921569 ]\n",
      "  [10.901961   6.666667   5.7254906]]\n",
      "\n",
      " [[11.6862755 10.745098   8.       ]\n",
      "  [13.803922  11.058825   9.09804  ]\n",
      "  [14.745098   9.725491   9.09804  ]\n",
      "  [15.686275  11.215687  10.82353  ]\n",
      "  [11.294118   7.0588236  6.745098 ]]\n",
      "\n",
      " [[11.294118  10.509805   7.764706 ]\n",
      "  [12.235294  10.3529415  8.156863 ]\n",
      "  [13.254902   9.725491   8.784314 ]\n",
      "  [17.960785  15.215687  14.901961 ]\n",
      "  [15.764706  13.09804   12.862745 ]]\n",
      "\n",
      " [[11.294118  10.666667   7.8431373]\n",
      "  [12.078432  11.058825   8.470589 ]\n",
      "  [14.039216  12.313726  10.509805 ]\n",
      "  [18.117647  16.62745   15.921569 ]\n",
      "  [17.960785  16.078432  15.764706 ]]]\n",
      "(5, 5, 3)\n"
     ]
    },
    {
     "data": {
      "text/plain": [
       "<matplotlib.image.AxesImage at 0x7feaf4c8d990>"
      ]
     },
     "execution_count": 10,
     "metadata": {},
     "output_type": "execute_result"
    },
    {
     "data": {
      "image/png": "[encoded data removed]",
      "text/plain": [
       "<Figure size 432x288 with 1 Axes>"
      ]
     },
     "metadata": {
      "needs_background": "light"
     },
     "output_type": "display_data"
    }
   ],
   "source": [
    "i=int(np.random.rand(1,1)*60000)\n",
    "print(i)\n",
    "\n",
    "imp_path=Data_path+\"43534.png\"\n",
    "print(\"imp_path\",imp_path)\n",
    "\n",
    "%matplotlib inline\n",
    "x=plt.imread(imp_path)\n",
    "print(x.shape)\n",
    "y=x[10:15,10:15]\n",
    "print(y*20)\n",
    "print(y.shape)\n",
    "plt.imshow((y*255).astype(np.uint8))"
   ]
  },
  {
   "cell_type": "markdown",
   "metadata": {},
   "source": [
    "## Zero Padding "
   ]
  },
  {
   "cell_type": "code",
   "execution_count": 11,
   "metadata": {},
   "outputs": [
    {
     "name": "stdout",
     "output_type": "stream",
     "text": [
      "Actual Image Shape  (28, 28)\n"
     ]
    },
    {
     "data": {
      "image/png": "[encoded data removed]",
      "text/plain": [
       "<Figure size 432x288 with 1 Axes>"
      ]
     },
     "metadata": {
      "needs_background": "light"
     },
     "output_type": "display_data"
    },
    {
     "name": "stdout",
     "output_type": "stream",
     "text": [
      "Random Weights Kennel siz3 7X7\n",
      "Output Shape  (22, 22)\n"
     ]
    },
    {
     "data": {
      "image/png": "[encoded data removed]",
      "text/plain": [
       "<Figure size 432x288 with 1 Axes>"
      ]
     },
     "metadata": {
      "needs_background": "light"
     },
     "output_type": "display_data"
    },
    {
     "name": "stdout",
     "output_type": "stream",
     "text": [
      "Random Weights Kennel siz3 5X5\n",
      "Output Shape  (24, 24)\n"
     ]
    },
    {
     "data": {
      "image/png": "[encoded data removed]",
      "text/plain": [
       "<Figure size 432x288 with 1 Axes>"
      ]
     },
     "metadata": {
      "needs_background": "light"
     },
     "output_type": "display_data"
    }
   ],
   "source": [
    "#i=int(np.random.rand(1,1)*60000)\n",
    "#634 #924 #952 #3611  #4458\n",
    "import numpy as np\n",
    "x=X_train[3611]\n",
    "\n",
    "print(\"Actual Image Shape \" ,  x.shape)\n",
    "plt.imshow(x, cmap=plt.get_cmap('gray'))\n",
    "plt.show()\n",
    "\n",
    "\n",
    "print(\"Random Weights Kennel siz3 7X7\")\n",
    "from tensorflow.keras.layers import Conv2D\n",
    "model=Sequential()\n",
    "model.add(Conv2D(filters=1,\n",
    "                 kernel_size=7,\n",
    "                 input_shape=(28,28,1),\n",
    "                 kernel_initializer='random_uniform'))\n",
    "\n",
    "img_reshape=np.expand_dims(x, axis=0)\n",
    "img_reshape=np.expand_dims(img_reshape, axis=3)\n",
    "img_reshape=model.predict(img_reshape)\n",
    "pixels = np.matrix(img_reshape[:][:][:][0])\n",
    "print(\"Output Shape \" ,pixels.shape)\n",
    "plt.imshow(pixels,cmap=plt.get_cmap('gray'))\n",
    "plt.show()\n",
    "\n",
    "\n",
    "print(\"Random Weights Kennel siz3 5X5\")\n",
    "from tensorflow.keras.layers import Conv2D\n",
    "model=Sequential()\n",
    "model.add(Conv2D(filters=1,\n",
    "                 kernel_size=5,\n",
    "                 input_shape=(28,28,1),\n",
    "                 kernel_initializer='random_uniform'))\n",
    "\n",
    "img_reshape=np.expand_dims(x, axis=0)\n",
    "img_reshape=np.expand_dims(img_reshape, axis=3)\n",
    "img_reshape=model.predict(img_reshape)\n",
    "pixels = np.matrix(img_reshape[:][:][:][0])\n",
    "print(\"Output Shape \" ,pixels.shape)\n",
    "plt.imshow(pixels,cmap=plt.get_cmap('gray'))\n",
    "plt.show()"
   ]
  },
  {
   "cell_type": "markdown",
   "metadata": {},
   "source": [
    "## CNN for CIFAR10"
   ]
  },
  {
   "cell_type": "code",
   "execution_count": 12,
   "metadata": {},
   "outputs": [],
   "source": [
    "from tensorflow.keras import datasets, layers, models\n",
    "import matplotlib.pyplot as plt"
   ]
  },
  {
   "cell_type": "code",
   "execution_count": 13,
   "metadata": {},
   "outputs": [
    {
     "name": "stdout",
     "output_type": "stream",
     "text": [
      "Downloading data from https://www.cs.toronto.edu/~kriz/cifar-10-python.tar.gz\n",
      "170500096/170498071 [==============================] - 6s 0us/step\n"
     ]
    }
   ],
   "source": [
    "(X_train, y_train), (X_test, y_test) = datasets.cifar10.load_data()\n",
    "\n",
    "# Normalize pixel values to be between 0 and 1\n",
    "X_train=X_train/255\n",
    "X_test=X_test/255"
   ]
  },
  {
   "cell_type": "code",
   "execution_count": 14,
   "metadata": {},
   "outputs": [
    {
     "name": "stdout",
     "output_type": "stream",
     "text": [
      "X_train.shape (50000, 32, 32, 3)\n",
      "y_train.shape (50000, 1)\n",
      "X_test.shape (10000, 32, 32, 3)\n",
      "y_test.shape (10000, 1)\n"
     ]
    }
   ],
   "source": [
    "print(\"X_train.shape\", X_train.shape)\n",
    "print(\"y_train.shape\", y_train.shape)\n",
    "print(\"X_test.shape\", X_test.shape)\n",
    "print(\"y_test.shape\", y_test.shape)"
   ]
  },
  {
   "cell_type": "code",
   "execution_count": 15,
   "metadata": {},
   "outputs": [
    {
     "data": {
      "image/png": "[encoded data removed]",
      "text/plain": [
       "<Figure size 720x720 with 16 Axes>"
      ]
     },
     "metadata": {},
     "output_type": "display_data"
    }
   ],
   "source": [
    "#Drawing Few images\n",
    "class_names = ['airplane', 'automobile', 'bird', 'cat', 'deer', 'dog', 'frog', 'horse', 'ship', 'truck']\n",
    "plt.figure(figsize=(10,10))\n",
    "for i in range(16):\n",
    "    plt.subplot(4,4,i+1)\n",
    "    plt.imshow(X_train[i], cmap=plt.cm.binary)\n",
    "    plt.xlabel(class_names[y_train[i][0]])\n",
    "    plt.xticks([])\n",
    "    plt.yticks([])\n",
    "plt.show()"
   ]
  },
  {
   "cell_type": "code",
   "execution_count": 16,
   "metadata": {},
   "outputs": [
    {
     "name": "stdout",
     "output_type": "stream",
     "text": [
      "Model: \"sequential_6\"\n",
      "_________________________________________________________________\n",
      "Layer (type)                 Output Shape              Param #   \n",
      "=================================================================\n",
      "conv2d_5 (Conv2D)            (None, 28, 28, 32)        2432      \n",
      "_________________________________________________________________\n",
      "max_pooling2d (MaxPooling2D) (None, 14, 14, 32)        0         \n",
      "_________________________________________________________________\n",
      "conv2d_6 (Conv2D)            (None, 12, 12, 64)        18496     \n",
      "_________________________________________________________________\n",
      "max_pooling2d_1 (MaxPooling2 (None, 6, 6, 64)          0         \n",
      "_________________________________________________________________\n",
      "conv2d_7 (Conv2D)            (None, 4, 4, 128)         73856     \n",
      "_________________________________________________________________\n",
      "flatten (Flatten)            (None, 2048)              0         \n",
      "_________________________________________________________________\n",
      "dense_3 (Dense)              (None, 64)                131136    \n",
      "_________________________________________________________________\n",
      "dense_4 (Dense)              (None, 10)                650       \n",
      "=================================================================\n",
      "Total params: 226,570\n",
      "Trainable params: 226,570\n",
      "Non-trainable params: 0\n",
      "_________________________________________________________________\n"
     ]
    }
   ],
   "source": [
    "model = models.Sequential()\n",
    "model.add(layers.Conv2D(32, (5, 5), activation='relu', input_shape=(32, 32, 3)))\n",
    "model.add(layers.MaxPooling2D((2, 2)))\n",
    "model.add(layers.Conv2D(64, (3, 3), activation='relu'))\n",
    "model.add(layers.MaxPooling2D((2, 2)))\n",
    "model.add(layers.Conv2D(128, (3, 3), activation='relu'))\n",
    "model.add(layers.Flatten())\n",
    "model.add(layers.Dense(64, activation='relu'))\n",
    "model.add(layers.Dense(10))\n",
    "model.summary()"
   ]
  },
  {
   "cell_type": "code",
   "execution_count": 17,
   "metadata": {},
   "outputs": [
    {
     "name": "stdout",
     "output_type": "stream",
     "text": [
      "Train on 50000 samples, validate on 10000 samples\n",
      "Epoch 1/12\n",
      "50000/50000 [==============================] - 43s 863us/sample - loss: 1.8022 - accuracy: 0.3407 - val_loss: 1.5440 - val_accuracy: 0.4367\n",
      "Epoch 2/12\n",
      "50000/50000 [==============================] - 43s 859us/sample - loss: 1.3931 - accuracy: 0.4987 - val_loss: 1.2796 - val_accuracy: 0.5508\n",
      "Epoch 3/12\n",
      "50000/50000 [==============================] - 43s 853us/sample - loss: 1.2231 - accuracy: 0.5663 - val_loss: 1.1926 - val_accuracy: 0.5784\n",
      "Epoch 4/12\n",
      "50000/50000 [==============================] - 43s 868us/sample - loss: 1.1001 - accuracy: 0.6114 - val_loss: 1.0486 - val_accuracy: 0.6404\n",
      "Epoch 5/12\n",
      "50000/50000 [==============================] - 40s 802us/sample - loss: 0.9964 - accuracy: 0.6483 - val_loss: 1.0227 - val_accuracy: 0.6435\n",
      "Epoch 6/12\n",
      "50000/50000 [==============================] - 42s 832us/sample - loss: 0.9107 - accuracy: 0.6804 - val_loss: 0.9782 - val_accuracy: 0.6610\n",
      "Epoch 7/12\n",
      "50000/50000 [==============================] - 42s 831us/sample - loss: 0.8355 - accuracy: 0.7067 - val_loss: 0.9406 - val_accuracy: 0.6724\n",
      "Epoch 8/12\n",
      "50000/50000 [==============================] - 41s 825us/sample - loss: 0.7725 - accuracy: 0.7308 - val_loss: 0.9429 - val_accuracy: 0.6770\n",
      "Epoch 9/12\n",
      "50000/50000 [==============================] - 41s 824us/sample - loss: 0.7106 - accuracy: 0.7522 - val_loss: 0.9661 - val_accuracy: 0.6696\n",
      "Epoch 10/12\n",
      "50000/50000 [==============================] - 42s 831us/sample - loss: 0.6548 - accuracy: 0.7706 - val_loss: 0.9337 - val_accuracy: 0.6833\n",
      "Epoch 11/12\n",
      "50000/50000 [==============================] - 42s 845us/sample - loss: 0.5986 - accuracy: 0.7908 - val_loss: 0.9411 - val_accuracy: 0.6861\n",
      "Epoch 12/12\n",
      "50000/50000 [==============================] - 42s 838us/sample - loss: 0.5490 - accuracy: 0.8078 - val_loss: 0.9830 - val_accuracy: 0.6856\n",
      "Execution time is 506 seconds\n"
     ]
    }
   ],
   "source": [
    "import time #To measure the execution time \n",
    "start = time.time()\n",
    "\n",
    "model.compile(optimizer=tf.keras.optimizers.SGD(learning_rate=0.01, momentum=0.1),\n",
    "              loss=tf.keras.losses.SparseCategoricalCrossentropy(from_logits=True),\n",
    "              metrics=['accuracy'])\n",
    "model.fit(X_train, y_train, \n",
    "          batch_size=16,\n",
    "          epochs=12, \n",
    "          validation_data=(X_test, y_test))\n",
    "\n",
    "end = time.time()\n",
    "print(\"Execution time is\", int(end - start), \"seconds\")"
   ]
  },
  {
   "cell_type": "markdown",
   "metadata": {},
   "source": [
    "## Case Study- Sign Language Reading from Images "
   ]
  },
  {
   "cell_type": "code",
   "execution_count": 20,
   "metadata": {},
   "outputs": [],
   "source": [
    "#Let us keep all the libraries ready\n",
    "import tensorflow.keras\n",
    "from tensorflow.keras.models import Model, Sequential\n",
    "from tensorflow.keras.layers import Dense, Dropout, Flatten, Input, AveragePooling2D,  Activation\n",
    "from tensorflow.keras.layers import Reshape, Input, Lambda\n",
    "from tensorflow.keras.layers import Conv2D, Convolution2D, MaxPooling2D, BatchNormalization\n",
    "from tensorflow.keras.layers import Concatenate, GlobalAveragePooling2D\n",
    "from tensorflow.keras.optimizers import Adam, SGD\n",
    "from tensorflow.keras import regularizers, initializers\n",
    "from tensorflow.keras.preprocessing.image import ImageDataGenerator\n",
    "\n",
    "import pandas as pd\n",
    "import numpy as np\n",
    "\n",
    "from sklearn.metrics import confusion_matrix\n",
    "import matplotlib.pyplot as plt\n",
    "%matplotlib inline\n",
    "\n",
    "from PIL import Image\n",
    "from matplotlib.pyplot import imshow, imsave\n",
    "import imageio\n",
    "import random"
   ]
  },
  {
   "cell_type": "code",
   "execution_count": 22,
   "metadata": {},
   "outputs": [
    {
     "ename": "FileNotFoundError",
     "evalue": "No such file: '/Users/shuang/Documents/GitHub/ML_DL_py_TF/Chapter11_CNN/Datasets/Sign_Language_Digits/Sign-Language-Digits-Dataset-master/Dataset/2/IMG_1120.JPG'",
     "output_type": "error",
     "traceback": [
      "\u001b[0;31m---------------------------------------------------------------------------\u001b[0m",
      "\u001b[0;31mFileNotFoundError\u001b[0m                         Traceback (most recent call last)",
      "\u001b[0;32m<ipython-input-22-ef9cb7aff586>\u001b[0m in \u001b[0;36m<module>\u001b[0;34m\u001b[0m\n\u001b[1;32m      4\u001b[0m \u001b[0mi\u001b[0m\u001b[0;34m=\u001b[0m\u001b[0mrandom\u001b[0m\u001b[0;34m.\u001b[0m\u001b[0mrandint\u001b[0m\u001b[0;34m(\u001b[0m\u001b[0;36m0\u001b[0m\u001b[0;34m,\u001b[0m \u001b[0;36m9\u001b[0m\u001b[0;34m)\u001b[0m\u001b[0;34m\u001b[0m\u001b[0;34m\u001b[0m\u001b[0m\n\u001b[1;32m      5\u001b[0m \u001b[0mimg_id\u001b[0m\u001b[0;34m=\u001b[0m\u001b[0;36m18\u001b[0m\u001b[0;34m+\u001b[0m\u001b[0mi\u001b[0m\u001b[0;34m\u001b[0m\u001b[0;34m\u001b[0m\u001b[0m\n\u001b[0;32m----> 6\u001b[0;31m \u001b[0mimg\u001b[0m\u001b[0;34m=\u001b[0m\u001b[0mimageio\u001b[0m\u001b[0;34m.\u001b[0m\u001b[0mimread\u001b[0m\u001b[0;34m(\u001b[0m\u001b[0mlocation\u001b[0m\u001b[0;34m+\u001b[0m\u001b[0mstr\u001b[0m\u001b[0;34m(\u001b[0m\u001b[0mi\u001b[0m\u001b[0;34m)\u001b[0m\u001b[0;34m+\u001b[0m\u001b[0;34m\"/IMG_11\"\u001b[0m\u001b[0;34m+\u001b[0m\u001b[0mstr\u001b[0m\u001b[0;34m(\u001b[0m\u001b[0mimg_id\u001b[0m\u001b[0;34m)\u001b[0m\u001b[0;34m+\u001b[0m\u001b[0;34m\".JPG\"\u001b[0m\u001b[0;34m)\u001b[0m\u001b[0;34m\u001b[0m\u001b[0;34m\u001b[0m\u001b[0m\n\u001b[0m\u001b[1;32m      7\u001b[0m \u001b[0max\u001b[0m\u001b[0;34m[\u001b[0m\u001b[0;36m0\u001b[0m\u001b[0;34m,\u001b[0m\u001b[0;36m0\u001b[0m\u001b[0;34m]\u001b[0m\u001b[0;34m.\u001b[0m\u001b[0mimshow\u001b[0m\u001b[0;34m(\u001b[0m\u001b[0mimg\u001b[0m\u001b[0;34m)\u001b[0m\u001b[0;34m\u001b[0m\u001b[0;34m\u001b[0m\u001b[0m\n\u001b[1;32m      8\u001b[0m \u001b[0;34m\u001b[0m\u001b[0m\n",
      "\u001b[0;32m~/opt/anaconda3/lib/python3.7/site-packages/imageio/core/functions.py\u001b[0m in \u001b[0;36mimread\u001b[0;34m(uri, format, **kwargs)\u001b[0m\n\u001b[1;32m    262\u001b[0m \u001b[0;34m\u001b[0m\u001b[0m\n\u001b[1;32m    263\u001b[0m     \u001b[0;31m# Get reader and read first\u001b[0m\u001b[0;34m\u001b[0m\u001b[0;34m\u001b[0m\u001b[0;34m\u001b[0m\u001b[0m\n\u001b[0;32m--> 264\u001b[0;31m     \u001b[0mreader\u001b[0m \u001b[0;34m=\u001b[0m \u001b[0mread\u001b[0m\u001b[0;34m(\u001b[0m\u001b[0muri\u001b[0m\u001b[0;34m,\u001b[0m \u001b[0mformat\u001b[0m\u001b[0;34m,\u001b[0m \u001b[0;34m\"i\"\u001b[0m\u001b[0;34m,\u001b[0m \u001b[0;34m**\u001b[0m\u001b[0mkwargs\u001b[0m\u001b[0;34m)\u001b[0m\u001b[0;34m\u001b[0m\u001b[0;34m\u001b[0m\u001b[0m\n\u001b[0m\u001b[1;32m    265\u001b[0m     \u001b[0;32mwith\u001b[0m \u001b[0mreader\u001b[0m\u001b[0;34m:\u001b[0m\u001b[0;34m\u001b[0m\u001b[0;34m\u001b[0m\u001b[0m\n\u001b[1;32m    266\u001b[0m         \u001b[0;32mreturn\u001b[0m \u001b[0mreader\u001b[0m\u001b[0;34m.\u001b[0m\u001b[0mget_data\u001b[0m\u001b[0;34m(\u001b[0m\u001b[0;36m0\u001b[0m\u001b[0;34m)\u001b[0m\u001b[0;34m\u001b[0m\u001b[0;34m\u001b[0m\u001b[0m\n",
      "\u001b[0;32m~/opt/anaconda3/lib/python3.7/site-packages/imageio/core/functions.py\u001b[0m in \u001b[0;36mget_reader\u001b[0;34m(uri, format, mode, **kwargs)\u001b[0m\n\u001b[1;32m    171\u001b[0m \u001b[0;34m\u001b[0m\u001b[0m\n\u001b[1;32m    172\u001b[0m     \u001b[0;31m# Create request object\u001b[0m\u001b[0;34m\u001b[0m\u001b[0;34m\u001b[0m\u001b[0;34m\u001b[0m\u001b[0m\n\u001b[0;32m--> 173\u001b[0;31m     \u001b[0mrequest\u001b[0m \u001b[0;34m=\u001b[0m \u001b[0mRequest\u001b[0m\u001b[0;34m(\u001b[0m\u001b[0muri\u001b[0m\u001b[0;34m,\u001b[0m \u001b[0;34m\"r\"\u001b[0m \u001b[0;34m+\u001b[0m \u001b[0mmode\u001b[0m\u001b[0;34m,\u001b[0m \u001b[0;34m**\u001b[0m\u001b[0mkwargs\u001b[0m\u001b[0;34m)\u001b[0m\u001b[0;34m\u001b[0m\u001b[0;34m\u001b[0m\u001b[0m\n\u001b[0m\u001b[1;32m    174\u001b[0m \u001b[0;34m\u001b[0m\u001b[0m\n\u001b[1;32m    175\u001b[0m     \u001b[0;31m# Get format\u001b[0m\u001b[0;34m\u001b[0m\u001b[0;34m\u001b[0m\u001b[0;34m\u001b[0m\u001b[0m\n",
      "\u001b[0;32m~/opt/anaconda3/lib/python3.7/site-packages/imageio/core/request.py\u001b[0m in \u001b[0;36m__init__\u001b[0;34m(self, uri, mode, **kwargs)\u001b[0m\n\u001b[1;32m    124\u001b[0m \u001b[0;34m\u001b[0m\u001b[0m\n\u001b[1;32m    125\u001b[0m         \u001b[0;31m# Parse what was given\u001b[0m\u001b[0;34m\u001b[0m\u001b[0;34m\u001b[0m\u001b[0;34m\u001b[0m\u001b[0m\n\u001b[0;32m--> 126\u001b[0;31m         \u001b[0mself\u001b[0m\u001b[0;34m.\u001b[0m\u001b[0m_parse_uri\u001b[0m\u001b[0;34m(\u001b[0m\u001b[0muri\u001b[0m\u001b[0;34m)\u001b[0m\u001b[0;34m\u001b[0m\u001b[0;34m\u001b[0m\u001b[0m\n\u001b[0m\u001b[1;32m    127\u001b[0m \u001b[0;34m\u001b[0m\u001b[0m\n\u001b[1;32m    128\u001b[0m         \u001b[0;31m# Set extension\u001b[0m\u001b[0;34m\u001b[0m\u001b[0;34m\u001b[0m\u001b[0;34m\u001b[0m\u001b[0m\n",
      "\u001b[0;32m~/opt/anaconda3/lib/python3.7/site-packages/imageio/core/request.py\u001b[0m in \u001b[0;36m_parse_uri\u001b[0;34m(self, uri)\u001b[0m\n\u001b[1;32m    276\u001b[0m                 \u001b[0;31m# Reading: check that the file exists (but is allowed a dir)\u001b[0m\u001b[0;34m\u001b[0m\u001b[0;34m\u001b[0m\u001b[0;34m\u001b[0m\u001b[0m\n\u001b[1;32m    277\u001b[0m                 \u001b[0;32mif\u001b[0m \u001b[0;32mnot\u001b[0m \u001b[0mos\u001b[0m\u001b[0;34m.\u001b[0m\u001b[0mpath\u001b[0m\u001b[0;34m.\u001b[0m\u001b[0mexists\u001b[0m\u001b[0;34m(\u001b[0m\u001b[0mfn\u001b[0m\u001b[0;34m)\u001b[0m\u001b[0;34m:\u001b[0m\u001b[0;34m\u001b[0m\u001b[0;34m\u001b[0m\u001b[0m\n\u001b[0;32m--> 278\u001b[0;31m                     \u001b[0;32mraise\u001b[0m \u001b[0mFileNotFoundError\u001b[0m\u001b[0;34m(\u001b[0m\u001b[0;34m\"No such file: '%s'\"\u001b[0m \u001b[0;34m%\u001b[0m \u001b[0mfn\u001b[0m\u001b[0;34m)\u001b[0m\u001b[0;34m\u001b[0m\u001b[0;34m\u001b[0m\u001b[0m\n\u001b[0m\u001b[1;32m    279\u001b[0m             \u001b[0;32melse\u001b[0m\u001b[0;34m:\u001b[0m\u001b[0;34m\u001b[0m\u001b[0;34m\u001b[0m\u001b[0m\n\u001b[1;32m    280\u001b[0m                 \u001b[0;31m# Writing: check that the directory to write to does exist\u001b[0m\u001b[0;34m\u001b[0m\u001b[0;34m\u001b[0m\u001b[0;34m\u001b[0m\u001b[0m\n",
      "\u001b[0;31mFileNotFoundError\u001b[0m: No such file: '/Users/shuang/Documents/GitHub/ML_DL_py_TF/Chapter11_CNN/Datasets/Sign_Language_Digits/Sign-Language-Digits-Dataset-master/Dataset/2/IMG_1120.JPG'"
     ]
    },
    {
     "data": {
      "image/png": "[encoded data removed]",
      "text/plain": [
       "<Figure size 432x288 with 4 Axes>"
      ]
     },
     "metadata": {
      "needs_background": "light"
     },
     "output_type": "display_data"
    }
   ],
   "source": [
    "#Few random Images\n",
    "fig, ax = plt.subplots(2,2)\n",
    "location=Data_path+'Sign_Language_Digits/Sign-Language-Digits-Dataset-master/Dataset/'\n",
    "i=random.randint(0, 9)\n",
    "img_id=18+i\n",
    "img=imageio.imread(location+str(i)+\"/IMG_11\"+str(img_id)+\".JPG\")\n",
    "ax[0,0].imshow(img)\n",
    "\n",
    "i=random.randint(0, 9)\n",
    "img_id=18+i\n",
    "img=imageio.imread(location+str(i)+\"/IMG_11\"+str(img_id)+\".JPG\")\n",
    "ax[0,1].imshow(img)\n",
    "\n",
    "i=random.randint(0, 9)\n",
    "img_id=18+i\n",
    "img=imageio.imread(location+str(i)+\"/IMG_11\"+str(img_id)+\".JPG\")\n",
    "ax[1,0].imshow(img)\n",
    "\n",
    "i=random.randint(0, 9)\n",
    "img_id=18+i\n",
    "img=imageio.imread(location+str(i)+\"/IMG_11\"+str(img_id)+\".JPG\")\n",
    "ax[1,1].imshow(img)"
   ]
  },
  {
   "cell_type": "code",
   "execution_count": 23,
   "metadata": {},
   "outputs": [
    {
     "name": "stdout",
     "output_type": "stream",
     "text": [
      "Found 1652 images belonging to 10 classes.\n",
      "Found 409 images belonging to 10 classes.\n"
     ]
    }
   ],
   "source": [
    "########################\n",
    "# Generators\n",
    "########################\n",
    "\n",
    "from tensorflow.keras.preprocessing.image import ImageDataGenerator\n",
    "\n",
    "batch_size = 256\n",
    "target_size = (100,100)\n",
    "\n",
    "\n",
    "########################\n",
    "# Data Directory\n",
    "########################\n",
    "\n",
    "data_dir = location  # this is the image datasets directory\n",
    "location_1=Data_path+\"Sign_language_digits_dataset_64_64/\"\n",
    "########################\n",
    "# Data generator : Any preprocessing options/steps can be  defined here\n",
    "########################\n",
    "datagen = ImageDataGenerator(rescale = 1./255,  # scaling the images matrix(standard preprocessing step)\n",
    "                             validation_split=0.2) # set validation split\n",
    "\n",
    "########################\n",
    "# Train generator\n",
    "########################\n",
    "train_generator = datagen.flow_from_directory(\n",
    "    data_dir,\n",
    "    target_size=target_size,   # resizing the input images to a specific size\n",
    "    batch_size=batch_size,     # Batch size, iterator will generate a random batch with this size\n",
    "    color_mode = 'grayscale',  # keeping the channel to grayscale for easy calculations\n",
    "    class_mode='categorical',\n",
    "    shuffle=True,\n",
    "    subset=\"training\") \n",
    "\n",
    "########################\n",
    "# Validation generator\n",
    "########################\n",
    "\n",
    "validation_generator = datagen.flow_from_directory(\n",
    "    data_dir, # same directory as training data\n",
    "    target_size=target_size,\n",
    "    batch_size=batch_size,\n",
    "    color_mode = 'grayscale', \n",
    "    class_mode='categorical',\n",
    "    shuffle=True,\n",
    "    subset=\"validation\") # set as validation data"
   ]
  },
  {
   "cell_type": "code",
   "execution_count": 24,
   "metadata": {},
   "outputs": [
    {
     "name": "stdout",
     "output_type": "stream",
     "text": [
      "Model: \"sequential_7\"\n",
      "_________________________________________________________________\n",
      "Layer (type)                 Output Shape              Param #   \n",
      "=================================================================\n",
      "conv2d_8 (Conv2D)            (None, 98, 98, 64)        640       \n",
      "_________________________________________________________________\n",
      "max_pooling2d_2 (MaxPooling2 (None, 49, 49, 64)        0         \n",
      "_________________________________________________________________\n",
      "conv2d_9 (Conv2D)            (None, 47, 47, 64)        36928     \n",
      "_________________________________________________________________\n",
      "max_pooling2d_3 (MaxPooling2 (None, 23, 23, 64)        0         \n",
      "_________________________________________________________________\n",
      "conv2d_10 (Conv2D)           (None, 21, 21, 64)        36928     \n",
      "_________________________________________________________________\n",
      "max_pooling2d_4 (MaxPooling2 (None, 10, 10, 64)        0         \n",
      "_________________________________________________________________\n",
      "flatten_1 (Flatten)          (None, 6400)              0         \n",
      "_________________________________________________________________\n",
      "dense_5 (Dense)              (None, 256)               1638656   \n",
      "_________________________________________________________________\n",
      "dense_6 (Dense)              (None, 10)                2570      \n",
      "=================================================================\n",
      "Total params: 1,715,722\n",
      "Trainable params: 1,715,722\n",
      "Non-trainable params: 0\n",
      "_________________________________________________________________\n"
     ]
    }
   ],
   "source": [
    "model1 = Sequential()\n",
    "\n",
    "# Convolution layer\n",
    "model1.add(Conv2D(64, (3, 3), input_shape = (100, 100, 1), activation = 'relu'))\n",
    "\n",
    "# Pooling layer\n",
    "model1.add(MaxPooling2D(pool_size = (2, 2)))\n",
    "\n",
    "# Adding second convolutional layer\n",
    "model1.add(Conv2D(64, (3, 3), activation = 'relu'))\n",
    "model1.add(MaxPooling2D(pool_size = (2, 2)))\n",
    "\n",
    "# Adding third convolutional layer\n",
    "model1.add(Conv2D(64, (3, 3), activation = 'relu'))\n",
    "model1.add(MaxPooling2D(pool_size = (2, 2)))\n",
    "\n",
    "# Flattening\n",
    "model1.add(Flatten())\n",
    "\n",
    "# Step 4 - Fully connected dense layers\n",
    "model1.add(Dense(units = 256, activation = 'relu'))\n",
    "model1.add(Dense(units = 10, activation = 'softmax'))\n",
    "\n",
    "model1.summary()"
   ]
  },
  {
   "cell_type": "code",
   "execution_count": 25,
   "metadata": {},
   "outputs": [
    {
     "name": "stdout",
     "output_type": "stream",
     "text": [
      "Epoch 1/20\n",
      "7/7 [==============================] - 20s 3s/step - loss: 2.3051 - accuracy: 0.1192 - val_loss: 2.3008 - val_accuracy: 0.1394\n",
      "Epoch 2/20\n",
      "7/7 [==============================] - 17s 2s/step - loss: 2.3000 - accuracy: 0.1259 - val_loss: 2.2988 - val_accuracy: 0.1051\n",
      "Epoch 3/20\n",
      "7/7 [==============================] - 17s 2s/step - loss: 2.2968 - accuracy: 0.1047 - val_loss: 2.2966 - val_accuracy: 0.1002\n",
      "Epoch 4/20\n",
      "7/7 [==============================] - 17s 2s/step - loss: 2.2923 - accuracy: 0.1846 - val_loss: 2.2936 - val_accuracy: 0.2274\n",
      "Epoch 5/20\n",
      "7/7 [==============================] - 17s 2s/step - loss: 2.2872 - accuracy: 0.1671 - val_loss: 2.2885 - val_accuracy: 0.1320\n",
      "Epoch 6/20\n",
      "7/7 [==============================] - 18s 3s/step - loss: 2.2824 - accuracy: 0.1943 - val_loss: 2.2831 - val_accuracy: 0.1663\n",
      "Epoch 7/20\n",
      "7/7 [==============================] - 17s 2s/step - loss: 2.2731 - accuracy: 0.2785 - val_loss: 2.2742 - val_accuracy: 0.2249\n",
      "Epoch 8/20\n",
      "7/7 [==============================] - 18s 3s/step - loss: 2.2535 - accuracy: 0.3372 - val_loss: 2.2597 - val_accuracy: 0.2152\n",
      "Epoch 9/20\n",
      "7/7 [==============================] - 17s 2s/step - loss: 2.2225 - accuracy: 0.3245 - val_loss: 2.2291 - val_accuracy: 0.3203\n",
      "Epoch 10/20\n",
      "7/7 [==============================] - 17s 2s/step - loss: 2.1740 - accuracy: 0.2803 - val_loss: 2.1586 - val_accuracy: 0.3423\n",
      "Epoch 11/20\n",
      "7/7 [==============================] - 17s 2s/step - loss: 2.0459 - accuracy: 0.3953 - val_loss: 2.1762 - val_accuracy: 0.1809\n",
      "Epoch 12/20\n",
      "7/7 [==============================] - 17s 2s/step - loss: 1.9099 - accuracy: 0.3426 - val_loss: 1.8472 - val_accuracy: 0.3301\n",
      "Epoch 13/20\n",
      "7/7 [==============================] - 17s 2s/step - loss: 1.5329 - accuracy: 0.5061 - val_loss: 1.5755 - val_accuracy: 0.4597\n",
      "Epoch 14/20\n",
      "7/7 [==============================] - 18s 3s/step - loss: 1.0718 - accuracy: 0.6519 - val_loss: 1.2765 - val_accuracy: 0.5306\n",
      "Epoch 15/20\n",
      "7/7 [==============================] - 18s 3s/step - loss: 0.7954 - accuracy: 0.7482 - val_loss: 1.3597 - val_accuracy: 0.5623\n",
      "Epoch 16/20\n",
      "7/7 [==============================] - 17s 2s/step - loss: 0.6384 - accuracy: 0.7857 - val_loss: 1.3416 - val_accuracy: 0.5844\n",
      "Epoch 17/20\n",
      "7/7 [==============================] - 18s 3s/step - loss: 0.5280 - accuracy: 0.8341 - val_loss: 1.3155 - val_accuracy: 0.5819\n",
      "Epoch 18/20\n",
      "7/7 [==============================] - 18s 3s/step - loss: 0.4599 - accuracy: 0.8517 - val_loss: 1.2836 - val_accuracy: 0.6235\n",
      "Epoch 19/20\n",
      "7/7 [==============================] - 17s 2s/step - loss: 0.4042 - accuracy: 0.8717 - val_loss: 1.4280 - val_accuracy: 0.5941\n",
      "Epoch 20/20\n",
      "7/7 [==============================] - 17s 2s/step - loss: 0.3433 - accuracy: 0.8983 - val_loss: 1.5008 - val_accuracy: 0.5844\n",
      "Execution time is 351 seconds\n"
     ]
    }
   ],
   "source": [
    "# model1 compilation\n",
    "model1.compile(optimizer =SGD(lr=0.01, momentum = 0.9), loss = 'categorical_crossentropy', metrics = ['accuracy'])\n",
    "\n",
    "########################\n",
    "# fit model and train\n",
    "########################\n",
    "\n",
    "import time\n",
    "start = time.time()\n",
    "\n",
    "model1.fit_generator(\n",
    "        train_generator, \n",
    "        steps_per_epoch = len(train_generator), #total number of batches in one train epoch(train observation/batch size; also called iterations per epoch)\n",
    "        epochs=20,\n",
    "        validation_data = validation_generator,\n",
    "        validation_steps = len(validation_generator), #total number of batches in validation(validation observation/batch size)\n",
    "        verbose=1)\n",
    "\n",
    "model1.save_weights('m1_Sign_Language_20epochs.h5')\n",
    "\n",
    "end = time.time()\n",
    "print(\"Execution time is\", int(end - start), \"seconds\")"
   ]
  },
  {
   "cell_type": "code",
   "execution_count": 26,
   "metadata": {},
   "outputs": [
    {
     "name": "stdout",
     "output_type": "stream",
     "text": [
      "Epoch 1/2\n",
      "7/7 [==============================] - 18s 3s/step - loss: 0.3383 - accuracy: 0.8868 - val_loss: 1.8195 - val_accuracy: 0.5819\n",
      "Epoch 2/2\n",
      "7/7 [==============================] - 17s 2s/step - loss: 0.3233 - accuracy: 0.8941 - val_loss: 2.2363 - val_accuracy: 0.5575\n"
     ]
    },
    {
     "data": {
      "text/plain": [
       "<tensorflow.python.keras.callbacks.History at 0x7fea313c8fd0>"
      ]
     },
     "execution_count": 26,
     "metadata": {},
     "output_type": "execute_result"
    }
   ],
   "source": [
    "model1.load_weights(Data_path+\"/Pre_trained_models/m1_Sign_Language_20epochs.h5\")\n",
    "\n",
    "model1.fit_generator(\n",
    "        train_generator, \n",
    "        steps_per_epoch = len(train_generator), \n",
    "        epochs=2,\n",
    "        validation_data = validation_generator,\n",
    "        validation_steps = len(validation_generator), \n",
    "        verbose=1)"
   ]
  },
  {
   "cell_type": "code",
   "execution_count": 27,
   "metadata": {},
   "outputs": [
    {
     "name": "stdout",
     "output_type": "stream",
     "text": [
      "Epoch 1/2\n",
      "7/7 [==============================] - 18s 3s/step - loss: 0.0046 - accuracy: 1.0000 - val_loss: 2.2228 - val_accuracy: 0.6430\n",
      "Epoch 2/2\n",
      "7/7 [==============================] - 17s 2s/step - loss: 0.0048 - accuracy: 1.0000 - val_loss: 2.0968 - val_accuracy: 0.6455\n"
     ]
    },
    {
     "data": {
      "text/plain": [
       "<tensorflow.python.keras.callbacks.History at 0x7fea313c8110>"
      ]
     },
     "execution_count": 27,
     "metadata": {},
     "output_type": "execute_result"
    }
   ],
   "source": [
    "model1.load_weights(Data_path+\"/Pre_trained_models/m1_Sign_Language_50epochs.h5\")\n",
    "\n",
    "model1.fit_generator(\n",
    "        train_generator, \n",
    "        steps_per_epoch = len(train_generator), \n",
    "        epochs=2,\n",
    "        validation_data = validation_generator,\n",
    "        validation_steps = len(validation_generator), \n",
    "        verbose=1)"
   ]
  },
  {
   "cell_type": "markdown",
   "metadata": {},
   "source": [
    "# Model2 - Model with Receptive field "
   ]
  },
  {
   "cell_type": "markdown",
   "metadata": {},
   "source": [
    "Change the image shape to 64X64 "
   ]
  },
  {
   "cell_type": "code",
   "execution_count": 28,
   "metadata": {},
   "outputs": [
    {
     "name": "stdout",
     "output_type": "stream",
     "text": [
      "Found 1652 images belonging to 10 classes.\n",
      "Found 409 images belonging to 10 classes.\n"
     ]
    }
   ],
   "source": [
    "########################\n",
    "# Generators\n",
    "########################\n",
    "\n",
    "from tensorflow.keras.preprocessing.image import ImageDataGenerator\n",
    "\n",
    "batch_size = 256\n",
    "target_size = (64,64)\n",
    "\n",
    "\n",
    "########################\n",
    "# Data Directory\n",
    "########################\n",
    "\n",
    "data_dir = location  # this is the image datasets directory\n",
    "\n",
    "########################\n",
    "# Data generator : Any preprocessing options/steps can be  defined here\n",
    "########################\n",
    "datagen = ImageDataGenerator(rescale = 1./255,  # scaling the images matrix(standard preprocessing step)\n",
    "                             validation_split=0.2) # set validation split\n",
    "\n",
    "########################\n",
    "# Train generator\n",
    "########################\n",
    "train_generator = datagen.flow_from_directory(\n",
    "    data_dir,\n",
    "    target_size=target_size,   # resizing the input images to a specific size\n",
    "    batch_size=batch_size,     # Batch size, iterator will generate a random batch with this size\n",
    "    color_mode = 'grayscale',  # keeping the channel to grayscale for easy calculations\n",
    "    class_mode='categorical',\n",
    "    shuffle=True,\n",
    "    subset=\"training\") # set as training data\n",
    "\n",
    "########################\n",
    "# Validation generator\n",
    "########################\n",
    "\n",
    "validation_generator = datagen.flow_from_directory(\n",
    "    data_dir, # same directory as training data\n",
    "    target_size=target_size,\n",
    "    batch_size=batch_size,\n",
    "    color_mode = 'grayscale', \n",
    "    class_mode='categorical',\n",
    "    shuffle=True,\n",
    "    subset=\"validation\") # set as validation data"
   ]
  },
  {
   "cell_type": "code",
   "execution_count": 29,
   "metadata": {},
   "outputs": [
    {
     "name": "stdout",
     "output_type": "stream",
     "text": [
      "Model: \"sequential_8\"\n",
      "_________________________________________________________________\n",
      "Layer (type)                 Output Shape              Param #   \n",
      "=================================================================\n",
      "conv2d_11 (Conv2D)           (None, 62, 62, 16)        160       \n",
      "_________________________________________________________________\n",
      "conv2d_12 (Conv2D)           (None, 60, 60, 32)        4640      \n",
      "_________________________________________________________________\n",
      "max_pooling2d_5 (MaxPooling2 (None, 30, 30, 32)        0         \n",
      "_________________________________________________________________\n",
      "conv2d_13 (Conv2D)           (None, 28, 28, 64)        18496     \n",
      "_________________________________________________________________\n",
      "conv2d_14 (Conv2D)           (None, 26, 26, 64)        36928     \n",
      "_________________________________________________________________\n",
      "max_pooling2d_6 (MaxPooling2 (None, 13, 13, 64)        0         \n",
      "_________________________________________________________________\n",
      "conv2d_15 (Conv2D)           (None, 11, 11, 128)       73856     \n",
      "_________________________________________________________________\n",
      "conv2d_16 (Conv2D)           (None, 9, 9, 128)         147584    \n",
      "_________________________________________________________________\n",
      "max_pooling2d_7 (MaxPooling2 (None, 4, 4, 128)         0         \n",
      "_________________________________________________________________\n",
      "flatten_2 (Flatten)          (None, 2048)              0         \n",
      "_________________________________________________________________\n",
      "dense_7 (Dense)              (None, 32)                65568     \n",
      "_________________________________________________________________\n",
      "dense_8 (Dense)              (None, 10)                330       \n",
      "=================================================================\n",
      "Total params: 347,562\n",
      "Trainable params: 347,562\n",
      "Non-trainable params: 0\n",
      "_________________________________________________________________\n"
     ]
    }
   ],
   "source": [
    "model2 = Sequential()\n",
    "\n",
    "# Convolution and Pooling layers\n",
    "model2.add(Conv2D(16, (3, 3), input_shape = (64, 64, 1), activation = 'relu'))\n",
    "model2.add(Conv2D(32, (3, 3), activation = 'relu'))\n",
    "model2.add(MaxPooling2D(pool_size = (2, 2)))\n",
    "\n",
    "\n",
    "model2.add(Conv2D(64, (3, 3), activation = 'relu'))\n",
    "model2.add(Conv2D(64, (3, 3), activation = 'relu'))\n",
    "model2.add(MaxPooling2D(pool_size = (2, 2)))\n",
    "\n",
    "model2.add(Conv2D(128, (3, 3), activation = 'relu'))\n",
    "model2.add(Conv2D(128, (3, 3), activation = 'relu'))\n",
    "model2.add(MaxPooling2D(pool_size = (2, 2)))\n",
    "\n",
    "\n",
    "# Flattening and  Fully connected dense layers\n",
    "model2.add(Flatten())\n",
    "model2.add(Dense(units = 32, activation = 'relu'))\n",
    "model2.add(Dense(units = 10, activation = 'softmax'))\n",
    "\n",
    "model2.summary()"
   ]
  },
  {
   "cell_type": "code",
   "execution_count": 30,
   "metadata": {},
   "outputs": [
    {
     "name": "stdout",
     "output_type": "stream",
     "text": [
      "Epoch 1/50\n",
      "7/7 [==============================] - 10s 1s/step - loss: 2.3031 - accuracy: 0.1017 - val_loss: 2.3026 - val_accuracy: 0.1051\n",
      "Epoch 2/50\n",
      "7/7 [==============================] - 10s 1s/step - loss: 2.3021 - accuracy: 0.1011 - val_loss: 2.3023 - val_accuracy: 0.1002\n",
      "Epoch 3/50\n",
      "7/7 [==============================] - 10s 1s/step - loss: 2.3014 - accuracy: 0.1029 - val_loss: 2.3015 - val_accuracy: 0.1125\n",
      "Epoch 4/50\n",
      "7/7 [==============================] - 10s 1s/step - loss: 2.3005 - accuracy: 0.1102 - val_loss: 2.3008 - val_accuracy: 0.1198\n",
      "Epoch 5/50\n",
      "7/7 [==============================] - 10s 1s/step - loss: 2.2995 - accuracy: 0.1120 - val_loss: 2.2997 - val_accuracy: 0.1002\n",
      "Epoch 6/50\n",
      "7/7 [==============================] - 10s 1s/step - loss: 2.2987 - accuracy: 0.1035 - val_loss: 2.2994 - val_accuracy: 0.1051\n",
      "Epoch 7/50\n",
      "7/7 [==============================] - 10s 1s/step - loss: 2.2974 - accuracy: 0.1120 - val_loss: 2.2985 - val_accuracy: 0.1589\n",
      "Epoch 8/50\n",
      "7/7 [==============================] - 10s 1s/step - loss: 2.2959 - accuracy: 0.1804 - val_loss: 2.2972 - val_accuracy: 0.2274\n",
      "Epoch 9/50\n",
      "7/7 [==============================] - 10s 1s/step - loss: 2.2944 - accuracy: 0.2228 - val_loss: 2.2961 - val_accuracy: 0.1809\n",
      "Epoch 10/50\n",
      "7/7 [==============================] - 10s 1s/step - loss: 2.2919 - accuracy: 0.1864 - val_loss: 2.2947 - val_accuracy: 0.1907\n",
      "Epoch 11/50\n",
      "7/7 [==============================] - 9s 1s/step - loss: 2.2890 - accuracy: 0.2633 - val_loss: 2.2918 - val_accuracy: 0.2689\n",
      "Epoch 12/50\n",
      "7/7 [==============================] - 10s 1s/step - loss: 2.2845 - accuracy: 0.3154 - val_loss: 2.2887 - val_accuracy: 0.2347\n",
      "Epoch 13/50\n",
      "7/7 [==============================] - 10s 1s/step - loss: 2.2789 - accuracy: 0.3602 - val_loss: 2.2826 - val_accuracy: 0.2518\n",
      "Epoch 14/50\n",
      "7/7 [==============================] - 10s 1s/step - loss: 2.2699 - accuracy: 0.3656 - val_loss: 2.2741 - val_accuracy: 0.2689\n",
      "Epoch 15/50\n",
      "7/7 [==============================] - 10s 1s/step - loss: 2.2533 - accuracy: 0.3626 - val_loss: 2.2588 - val_accuracy: 0.2396\n",
      "Epoch 16/50\n",
      "7/7 [==============================] - 10s 1s/step - loss: 2.2238 - accuracy: 0.3699 - val_loss: 2.2283 - val_accuracy: 0.2836\n",
      "Epoch 17/50\n",
      "7/7 [==============================] - 10s 1s/step - loss: 2.1607 - accuracy: 0.4431 - val_loss: 2.1549 - val_accuracy: 0.2983\n",
      "Epoch 18/50\n",
      "7/7 [==============================] - 10s 1s/step - loss: 1.9867 - accuracy: 0.4219 - val_loss: 1.9942 - val_accuracy: 0.3276\n",
      "Epoch 19/50\n",
      "7/7 [==============================] - 10s 1s/step - loss: 1.8090 - accuracy: 0.3844 - val_loss: 2.1551 - val_accuracy: 0.2200\n",
      "Epoch 20/50\n",
      "7/7 [==============================] - 10s 1s/step - loss: 1.5322 - accuracy: 0.4740 - val_loss: 1.6675 - val_accuracy: 0.4841\n",
      "Epoch 21/50\n",
      "7/7 [==============================] - 10s 1s/step - loss: 0.9817 - accuracy: 0.6429 - val_loss: 1.7339 - val_accuracy: 0.5208\n",
      "Epoch 22/50\n",
      "7/7 [==============================] - 10s 1s/step - loss: 0.8031 - accuracy: 0.7270 - val_loss: 1.5869 - val_accuracy: 0.5526\n",
      "Epoch 23/50\n",
      "7/7 [==============================] - 10s 1s/step - loss: 0.6719 - accuracy: 0.7809 - val_loss: 1.5579 - val_accuracy: 0.5770\n",
      "Epoch 24/50\n",
      "7/7 [==============================] - 10s 1s/step - loss: 0.5319 - accuracy: 0.8160 - val_loss: 1.6058 - val_accuracy: 0.5746\n",
      "Epoch 25/50\n",
      "7/7 [==============================] - 10s 1s/step - loss: 0.4378 - accuracy: 0.8577 - val_loss: 1.5636 - val_accuracy: 0.5844\n",
      "Epoch 26/50\n",
      "7/7 [==============================] - 10s 1s/step - loss: 0.3774 - accuracy: 0.8729 - val_loss: 1.5960 - val_accuracy: 0.6064\n",
      "Epoch 27/50\n",
      "7/7 [==============================] - 10s 1s/step - loss: 0.3184 - accuracy: 0.8886 - val_loss: 1.6293 - val_accuracy: 0.5941\n",
      "Epoch 28/50\n",
      "7/7 [==============================] - 10s 1s/step - loss: 0.2993 - accuracy: 0.8995 - val_loss: 1.4763 - val_accuracy: 0.6186\n",
      "Epoch 29/50\n",
      "7/7 [==============================] - 10s 1s/step - loss: 0.2550 - accuracy: 0.9213 - val_loss: 1.7324 - val_accuracy: 0.6284\n",
      "Epoch 30/50\n",
      "7/7 [==============================] - 10s 1s/step - loss: 0.2112 - accuracy: 0.9352 - val_loss: 1.6337 - val_accuracy: 0.6553\n",
      "Epoch 31/50\n",
      "7/7 [==============================] - 10s 1s/step - loss: 0.1882 - accuracy: 0.9364 - val_loss: 1.5645 - val_accuracy: 0.6357\n",
      "Epoch 32/50\n",
      "7/7 [==============================] - 10s 1s/step - loss: 0.1796 - accuracy: 0.9413 - val_loss: 1.6956 - val_accuracy: 0.6015\n",
      "Epoch 33/50\n",
      "7/7 [==============================] - 10s 1s/step - loss: 0.1508 - accuracy: 0.9473 - val_loss: 1.5045 - val_accuracy: 0.6528\n",
      "Epoch 34/50\n",
      "7/7 [==============================] - 10s 1s/step - loss: 0.1209 - accuracy: 0.9576 - val_loss: 1.5628 - val_accuracy: 0.6553\n",
      "Epoch 35/50\n",
      "7/7 [==============================] - 10s 1s/step - loss: 0.1065 - accuracy: 0.9673 - val_loss: 1.8058 - val_accuracy: 0.6406\n",
      "Epoch 36/50\n",
      "7/7 [==============================] - 10s 1s/step - loss: 0.0856 - accuracy: 0.9752 - val_loss: 1.7253 - val_accuracy: 0.6406\n",
      "Epoch 37/50\n",
      "7/7 [==============================] - 9s 1s/step - loss: 0.0775 - accuracy: 0.9746 - val_loss: 1.7093 - val_accuracy: 0.6675\n",
      "Epoch 38/50\n",
      "7/7 [==============================] - 9s 1s/step - loss: 0.0624 - accuracy: 0.9818 - val_loss: 1.6886 - val_accuracy: 0.6870\n",
      "Epoch 39/50\n",
      "7/7 [==============================] - 9s 1s/step - loss: 0.0573 - accuracy: 0.9812 - val_loss: 1.6306 - val_accuracy: 0.7164\n",
      "Epoch 40/50\n",
      "7/7 [==============================] - 9s 1s/step - loss: 0.0569 - accuracy: 0.9843 - val_loss: 1.7573 - val_accuracy: 0.6846\n",
      "Epoch 41/50\n",
      "7/7 [==============================] - 9s 1s/step - loss: 0.0573 - accuracy: 0.9849 - val_loss: 1.6364 - val_accuracy: 0.6944\n",
      "Epoch 42/50\n",
      "7/7 [==============================] - 10s 1s/step - loss: 0.0571 - accuracy: 0.9782 - val_loss: 1.7327 - val_accuracy: 0.6553\n",
      "Epoch 43/50\n",
      "7/7 [==============================] - 9s 1s/step - loss: 0.0666 - accuracy: 0.9758 - val_loss: 2.0140 - val_accuracy: 0.6381\n",
      "Epoch 44/50\n",
      "7/7 [==============================] - 10s 1s/step - loss: 0.0666 - accuracy: 0.9758 - val_loss: 2.0935 - val_accuracy: 0.6479\n",
      "Epoch 45/50\n",
      "7/7 [==============================] - 10s 1s/step - loss: 0.0430 - accuracy: 0.9873 - val_loss: 2.2910 - val_accuracy: 0.6675\n",
      "Epoch 46/50\n",
      "7/7 [==============================] - 9s 1s/step - loss: 0.0298 - accuracy: 0.9909 - val_loss: 1.9646 - val_accuracy: 0.6993\n",
      "Epoch 47/50\n",
      "7/7 [==============================] - 10s 1s/step - loss: 0.0163 - accuracy: 0.9970 - val_loss: 2.1746 - val_accuracy: 0.6553\n",
      "Epoch 48/50\n",
      "7/7 [==============================] - 9s 1s/step - loss: 0.0147 - accuracy: 0.9964 - val_loss: 1.7744 - val_accuracy: 0.7066\n",
      "Epoch 49/50\n",
      "7/7 [==============================] - 10s 1s/step - loss: 0.0105 - accuracy: 0.9988 - val_loss: 1.7888 - val_accuracy: 0.7066\n",
      "Epoch 50/50\n",
      "7/7 [==============================] - 10s 1s/step - loss: 0.0079 - accuracy: 0.9988 - val_loss: 1.8242 - val_accuracy: 0.7164\n",
      "Execution time is 481 seconds\n"
     ]
    }
   ],
   "source": [
    "# model compilation\n",
    "model2.compile(optimizer =SGD(lr=0.01, momentum = 0.9), loss = 'categorical_crossentropy', metrics = ['accuracy'])\n",
    "\n",
    "########################\n",
    "# fit model and train\n",
    "########################\n",
    "\n",
    "import time\n",
    "start = time.time()\n",
    "\n",
    "model2.fit_generator(\n",
    "        train_generator, \n",
    "        steps_per_epoch = len(train_generator), #total number of batches in one train epoch(train observation/batch size; also called iterations per epoch)\n",
    "        epochs=50,\n",
    "        validation_data = validation_generator,\n",
    "        validation_steps = len(validation_generator), #total number of batches in validation(validation observation/batch size)\n",
    "        verbose=1)\n",
    "\n",
    "model2.save_weights('m2_Receptive_field_50epochs.h5')\n",
    "\n",
    "end = time.time()\n",
    "print(\"Execution time is\", int(end - start), \"seconds\")"
   ]
  },
  {
   "cell_type": "code",
   "execution_count": 34,
   "metadata": {},
   "outputs": [
    {
     "name": "stdout",
     "output_type": "stream",
     "text": [
      "Epoch 1/2\n",
      "7/7 [==============================] - 10s 1s/step - loss: 0.0034 - accuracy: 1.0000 - val_loss: 1.8918 - val_accuracy: 0.7139\n",
      "Epoch 2/2\n",
      "7/7 [==============================] - 10s 1s/step - loss: 0.0018 - accuracy: 1.0000 - val_loss: 1.8974 - val_accuracy: 0.7139\n"
     ]
    },
    {
     "data": {
      "text/plain": [
       "<tensorflow.python.keras.callbacks.History at 0x7fe9107635d0>"
      ]
     },
     "execution_count": 34,
     "metadata": {},
     "output_type": "execute_result"
    }
   ],
   "source": [
    "model2.load_weights(\"m2_Receptive_field_50epochs.h5\")\n",
    "\n",
    "model2.fit_generator(\n",
    "        train_generator, \n",
    "        steps_per_epoch = len(train_generator), #total number of batches in one train epoch(train observation/batch size; also called iterations per epoch)\n",
    "        epochs=2,\n",
    "        validation_data = validation_generator,\n",
    "        validation_steps = len(validation_generator), #total number of batches in validation(validation observation/batch size)\n",
    "        verbose=1)"
   ]
  },
  {
   "cell_type": "markdown",
   "metadata": {},
   "source": [
    "## Model2 - Model with Dropout and Receptive field "
   ]
  },
  {
   "cell_type": "markdown",
   "metadata": {},
   "source": [
    "Batchsize Changed "
   ]
  },
  {
   "cell_type": "code",
   "execution_count": 35,
   "metadata": {},
   "outputs": [
    {
     "name": "stdout",
     "output_type": "stream",
     "text": [
      "Found 1652 images belonging to 10 classes.\n",
      "Found 409 images belonging to 10 classes.\n"
     ]
    }
   ],
   "source": [
    "########################\n",
    "# Generators\n",
    "########################\n",
    "\n",
    "from tensorflow.keras.preprocessing.image import ImageDataGenerator\n",
    "\n",
    "batch_size = 64\n",
    "target_size = (64,64)\n",
    "\n",
    "\n",
    "########################\n",
    "# Data Directory\n",
    "########################\n",
    "\n",
    "data_dir = location  # this is the image datasets directory\n",
    "\n",
    "########################\n",
    "# Data generator : Any preprocessing options/steps can be  defined here\n",
    "########################\n",
    "datagen = ImageDataGenerator(rescale = 1./255,  # scaling the images matrix(standard preprocessing step)\n",
    "                             validation_split=0.2) # set validation split\n",
    "\n",
    "########################\n",
    "# Train generator\n",
    "########################\n",
    "train_generator = datagen.flow_from_directory(\n",
    "    data_dir,\n",
    "    target_size=target_size,   # resizing the input images to a specific size\n",
    "    batch_size=batch_size,     # Batch size, iterator will generate a random batch with this size\n",
    "    color_mode = 'grayscale',  # keeping the channel to grayscale for easy calculations\n",
    "    class_mode='categorical',\n",
    "    shuffle=True,\n",
    "    subset=\"training\") # set as training data\n",
    "\n",
    "########################\n",
    "# Validation generator\n",
    "########################\n",
    "\n",
    "validation_generator = datagen.flow_from_directory(\n",
    "    data_dir, # same directory as training data\n",
    "    target_size=target_size,\n",
    "    batch_size=batch_size,\n",
    "    color_mode = 'grayscale', \n",
    "    class_mode='categorical',\n",
    "    shuffle=True,\n",
    "    subset=\"validation\") # set as validation data"
   ]
  },
  {
   "cell_type": "code",
   "execution_count": 36,
   "metadata": {},
   "outputs": [
    {
     "name": "stdout",
     "output_type": "stream",
     "text": [
      "Model: \"sequential_9\"\n",
      "_________________________________________________________________\n",
      "Layer (type)                 Output Shape              Param #   \n",
      "=================================================================\n",
      "conv2d_17 (Conv2D)           (None, 62, 62, 16)        160       \n",
      "_________________________________________________________________\n",
      "conv2d_18 (Conv2D)           (None, 60, 60, 32)        4640      \n",
      "_________________________________________________________________\n",
      "max_pooling2d_8 (MaxPooling2 (None, 30, 30, 32)        0         \n",
      "_________________________________________________________________\n",
      "dropout (Dropout)            (None, 30, 30, 32)        0         \n",
      "_________________________________________________________________\n",
      "conv2d_19 (Conv2D)           (None, 28, 28, 64)        18496     \n",
      "_________________________________________________________________\n",
      "conv2d_20 (Conv2D)           (None, 26, 26, 64)        36928     \n",
      "_________________________________________________________________\n",
      "max_pooling2d_9 (MaxPooling2 (None, 13, 13, 64)        0         \n",
      "_________________________________________________________________\n",
      "dropout_1 (Dropout)          (None, 13, 13, 64)        0         \n",
      "_________________________________________________________________\n",
      "conv2d_21 (Conv2D)           (None, 11, 11, 128)       73856     \n",
      "_________________________________________________________________\n",
      "conv2d_22 (Conv2D)           (None, 9, 9, 128)         147584    \n",
      "_________________________________________________________________\n",
      "max_pooling2d_10 (MaxPooling (None, 4, 4, 128)         0         \n",
      "_________________________________________________________________\n",
      "dropout_2 (Dropout)          (None, 4, 4, 128)         0         \n",
      "_________________________________________________________________\n",
      "flatten_3 (Flatten)          (None, 2048)              0         \n",
      "_________________________________________________________________\n",
      "dense_9 (Dense)              (None, 32)                65568     \n",
      "_________________________________________________________________\n",
      "dropout_3 (Dropout)          (None, 32)                0         \n",
      "_________________________________________________________________\n",
      "dense_10 (Dense)             (None, 10)                330       \n",
      "=================================================================\n",
      "Total params: 347,562\n",
      "Trainable params: 347,562\n",
      "Non-trainable params: 0\n",
      "_________________________________________________________________\n"
     ]
    }
   ],
   "source": [
    "model2 = Sequential()\n",
    "\n",
    "# Convolution and Pooling layers\n",
    "model2.add(Conv2D(16, (3, 3), input_shape = (64, 64, 1), activation = 'relu'))\n",
    "model2.add(Conv2D(32, (3, 3), activation = 'relu'))\n",
    "model2.add(MaxPooling2D(pool_size = (2, 2)))\n",
    "model2.add(Dropout(0.5))\n",
    "\n",
    "model2.add(Conv2D(64, (3, 3), activation = 'relu'))\n",
    "model2.add(Conv2D(64, (3, 3), activation = 'relu'))\n",
    "model2.add(MaxPooling2D(pool_size = (2, 2)))\n",
    "model2.add(Dropout(0.5))\n",
    "\n",
    "model2.add(Conv2D(128, (3, 3), activation = 'relu'))\n",
    "model2.add(Conv2D(128, (3, 3), activation = 'relu'))\n",
    "model2.add(MaxPooling2D(pool_size = (2, 2)))\n",
    "model2.add(Dropout(0.5))\n",
    "\n",
    "\n",
    "# Flattening and  Fully connected dense layers\n",
    "model2.add(Flatten())\n",
    "model2.add(Dense(units = 32, activation = 'relu'))\n",
    "model2.add(Dropout(0.5))\n",
    "\n",
    "model2.add(Dense(units = 10, activation = 'softmax'))\n",
    "\n",
    "model2.summary()"
   ]
  },
  {
   "cell_type": "code",
   "execution_count": 37,
   "metadata": {},
   "outputs": [
    {
     "name": "stdout",
     "output_type": "stream",
     "text": [
      "Epoch 1/50\n",
      "26/26 [==============================] - 11s 437ms/step - loss: 2.3146 - accuracy: 0.0950 - val_loss: 2.3028 - val_accuracy: 0.1002\n",
      "Epoch 2/50\n",
      "26/26 [==============================] - 13s 483ms/step - loss: 2.3044 - accuracy: 0.1029 - val_loss: 2.3027 - val_accuracy: 0.1002\n",
      "Epoch 3/50\n",
      "26/26 [==============================] - 11s 426ms/step - loss: 2.3030 - accuracy: 0.1023 - val_loss: 2.3027 - val_accuracy: 0.1002\n",
      "Epoch 4/50\n",
      "26/26 [==============================] - 11s 429ms/step - loss: 2.3041 - accuracy: 0.0914 - val_loss: 2.3027 - val_accuracy: 0.1002\n",
      "Epoch 5/50\n",
      "26/26 [==============================] - 11s 436ms/step - loss: 2.3019 - accuracy: 0.1071 - val_loss: 2.3025 - val_accuracy: 0.0978\n",
      "Epoch 6/50\n",
      "26/26 [==============================] - 11s 429ms/step - loss: 2.3032 - accuracy: 0.0999 - val_loss: 2.3025 - val_accuracy: 0.0978\n",
      "Epoch 7/50\n",
      "26/26 [==============================] - 11s 440ms/step - loss: 2.3023 - accuracy: 0.1059 - val_loss: 2.3023 - val_accuracy: 0.1100\n",
      "Epoch 8/50\n",
      "26/26 [==============================] - 11s 432ms/step - loss: 2.3025 - accuracy: 0.0969 - val_loss: 2.3027 - val_accuracy: 0.1002\n",
      "Epoch 9/50\n",
      "26/26 [==============================] - 11s 431ms/step - loss: 2.3046 - accuracy: 0.0944 - val_loss: 2.3025 - val_accuracy: 0.1002\n",
      "Epoch 10/50\n",
      "26/26 [==============================] - 11s 433ms/step - loss: 2.3031 - accuracy: 0.0932 - val_loss: 2.3023 - val_accuracy: 0.0954\n",
      "Epoch 11/50\n",
      "26/26 [==============================] - 11s 430ms/step - loss: 2.3020 - accuracy: 0.1053 - val_loss: 2.3023 - val_accuracy: 0.1002\n",
      "Epoch 12/50\n",
      "26/26 [==============================] - 11s 429ms/step - loss: 2.3031 - accuracy: 0.0938 - val_loss: 2.3020 - val_accuracy: 0.1002\n",
      "Epoch 13/50\n",
      "26/26 [==============================] - 11s 429ms/step - loss: 2.3019 - accuracy: 0.1174 - val_loss: 2.3023 - val_accuracy: 0.1002\n",
      "Epoch 14/50\n",
      "26/26 [==============================] - 11s 428ms/step - loss: 2.3014 - accuracy: 0.1053 - val_loss: 2.3015 - val_accuracy: 0.1002\n",
      "Epoch 15/50\n",
      "26/26 [==============================] - 11s 425ms/step - loss: 2.3029 - accuracy: 0.0926 - val_loss: 2.3017 - val_accuracy: 0.1027\n",
      "Epoch 16/50\n",
      "26/26 [==============================] - 11s 428ms/step - loss: 2.3013 - accuracy: 0.1096 - val_loss: 2.3017 - val_accuracy: 0.1051\n",
      "Epoch 17/50\n",
      "26/26 [==============================] - 11s 426ms/step - loss: 2.2990 - accuracy: 0.1035 - val_loss: 2.3004 - val_accuracy: 0.1247\n",
      "Epoch 18/50\n",
      "26/26 [==============================] - 11s 427ms/step - loss: 2.2979 - accuracy: 0.1065 - val_loss: 2.2991 - val_accuracy: 0.1271\n",
      "Epoch 19/50\n",
      "26/26 [==============================] - 11s 433ms/step - loss: 2.2913 - accuracy: 0.1132 - val_loss: 2.2904 - val_accuracy: 0.1565\n",
      "Epoch 20/50\n",
      "26/26 [==============================] - 11s 433ms/step - loss: 2.2813 - accuracy: 0.1205 - val_loss: 2.2925 - val_accuracy: 0.1002\n",
      "Epoch 21/50\n",
      "26/26 [==============================] - 11s 434ms/step - loss: 2.2419 - accuracy: 0.1622 - val_loss: 2.2485 - val_accuracy: 0.2200\n",
      "Epoch 22/50\n",
      "26/26 [==============================] - 11s 429ms/step - loss: 2.1945 - accuracy: 0.1774 - val_loss: 2.1545 - val_accuracy: 0.2714\n",
      "Epoch 23/50\n",
      "26/26 [==============================] - 11s 427ms/step - loss: 2.0901 - accuracy: 0.2337 - val_loss: 1.8897 - val_accuracy: 0.3912\n",
      "Epoch 24/50\n",
      "26/26 [==============================] - 11s 428ms/step - loss: 1.8940 - accuracy: 0.3039 - val_loss: 1.7042 - val_accuracy: 0.5037\n",
      "Epoch 25/50\n",
      "26/26 [==============================] - 11s 425ms/step - loss: 1.7142 - accuracy: 0.3711 - val_loss: 1.7370 - val_accuracy: 0.4181\n",
      "Epoch 26/50\n",
      "26/26 [==============================] - 11s 429ms/step - loss: 1.5747 - accuracy: 0.4546 - val_loss: 1.5728 - val_accuracy: 0.5428\n",
      "Epoch 27/50\n",
      "26/26 [==============================] - 11s 429ms/step - loss: 1.3894 - accuracy: 0.4970 - val_loss: 1.5954 - val_accuracy: 0.4841\n",
      "Epoch 28/50\n",
      "26/26 [==============================] - 11s 436ms/step - loss: 1.3110 - accuracy: 0.5278 - val_loss: 1.2494 - val_accuracy: 0.6064\n",
      "Epoch 29/50\n",
      "26/26 [==============================] - 11s 427ms/step - loss: 1.2515 - accuracy: 0.5654 - val_loss: 1.3949 - val_accuracy: 0.5550\n",
      "Epoch 30/50\n",
      "26/26 [==============================] - 11s 427ms/step - loss: 1.1664 - accuracy: 0.5981 - val_loss: 1.0637 - val_accuracy: 0.6748\n",
      "Epoch 31/50\n",
      "26/26 [==============================] - 11s 429ms/step - loss: 1.0373 - accuracy: 0.6501 - val_loss: 0.9409 - val_accuracy: 0.7311\n",
      "Epoch 32/50\n",
      "26/26 [==============================] - 11s 431ms/step - loss: 0.9925 - accuracy: 0.6653 - val_loss: 0.9276 - val_accuracy: 0.7408\n",
      "Epoch 33/50\n",
      "26/26 [==============================] - 11s 427ms/step - loss: 0.8698 - accuracy: 0.7082 - val_loss: 0.8786 - val_accuracy: 0.7311\n",
      "Epoch 34/50\n",
      "26/26 [==============================] - 12s 444ms/step - loss: 0.8159 - accuracy: 0.7070 - val_loss: 0.8253 - val_accuracy: 0.7335\n",
      "Epoch 35/50\n",
      "26/26 [==============================] - 11s 426ms/step - loss: 0.8163 - accuracy: 0.7258 - val_loss: 0.7515 - val_accuracy: 0.7873\n",
      "Epoch 36/50\n",
      "26/26 [==============================] - 12s 447ms/step - loss: 0.7288 - accuracy: 0.7621 - val_loss: 0.6992 - val_accuracy: 0.7995\n",
      "Epoch 37/50\n",
      "26/26 [==============================] - 11s 425ms/step - loss: 0.6832 - accuracy: 0.7657 - val_loss: 0.6590 - val_accuracy: 0.7800\n",
      "Epoch 38/50\n",
      "26/26 [==============================] - 11s 440ms/step - loss: 0.6509 - accuracy: 0.7875 - val_loss: 0.6766 - val_accuracy: 0.7971\n",
      "Epoch 39/50\n",
      "26/26 [==============================] - 11s 428ms/step - loss: 0.6097 - accuracy: 0.8015 - val_loss: 0.5815 - val_accuracy: 0.8020\n",
      "Epoch 40/50\n",
      "26/26 [==============================] - 11s 433ms/step - loss: 0.6186 - accuracy: 0.7984 - val_loss: 0.6289 - val_accuracy: 0.8068\n",
      "Epoch 41/50\n",
      "26/26 [==============================] - 11s 429ms/step - loss: 0.5570 - accuracy: 0.8214 - val_loss: 0.7363 - val_accuracy: 0.7506\n",
      "Epoch 42/50\n",
      "26/26 [==============================] - 11s 428ms/step - loss: 0.5494 - accuracy: 0.8166 - val_loss: 0.5417 - val_accuracy: 0.7971\n",
      "Epoch 43/50\n",
      "26/26 [==============================] - 11s 436ms/step - loss: 0.5210 - accuracy: 0.8178 - val_loss: 0.5676 - val_accuracy: 0.8386\n",
      "Epoch 44/50\n",
      "26/26 [==============================] - 11s 432ms/step - loss: 0.4793 - accuracy: 0.8251 - val_loss: 0.5491 - val_accuracy: 0.8386\n",
      "Epoch 45/50\n",
      "26/26 [==============================] - 11s 425ms/step - loss: 0.4474 - accuracy: 0.8577 - val_loss: 0.5988 - val_accuracy: 0.8020\n",
      "Epoch 46/50\n",
      "26/26 [==============================] - 11s 434ms/step - loss: 0.4618 - accuracy: 0.8378 - val_loss: 0.5046 - val_accuracy: 0.8313\n",
      "Epoch 47/50\n",
      "26/26 [==============================] - 11s 431ms/step - loss: 0.3975 - accuracy: 0.8711 - val_loss: 0.5629 - val_accuracy: 0.7971\n",
      "Epoch 48/50\n",
      "26/26 [==============================] - 11s 429ms/step - loss: 0.4352 - accuracy: 0.8487 - val_loss: 0.5192 - val_accuracy: 0.8289\n",
      "Epoch 49/50\n",
      "26/26 [==============================] - 11s 436ms/step - loss: 0.3927 - accuracy: 0.8692 - val_loss: 0.5511 - val_accuracy: 0.8240\n",
      "Epoch 50/50\n",
      "26/26 [==============================] - 12s 445ms/step - loss: 0.4197 - accuracy: 0.8614 - val_loss: 0.5488 - val_accuracy: 0.8264\n",
      "Execution time is 562 seconds\n"
     ]
    }
   ],
   "source": [
    "# model compilation\n",
    "model2.compile(optimizer =SGD(lr=0.01, momentum = 0.9), loss = 'categorical_crossentropy', metrics = ['accuracy'])\n",
    "\n",
    "########################\n",
    "# fit model and train\n",
    "########################\n",
    "\n",
    "import time\n",
    "start = time.time()\n",
    "\n",
    "history=model2.fit_generator(\n",
    "        train_generator, \n",
    "        steps_per_epoch = len(train_generator), \n",
    "        epochs=50,\n",
    "        validation_data = validation_generator,\n",
    "        validation_steps = len(validation_generator), \n",
    "        verbose=1)\n",
    "\n",
    "model2.save_weights('m2_Dropout_Rec_fld_50epochs.h5')\n",
    "\n",
    "end = time.time()\n",
    "print(\"Execution time is\", int(end - start), \"seconds\")"
   ]
  },
  {
   "cell_type": "code",
   "execution_count": 38,
   "metadata": {},
   "outputs": [
    {
     "data": {
      "text/plain": [
       "<matplotlib.legend.Legend at 0x7fea9f13a210>"
      ]
     },
     "execution_count": 38,
     "metadata": {},
     "output_type": "execute_result"
    },
    {
     "data": {
      "image/png": "[encoded data removed]",
      "text/plain": [
       "<Figure size 432x288 with 1 Axes>"
      ]
     },
     "metadata": {
      "needs_background": "light"
     },
     "output_type": "display_data"
    }
   ],
   "source": [
    "plt.plot(history.history['accuracy'], label='accuracy')\n",
    "plt.plot(history.history['val_accuracy'], label = 'val_accuracy')\n",
    "plt.title(\"Train and Valid Accuracy by Epochs\")\n",
    "plt.xlabel('Epoch')\n",
    "plt.ylabel('Accuracy')\n",
    "plt.ylim([0,1])\n",
    "plt.legend(loc='lower right')"
   ]
  },
  {
   "cell_type": "code",
   "execution_count": 39,
   "metadata": {},
   "outputs": [
    {
     "name": "stdout",
     "output_type": "stream",
     "text": [
      "Epoch 1/2\n",
      "26/26 [==============================] - 12s 469ms/step - loss: 0.4578 - accuracy: 0.8390 - val_loss: 0.5871 - val_accuracy: 0.8117\n",
      "Epoch 2/2\n",
      "26/26 [==============================] - 11s 432ms/step - loss: 0.4502 - accuracy: 0.8396 - val_loss: 0.6194 - val_accuracy: 0.8093\n"
     ]
    }
   ],
   "source": [
    "model2.load_weights(Data_path+\"/Pre_trained_models/m2_Dropout_Rec_fld_50epochs.h5\")\n",
    "\n",
    "history=model2.fit_generator(\n",
    "        train_generator, \n",
    "        steps_per_epoch = len(train_generator), \n",
    "        epochs=2,\n",
    "        validation_data = validation_generator,\n",
    "        validation_steps = len(validation_generator), \n",
    "        verbose=1)"
   ]
  },
  {
   "cell_type": "markdown",
   "metadata": {},
   "source": [
    "#### Dropout 100 epochs"
   ]
  },
  {
   "cell_type": "code",
   "execution_count": 40,
   "metadata": {},
   "outputs": [
    {
     "name": "stdout",
     "output_type": "stream",
     "text": [
      "Epoch 1/2\n",
      "26/26 [==============================] - 11s 441ms/step - loss: 0.1602 - accuracy: 0.9407 - val_loss: 0.5048 - val_accuracy: 0.8509\n",
      "Epoch 2/2\n",
      "26/26 [==============================] - 11s 429ms/step - loss: 0.1390 - accuracy: 0.9510 - val_loss: 0.3897 - val_accuracy: 0.8680\n"
     ]
    }
   ],
   "source": [
    "model2.load_weights(Data_path+\"/Pre_trained_models/m2_Dropout_Rec_fld_100epochs.h5\")\n",
    "\n",
    "history=model2.fit_generator(\n",
    "        train_generator, \n",
    "        steps_per_epoch = len(train_generator), \n",
    "        epochs=2,\n",
    "        validation_data = validation_generator,\n",
    "        validation_steps = len(validation_generator), \n",
    "        verbose=1)"
   ]
  },
  {
   "cell_type": "markdown",
   "metadata": {},
   "source": [
    "## Batch Normalization"
   ]
  },
  {
   "cell_type": "code",
   "execution_count": 41,
   "metadata": {},
   "outputs": [
    {
     "name": "stdout",
     "output_type": "stream",
     "text": [
      "Model: \"sequential_10\"\n",
      "_________________________________________________________________\n",
      "Layer (type)                 Output Shape              Param #   \n",
      "=================================================================\n",
      "conv2d_23 (Conv2D)           (None, 30, 30, 1)         10        \n",
      "_________________________________________________________________\n",
      "batch_normalization (BatchNo (None, 30, 30, 1)         4         \n",
      "_________________________________________________________________\n",
      "max_pooling2d_11 (MaxPooling (None, 15, 15, 1)         0         \n",
      "_________________________________________________________________\n",
      "batch_normalization_1 (Batch (None, 15, 15, 1)         4         \n",
      "_________________________________________________________________\n",
      "conv2d_24 (Conv2D)           (None, 13, 13, 2)         20        \n",
      "_________________________________________________________________\n",
      "batch_normalization_2 (Batch (None, 13, 13, 2)         8         \n",
      "_________________________________________________________________\n",
      "max_pooling2d_12 (MaxPooling (None, 6, 6, 2)           0         \n",
      "_________________________________________________________________\n",
      "batch_normalization_3 (Batch (None, 6, 6, 2)           8         \n",
      "_________________________________________________________________\n",
      "conv2d_25 (Conv2D)           (None, 4, 4, 3)           57        \n",
      "_________________________________________________________________\n",
      "batch_normalization_4 (Batch (None, 4, 4, 3)           12        \n",
      "=================================================================\n",
      "Total params: 123\n",
      "Trainable params: 105\n",
      "Non-trainable params: 18\n",
      "_________________________________________________________________\n"
     ]
    }
   ],
   "source": [
    "model = Sequential()\n",
    "model.add(Conv2D(1, (3, 3), input_shape = (32, 32, 1)))\n",
    "model.add(BatchNormalization())\n",
    "\n",
    "model.add(MaxPooling2D(pool_size = (2, 2)))\n",
    "model.add(BatchNormalization())\n",
    "\n",
    "model.add(Conv2D(2, (3, 3)))\n",
    "model.add(BatchNormalization())\n",
    "\n",
    "model.add(MaxPooling2D(pool_size = (2, 2)))\n",
    "model.add(BatchNormalization())\n",
    "\n",
    "model.add(Conv2D(3, (3, 3)))\n",
    "model.add(BatchNormalization())\n",
    "\n",
    "model.summary()"
   ]
  },
  {
   "cell_type": "markdown",
   "metadata": {},
   "source": [
    "## Model3 with Batch Normalization. "
   ]
  },
  {
   "cell_type": "code",
   "execution_count": 42,
   "metadata": {},
   "outputs": [
    {
     "name": "stdout",
     "output_type": "stream",
     "text": [
      "Model: \"sequential_11\"\n",
      "_________________________________________________________________\n",
      "Layer (type)                 Output Shape              Param #   \n",
      "=================================================================\n",
      "conv2d_26 (Conv2D)           (None, 62, 62, 16)        160       \n",
      "_________________________________________________________________\n",
      "batch_normalization_5 (Batch (None, 62, 62, 16)        64        \n",
      "_________________________________________________________________\n",
      "dropout_4 (Dropout)          (None, 62, 62, 16)        0         \n",
      "_________________________________________________________________\n",
      "conv2d_27 (Conv2D)           (None, 60, 60, 16)        2320      \n",
      "_________________________________________________________________\n",
      "max_pooling2d_13 (MaxPooling (None, 30, 30, 16)        0         \n",
      "_________________________________________________________________\n",
      "batch_normalization_6 (Batch (None, 30, 30, 16)        64        \n",
      "_________________________________________________________________\n",
      "dropout_5 (Dropout)          (None, 30, 30, 16)        0         \n",
      "_________________________________________________________________\n",
      "conv2d_28 (Conv2D)           (None, 28, 28, 32)        4640      \n",
      "_________________________________________________________________\n",
      "max_pooling2d_14 (MaxPooling (None, 14, 14, 32)        0         \n",
      "_________________________________________________________________\n",
      "batch_normalization_7 (Batch (None, 14, 14, 32)        128       \n",
      "_________________________________________________________________\n",
      "dropout_6 (Dropout)          (None, 14, 14, 32)        0         \n",
      "_________________________________________________________________\n",
      "conv2d_29 (Conv2D)           (None, 12, 12, 32)        9248      \n",
      "_________________________________________________________________\n",
      "max_pooling2d_15 (MaxPooling (None, 6, 6, 32)          0         \n",
      "_________________________________________________________________\n",
      "batch_normalization_8 (Batch (None, 6, 6, 32)          128       \n",
      "_________________________________________________________________\n",
      "dropout_7 (Dropout)          (None, 6, 6, 32)          0         \n",
      "_________________________________________________________________\n",
      "conv2d_30 (Conv2D)           (None, 4, 4, 64)          18496     \n",
      "_________________________________________________________________\n",
      "batch_normalization_9 (Batch (None, 4, 4, 64)          256       \n",
      "_________________________________________________________________\n",
      "dropout_8 (Dropout)          (None, 4, 4, 64)          0         \n",
      "_________________________________________________________________\n",
      "flatten_4 (Flatten)          (None, 1024)              0         \n",
      "_________________________________________________________________\n",
      "dense_11 (Dense)             (None, 16)                16400     \n",
      "_________________________________________________________________\n",
      "dropout_9 (Dropout)          (None, 16)                0         \n",
      "_________________________________________________________________\n",
      "dense_12 (Dense)             (None, 10)                170       \n",
      "=================================================================\n",
      "Total params: 52,074\n",
      "Trainable params: 51,754\n",
      "Non-trainable params: 320\n",
      "_________________________________________________________________\n"
     ]
    }
   ],
   "source": [
    "model3 = Sequential()\n",
    "\n",
    "model3.add(Conv2D(16, (3, 3), input_shape = (64, 64, 1), activation = 'relu'))\n",
    "model3.add(BatchNormalization())\n",
    "model3.add(Dropout(0.5))\n",
    "\n",
    "model3.add(Conv2D(16, (3, 3), activation = 'relu'))\n",
    "model3.add(MaxPooling2D(pool_size = (2, 2)))\n",
    "model3.add(BatchNormalization())\n",
    "model3.add(Dropout(0.5))\n",
    "\n",
    "model3.add(Conv2D(32, (3, 3), activation = 'relu'))\n",
    "model3.add(MaxPooling2D(pool_size = (2, 2)))\n",
    "model3.add(BatchNormalization())\n",
    "model3.add(Dropout(0.5))\n",
    "\n",
    "model3.add(Conv2D(32, (3, 3), activation = 'relu'))\n",
    "model3.add(MaxPooling2D(pool_size = (2, 2)))\n",
    "model3.add(BatchNormalization())\n",
    "model3.add(Dropout(0.5))\n",
    "\n",
    "model3.add(Conv2D(64, (3, 3), activation = 'relu'))\n",
    "model3.add(BatchNormalization())\n",
    "model3.add(Dropout(0.5))\n",
    "\n",
    "model3.add(Flatten())\n",
    "model3.add(Dense(units = 16, activation = 'relu'))\n",
    "model3.add(Dropout(0.5))\n",
    "model3.add(Dense(units = 10, activation = 'softmax'))\n",
    "\n",
    "model3.summary()"
   ]
  },
  {
   "cell_type": "code",
   "execution_count": 43,
   "metadata": {},
   "outputs": [
    {
     "name": "stdout",
     "output_type": "stream",
     "text": [
      "Epoch 1/200\n",
      "26/26 [==============================] - 8s 326ms/step - loss: 2.5577 - accuracy: 0.1168 - val_loss: 4.2267 - val_accuracy: 0.1076\n",
      "Epoch 2/200\n",
      "26/26 [==============================] - 8s 322ms/step - loss: 2.1618 - accuracy: 0.1822 - val_loss: 6.5402 - val_accuracy: 0.1051\n",
      "Epoch 3/200\n",
      "26/26 [==============================] - 8s 322ms/step - loss: 2.0768 - accuracy: 0.2113 - val_loss: 2.4910 - val_accuracy: 0.1345\n",
      "Epoch 4/200\n",
      "26/26 [==============================] - 8s 316ms/step - loss: 2.0273 - accuracy: 0.2167 - val_loss: 2.4556 - val_accuracy: 0.1394\n",
      "Epoch 5/200\n",
      "26/26 [==============================] - 8s 320ms/step - loss: 1.9821 - accuracy: 0.2300 - val_loss: 2.7202 - val_accuracy: 0.1198\n",
      "Epoch 6/200\n",
      "26/26 [==============================] - 8s 325ms/step - loss: 1.9160 - accuracy: 0.2627 - val_loss: 3.4962 - val_accuracy: 0.0978\n",
      "Epoch 7/200\n",
      "26/26 [==============================] - 8s 316ms/step - loss: 1.9657 - accuracy: 0.2343 - val_loss: 3.4549 - val_accuracy: 0.1076\n",
      "Epoch 8/200\n",
      "26/26 [==============================] - 8s 321ms/step - loss: 1.9075 - accuracy: 0.2633 - val_loss: 2.4687 - val_accuracy: 0.1345\n",
      "Epoch 9/200\n",
      "26/26 [==============================] - 8s 317ms/step - loss: 1.8689 - accuracy: 0.2845 - val_loss: 2.2630 - val_accuracy: 0.1540\n",
      "Epoch 10/200\n",
      "26/26 [==============================] - 8s 315ms/step - loss: 1.8400 - accuracy: 0.2797 - val_loss: 2.6561 - val_accuracy: 0.1589\n",
      "Epoch 11/200\n",
      "26/26 [==============================] - 8s 324ms/step - loss: 1.7949 - accuracy: 0.3202 - val_loss: 2.2186 - val_accuracy: 0.2225\n",
      "Epoch 12/200\n",
      "26/26 [==============================] - 8s 315ms/step - loss: 1.7629 - accuracy: 0.3251 - val_loss: 2.4397 - val_accuracy: 0.1809\n",
      "Epoch 13/200\n",
      "26/26 [==============================] - 8s 320ms/step - loss: 1.8565 - accuracy: 0.2912 - val_loss: 2.3663 - val_accuracy: 0.1320\n",
      "Epoch 14/200\n",
      "26/26 [==============================] - 8s 318ms/step - loss: 1.8266 - accuracy: 0.2857 - val_loss: 2.2533 - val_accuracy: 0.2518\n",
      "Epoch 15/200\n",
      "26/26 [==============================] - 8s 314ms/step - loss: 1.7679 - accuracy: 0.3390 - val_loss: 2.5902 - val_accuracy: 0.2298\n",
      "Epoch 16/200\n",
      "26/26 [==============================] - 8s 318ms/step - loss: 1.7272 - accuracy: 0.3475 - val_loss: 2.4361 - val_accuracy: 0.3130\n",
      "Epoch 17/200\n",
      "26/26 [==============================] - 8s 318ms/step - loss: 1.7355 - accuracy: 0.3475 - val_loss: 3.1981 - val_accuracy: 0.2616\n",
      "Epoch 18/200\n",
      "26/26 [==============================] - 8s 314ms/step - loss: 1.6453 - accuracy: 0.3608 - val_loss: 3.0468 - val_accuracy: 0.3056\n",
      "Epoch 19/200\n",
      "26/26 [==============================] - 8s 318ms/step - loss: 1.5993 - accuracy: 0.3862 - val_loss: 3.0373 - val_accuracy: 0.3227\n",
      "Epoch 20/200\n",
      "26/26 [==============================] - 8s 312ms/step - loss: 1.6430 - accuracy: 0.3620 - val_loss: 2.8461 - val_accuracy: 0.2763\n",
      "Epoch 21/200\n",
      "26/26 [==============================] - 8s 321ms/step - loss: 1.6720 - accuracy: 0.3711 - val_loss: 2.6253 - val_accuracy: 0.2910\n",
      "Epoch 22/200\n",
      "26/26 [==============================] - 8s 315ms/step - loss: 1.5322 - accuracy: 0.4249 - val_loss: 2.8021 - val_accuracy: 0.2763\n",
      "Epoch 23/200\n",
      "26/26 [==============================] - 8s 318ms/step - loss: 1.4810 - accuracy: 0.4346 - val_loss: 2.2361 - val_accuracy: 0.4425\n",
      "Epoch 24/200\n",
      "26/26 [==============================] - 8s 317ms/step - loss: 1.4515 - accuracy: 0.4449 - val_loss: 2.5596 - val_accuracy: 0.4401\n",
      "Epoch 25/200\n",
      "26/26 [==============================] - 8s 321ms/step - loss: 1.4262 - accuracy: 0.4498 - val_loss: 2.2190 - val_accuracy: 0.4890\n",
      "Epoch 26/200\n",
      "26/26 [==============================] - 8s 320ms/step - loss: 1.3618 - accuracy: 0.4697 - val_loss: 3.2684 - val_accuracy: 0.4034\n",
      "Epoch 27/200\n",
      "26/26 [==============================] - 8s 315ms/step - loss: 1.3730 - accuracy: 0.4734 - val_loss: 2.5212 - val_accuracy: 0.4083\n",
      "Epoch 28/200\n",
      "26/26 [==============================] - 8s 323ms/step - loss: 1.2930 - accuracy: 0.5169 - val_loss: 2.4666 - val_accuracy: 0.4401\n",
      "Epoch 29/200\n",
      "26/26 [==============================] - 8s 320ms/step - loss: 1.3291 - accuracy: 0.5054 - val_loss: 2.2410 - val_accuracy: 0.5355\n",
      "Epoch 30/200\n",
      "26/26 [==============================] - 8s 322ms/step - loss: 1.2732 - accuracy: 0.5381 - val_loss: 2.1917 - val_accuracy: 0.5379\n",
      "Epoch 31/200\n",
      "26/26 [==============================] - 8s 319ms/step - loss: 1.3257 - accuracy: 0.5182 - val_loss: 2.5618 - val_accuracy: 0.4572\n",
      "Epoch 32/200\n",
      "26/26 [==============================] - 8s 321ms/step - loss: 1.2735 - accuracy: 0.5345 - val_loss: 3.1307 - val_accuracy: 0.4768\n",
      "Epoch 33/200\n",
      "26/26 [==============================] - 8s 320ms/step - loss: 1.1855 - accuracy: 0.5623 - val_loss: 4.4532 - val_accuracy: 0.2958\n",
      "Epoch 34/200\n",
      "26/26 [==============================] - 8s 316ms/step - loss: 1.1719 - accuracy: 0.5660 - val_loss: 1.9912 - val_accuracy: 0.5428\n",
      "Epoch 35/200\n",
      "26/26 [==============================] - 8s 322ms/step - loss: 1.1784 - accuracy: 0.5539 - val_loss: 1.5867 - val_accuracy: 0.5501\n",
      "Epoch 36/200\n",
      "26/26 [==============================] - 8s 320ms/step - loss: 1.1569 - accuracy: 0.5811 - val_loss: 1.9729 - val_accuracy: 0.5599\n",
      "Epoch 37/200\n",
      "26/26 [==============================] - 8s 320ms/step - loss: 1.1032 - accuracy: 0.5938 - val_loss: 2.0751 - val_accuracy: 0.5623\n",
      "Epoch 38/200\n",
      "26/26 [==============================] - 8s 319ms/step - loss: 1.1245 - accuracy: 0.5751 - val_loss: 1.5810 - val_accuracy: 0.6088\n",
      "Epoch 39/200\n",
      "26/26 [==============================] - 8s 322ms/step - loss: 1.0952 - accuracy: 0.6120 - val_loss: 1.8972 - val_accuracy: 0.5770\n",
      "Epoch 40/200\n",
      "26/26 [==============================] - 8s 317ms/step - loss: 1.0388 - accuracy: 0.6077 - val_loss: 2.3719 - val_accuracy: 0.4474\n",
      "Epoch 41/200\n",
      "26/26 [==============================] - 8s 321ms/step - loss: 1.0656 - accuracy: 0.6192 - val_loss: 1.6088 - val_accuracy: 0.6259\n",
      "Epoch 42/200\n",
      "26/26 [==============================] - 8s 318ms/step - loss: 1.0471 - accuracy: 0.5999 - val_loss: 1.7560 - val_accuracy: 0.5306\n",
      "Epoch 43/200\n",
      "26/26 [==============================] - 8s 318ms/step - loss: 1.0105 - accuracy: 0.6283 - val_loss: 1.6335 - val_accuracy: 0.5990\n",
      "Epoch 44/200\n",
      "26/26 [==============================] - 8s 324ms/step - loss: 1.0333 - accuracy: 0.6453 - val_loss: 1.5668 - val_accuracy: 0.5697\n",
      "Epoch 45/200\n",
      "26/26 [==============================] - 8s 319ms/step - loss: 0.9790 - accuracy: 0.6441 - val_loss: 1.8276 - val_accuracy: 0.5941\n",
      "Epoch 46/200\n",
      "26/26 [==============================] - 8s 316ms/step - loss: 0.9628 - accuracy: 0.6610 - val_loss: 1.5175 - val_accuracy: 0.6381\n",
      "Epoch 47/200\n",
      "26/26 [==============================] - 8s 318ms/step - loss: 0.9707 - accuracy: 0.6477 - val_loss: 1.6862 - val_accuracy: 0.6039\n",
      "Epoch 48/200\n",
      "26/26 [==============================] - 8s 320ms/step - loss: 0.9717 - accuracy: 0.6556 - val_loss: 1.8582 - val_accuracy: 0.5623\n",
      "Epoch 49/200\n",
      "26/26 [==============================] - 8s 311ms/step - loss: 0.9668 - accuracy: 0.6592 - val_loss: 1.7191 - val_accuracy: 0.5892\n",
      "Epoch 50/200\n",
      "26/26 [==============================] - 8s 323ms/step - loss: 0.9569 - accuracy: 0.6568 - val_loss: 1.4349 - val_accuracy: 0.6210\n",
      "Epoch 51/200\n",
      "26/26 [==============================] - 8s 317ms/step - loss: 0.9058 - accuracy: 0.6743 - val_loss: 1.4973 - val_accuracy: 0.6064\n",
      "Epoch 52/200\n",
      "26/26 [==============================] - 8s 321ms/step - loss: 0.9064 - accuracy: 0.6822 - val_loss: 1.8699 - val_accuracy: 0.5721\n",
      "Epoch 53/200\n",
      "26/26 [==============================] - 8s 320ms/step - loss: 0.8960 - accuracy: 0.6943 - val_loss: 1.3786 - val_accuracy: 0.6504\n",
      "Epoch 54/200\n",
      "26/26 [==============================] - 8s 316ms/step - loss: 0.9092 - accuracy: 0.6749 - val_loss: 1.4255 - val_accuracy: 0.6479\n",
      "Epoch 55/200\n",
      "26/26 [==============================] - 8s 317ms/step - loss: 0.8408 - accuracy: 0.7064 - val_loss: 1.2940 - val_accuracy: 0.6846\n",
      "Epoch 56/200\n",
      "26/26 [==============================] - 8s 321ms/step - loss: 0.8701 - accuracy: 0.6937 - val_loss: 1.1546 - val_accuracy: 0.6919\n",
      "Epoch 57/200\n",
      "26/26 [==============================] - 10s 377ms/step - loss: 0.8835 - accuracy: 0.6919 - val_loss: 1.1632 - val_accuracy: 0.6822\n",
      "Epoch 58/200\n",
      "26/26 [==============================] - 10s 382ms/step - loss: 0.8462 - accuracy: 0.7022 - val_loss: 1.1956 - val_accuracy: 0.6895\n",
      "Epoch 59/200\n",
      "26/26 [==============================] - 10s 378ms/step - loss: 0.8620 - accuracy: 0.6877 - val_loss: 1.4476 - val_accuracy: 0.6504\n",
      "Epoch 60/200\n",
      "26/26 [==============================] - 10s 392ms/step - loss: 0.8740 - accuracy: 0.7010 - val_loss: 1.1185 - val_accuracy: 0.6993\n",
      "Epoch 61/200\n",
      "26/26 [==============================] - 10s 394ms/step - loss: 0.8707 - accuracy: 0.6955 - val_loss: 1.2190 - val_accuracy: 0.6822\n",
      "Epoch 62/200\n",
      "26/26 [==============================] - 10s 384ms/step - loss: 0.8175 - accuracy: 0.7088 - val_loss: 1.3912 - val_accuracy: 0.6675\n",
      "Epoch 63/200\n",
      "26/26 [==============================] - 10s 382ms/step - loss: 0.7823 - accuracy: 0.7349 - val_loss: 1.0285 - val_accuracy: 0.7506\n",
      "Epoch 64/200\n",
      "26/26 [==============================] - 10s 383ms/step - loss: 0.7705 - accuracy: 0.7349 - val_loss: 1.1830 - val_accuracy: 0.6601\n",
      "Epoch 65/200\n",
      "26/26 [==============================] - 10s 372ms/step - loss: 0.7782 - accuracy: 0.7240 - val_loss: 1.3271 - val_accuracy: 0.7115\n",
      "Epoch 66/200\n",
      "26/26 [==============================] - 10s 374ms/step - loss: 0.8006 - accuracy: 0.7288 - val_loss: 1.0558 - val_accuracy: 0.7188\n",
      "Epoch 67/200\n",
      "26/26 [==============================] - 10s 377ms/step - loss: 0.8231 - accuracy: 0.7185 - val_loss: 1.4506 - val_accuracy: 0.6993\n",
      "Epoch 68/200\n",
      "26/26 [==============================] - 10s 374ms/step - loss: 0.7710 - accuracy: 0.7367 - val_loss: 1.3885 - val_accuracy: 0.6919\n",
      "Epoch 69/200\n",
      "26/26 [==============================] - 10s 383ms/step - loss: 0.8234 - accuracy: 0.7100 - val_loss: 1.1536 - val_accuracy: 0.6993\n",
      "Epoch 70/200\n",
      "26/26 [==============================] - 10s 384ms/step - loss: 0.8040 - accuracy: 0.7191 - val_loss: 0.9452 - val_accuracy: 0.7531\n",
      "Epoch 71/200\n",
      "26/26 [==============================] - 10s 394ms/step - loss: 0.7852 - accuracy: 0.7379 - val_loss: 1.1258 - val_accuracy: 0.7286\n",
      "Epoch 72/200\n",
      "26/26 [==============================] - 10s 376ms/step - loss: 0.8006 - accuracy: 0.7137 - val_loss: 1.3766 - val_accuracy: 0.7262\n",
      "Epoch 73/200\n",
      "26/26 [==============================] - 10s 382ms/step - loss: 0.7757 - accuracy: 0.7288 - val_loss: 1.0906 - val_accuracy: 0.7237\n",
      "Epoch 74/200\n",
      "26/26 [==============================] - 10s 373ms/step - loss: 0.7635 - accuracy: 0.7276 - val_loss: 1.2910 - val_accuracy: 0.6968\n",
      "Epoch 75/200\n",
      "26/26 [==============================] - 10s 394ms/step - loss: 0.7263 - accuracy: 0.7657 - val_loss: 1.4772 - val_accuracy: 0.6919\n",
      "Epoch 76/200\n",
      "26/26 [==============================] - 9s 328ms/step - loss: 0.7796 - accuracy: 0.7324 - val_loss: 1.3725 - val_accuracy: 0.6846\n",
      "Epoch 77/200\n",
      "26/26 [==============================] - 8s 323ms/step - loss: 0.7528 - accuracy: 0.7403 - val_loss: 1.0925 - val_accuracy: 0.7188\n",
      "Epoch 78/200\n",
      "26/26 [==============================] - 9s 340ms/step - loss: 0.7193 - accuracy: 0.7609 - val_loss: 1.1089 - val_accuracy: 0.7335\n",
      "Epoch 79/200\n",
      "26/26 [==============================] - 9s 337ms/step - loss: 0.7594 - accuracy: 0.7482 - val_loss: 1.4774 - val_accuracy: 0.6822\n",
      "Epoch 80/200\n",
      "26/26 [==============================] - 9s 346ms/step - loss: 0.7250 - accuracy: 0.7530 - val_loss: 1.3900 - val_accuracy: 0.6870\n",
      "Epoch 81/200\n",
      "26/26 [==============================] - 9s 332ms/step - loss: 0.7516 - accuracy: 0.7427 - val_loss: 1.6161 - val_accuracy: 0.6846\n",
      "Epoch 82/200\n",
      "26/26 [==============================] - 8s 322ms/step - loss: 0.7488 - accuracy: 0.7415 - val_loss: 1.5978 - val_accuracy: 0.7066\n",
      "Epoch 83/200\n",
      "26/26 [==============================] - 8s 322ms/step - loss: 0.7627 - accuracy: 0.7288 - val_loss: 1.2798 - val_accuracy: 0.7042\n",
      "Epoch 84/200\n",
      "26/26 [==============================] - 8s 319ms/step - loss: 0.7449 - accuracy: 0.7554 - val_loss: 1.5797 - val_accuracy: 0.6919\n",
      "Epoch 85/200\n",
      "26/26 [==============================] - 8s 321ms/step - loss: 0.7045 - accuracy: 0.7676 - val_loss: 1.2332 - val_accuracy: 0.7237\n",
      "Epoch 86/200\n",
      "26/26 [==============================] - 8s 318ms/step - loss: 0.7188 - accuracy: 0.7476 - val_loss: 1.1474 - val_accuracy: 0.7188\n",
      "Epoch 87/200\n",
      "26/26 [==============================] - 8s 311ms/step - loss: 0.7522 - accuracy: 0.7373 - val_loss: 1.2437 - val_accuracy: 0.7115\n",
      "Epoch 88/200\n",
      "26/26 [==============================] - 8s 323ms/step - loss: 0.7182 - accuracy: 0.7573 - val_loss: 1.2417 - val_accuracy: 0.6968\n",
      "Epoch 89/200\n",
      "26/26 [==============================] - 8s 318ms/step - loss: 0.7184 - accuracy: 0.7446 - val_loss: 1.6143 - val_accuracy: 0.6381\n",
      "Epoch 90/200\n",
      "26/26 [==============================] - 8s 316ms/step - loss: 0.7154 - accuracy: 0.7518 - val_loss: 1.1935 - val_accuracy: 0.7139\n",
      "Epoch 91/200\n",
      "26/26 [==============================] - 8s 321ms/step - loss: 0.7045 - accuracy: 0.7621 - val_loss: 1.0725 - val_accuracy: 0.7188\n",
      "Epoch 92/200\n",
      "26/26 [==============================] - 8s 317ms/step - loss: 0.7005 - accuracy: 0.7754 - val_loss: 1.2007 - val_accuracy: 0.7237\n",
      "Epoch 93/200\n",
      "26/26 [==============================] - 8s 321ms/step - loss: 0.7159 - accuracy: 0.7482 - val_loss: 0.9346 - val_accuracy: 0.7531\n",
      "Epoch 94/200\n",
      "26/26 [==============================] - 8s 314ms/step - loss: 0.6654 - accuracy: 0.7651 - val_loss: 1.3267 - val_accuracy: 0.7042\n",
      "Epoch 95/200\n",
      "26/26 [==============================] - 8s 322ms/step - loss: 0.7080 - accuracy: 0.7603 - val_loss: 1.5502 - val_accuracy: 0.7042\n",
      "Epoch 96/200\n",
      "26/26 [==============================] - 8s 321ms/step - loss: 0.7137 - accuracy: 0.7567 - val_loss: 1.1715 - val_accuracy: 0.7237\n",
      "Epoch 97/200\n",
      "26/26 [==============================] - 8s 324ms/step - loss: 0.7098 - accuracy: 0.7561 - val_loss: 1.3122 - val_accuracy: 0.7359\n",
      "Epoch 98/200\n",
      "26/26 [==============================] - 8s 319ms/step - loss: 0.6565 - accuracy: 0.7724 - val_loss: 1.2343 - val_accuracy: 0.7531\n",
      "Epoch 99/200\n",
      "26/26 [==============================] - 9s 335ms/step - loss: 0.6675 - accuracy: 0.7815 - val_loss: 1.2095 - val_accuracy: 0.7433\n",
      "Epoch 100/200\n",
      "26/26 [==============================] - 8s 323ms/step - loss: 0.6680 - accuracy: 0.7797 - val_loss: 1.0479 - val_accuracy: 0.7506\n",
      "Epoch 101/200\n",
      "26/26 [==============================] - 9s 338ms/step - loss: 0.6649 - accuracy: 0.7766 - val_loss: 1.1566 - val_accuracy: 0.7286\n",
      "Epoch 102/200\n",
      "26/26 [==============================] - 8s 326ms/step - loss: 0.7258 - accuracy: 0.7663 - val_loss: 0.8550 - val_accuracy: 0.7457\n",
      "Epoch 103/200\n",
      "26/26 [==============================] - 9s 340ms/step - loss: 0.6584 - accuracy: 0.7748 - val_loss: 1.2835 - val_accuracy: 0.7335\n",
      "Epoch 104/200\n",
      "26/26 [==============================] - 8s 316ms/step - loss: 0.6587 - accuracy: 0.7706 - val_loss: 1.2121 - val_accuracy: 0.7188\n",
      "Epoch 105/200\n",
      "26/26 [==============================] - 8s 319ms/step - loss: 0.7349 - accuracy: 0.7597 - val_loss: 1.0134 - val_accuracy: 0.7384\n",
      "Epoch 106/200\n",
      "26/26 [==============================] - 8s 324ms/step - loss: 0.7143 - accuracy: 0.7530 - val_loss: 0.9851 - val_accuracy: 0.7384\n",
      "Epoch 107/200\n",
      "26/26 [==============================] - 8s 322ms/step - loss: 0.7109 - accuracy: 0.7633 - val_loss: 0.9586 - val_accuracy: 0.7775\n",
      "Epoch 108/200\n",
      "26/26 [==============================] - 8s 320ms/step - loss: 0.6705 - accuracy: 0.7748 - val_loss: 1.2537 - val_accuracy: 0.7311\n",
      "Epoch 109/200\n",
      "26/26 [==============================] - 8s 320ms/step - loss: 0.6927 - accuracy: 0.7748 - val_loss: 1.2921 - val_accuracy: 0.7066\n",
      "Epoch 110/200\n",
      "26/26 [==============================] - 8s 322ms/step - loss: 0.6996 - accuracy: 0.7700 - val_loss: 1.6224 - val_accuracy: 0.7115\n",
      "Epoch 111/200\n",
      "26/26 [==============================] - 8s 323ms/step - loss: 0.6508 - accuracy: 0.7906 - val_loss: 1.2464 - val_accuracy: 0.7433\n",
      "Epoch 112/200\n",
      "26/26 [==============================] - 8s 316ms/step - loss: 0.6632 - accuracy: 0.7797 - val_loss: 1.4320 - val_accuracy: 0.7262\n",
      "Epoch 113/200\n",
      "26/26 [==============================] - 8s 319ms/step - loss: 0.6604 - accuracy: 0.7694 - val_loss: 1.4660 - val_accuracy: 0.7335\n",
      "Epoch 114/200\n",
      "26/26 [==============================] - 8s 321ms/step - loss: 0.6255 - accuracy: 0.7887 - val_loss: 1.2514 - val_accuracy: 0.7237\n",
      "Epoch 115/200\n",
      "26/26 [==============================] - 8s 321ms/step - loss: 0.6512 - accuracy: 0.7833 - val_loss: 1.7203 - val_accuracy: 0.7335\n",
      "Epoch 116/200\n",
      "26/26 [==============================] - 8s 318ms/step - loss: 0.6808 - accuracy: 0.7724 - val_loss: 1.4711 - val_accuracy: 0.7237\n",
      "Epoch 117/200\n",
      "26/26 [==============================] - 8s 322ms/step - loss: 0.6425 - accuracy: 0.7851 - val_loss: 1.5002 - val_accuracy: 0.7164\n",
      "Epoch 118/200\n",
      "26/26 [==============================] - 8s 321ms/step - loss: 0.6929 - accuracy: 0.7597 - val_loss: 1.1282 - val_accuracy: 0.7359\n",
      "Epoch 119/200\n",
      "26/26 [==============================] - 8s 317ms/step - loss: 0.6527 - accuracy: 0.7972 - val_loss: 1.5174 - val_accuracy: 0.6919\n",
      "Epoch 120/200\n",
      "26/26 [==============================] - 8s 318ms/step - loss: 0.6349 - accuracy: 0.7845 - val_loss: 1.2125 - val_accuracy: 0.7286\n",
      "Epoch 121/200\n",
      "26/26 [==============================] - 8s 323ms/step - loss: 0.6454 - accuracy: 0.7791 - val_loss: 1.0610 - val_accuracy: 0.7115\n",
      "Epoch 122/200\n",
      "26/26 [==============================] - 8s 314ms/step - loss: 0.6556 - accuracy: 0.7851 - val_loss: 0.8260 - val_accuracy: 0.8044\n",
      "Epoch 123/200\n",
      "26/26 [==============================] - 8s 322ms/step - loss: 0.6758 - accuracy: 0.7845 - val_loss: 1.1994 - val_accuracy: 0.6944\n",
      "Epoch 124/200\n",
      "26/26 [==============================] - 8s 311ms/step - loss: 0.6605 - accuracy: 0.7797 - val_loss: 1.0559 - val_accuracy: 0.7628\n",
      "Epoch 125/200\n",
      "26/26 [==============================] - 9s 333ms/step - loss: 0.6536 - accuracy: 0.7742 - val_loss: 0.7686 - val_accuracy: 0.8142\n",
      "Epoch 126/200\n",
      "26/26 [==============================] - 8s 312ms/step - loss: 0.6979 - accuracy: 0.7797 - val_loss: 1.1183 - val_accuracy: 0.7751\n",
      "Epoch 127/200\n",
      "26/26 [==============================] - 8s 320ms/step - loss: 0.6789 - accuracy: 0.7651 - val_loss: 1.1118 - val_accuracy: 0.7726\n",
      "Epoch 128/200\n",
      "26/26 [==============================] - 8s 321ms/step - loss: 0.6403 - accuracy: 0.7875 - val_loss: 1.1975 - val_accuracy: 0.7531\n",
      "Epoch 129/200\n",
      "26/26 [==============================] - 9s 347ms/step - loss: 0.6329 - accuracy: 0.7875 - val_loss: 1.0244 - val_accuracy: 0.7824\n",
      "Epoch 130/200\n",
      "26/26 [==============================] - 9s 333ms/step - loss: 0.5399 - accuracy: 0.8178 - val_loss: 1.5599 - val_accuracy: 0.7555\n",
      "Epoch 131/200\n",
      "26/26 [==============================] - 9s 328ms/step - loss: 0.6367 - accuracy: 0.8033 - val_loss: 1.4462 - val_accuracy: 0.7604\n",
      "Epoch 132/200\n",
      "26/26 [==============================] - 8s 320ms/step - loss: 0.5880 - accuracy: 0.8039 - val_loss: 1.1135 - val_accuracy: 0.7848\n",
      "Epoch 133/200\n",
      "26/26 [==============================] - 8s 321ms/step - loss: 0.5870 - accuracy: 0.8099 - val_loss: 1.0516 - val_accuracy: 0.7751\n",
      "Epoch 134/200\n",
      "26/26 [==============================] - 8s 316ms/step - loss: 0.6174 - accuracy: 0.7996 - val_loss: 0.9336 - val_accuracy: 0.7677\n",
      "Epoch 135/200\n",
      "26/26 [==============================] - 8s 318ms/step - loss: 0.6139 - accuracy: 0.7996 - val_loss: 0.9733 - val_accuracy: 0.7628\n",
      "Epoch 136/200\n",
      "26/26 [==============================] - 8s 318ms/step - loss: 0.6314 - accuracy: 0.7845 - val_loss: 0.9207 - val_accuracy: 0.7702\n",
      "Epoch 137/200\n",
      "26/26 [==============================] - 8s 320ms/step - loss: 0.6415 - accuracy: 0.7754 - val_loss: 1.0608 - val_accuracy: 0.7433\n",
      "Epoch 138/200\n",
      "26/26 [==============================] - 8s 315ms/step - loss: 0.5720 - accuracy: 0.8105 - val_loss: 1.3882 - val_accuracy: 0.7139\n",
      "Epoch 139/200\n",
      "26/26 [==============================] - 8s 321ms/step - loss: 0.6196 - accuracy: 0.7875 - val_loss: 1.3855 - val_accuracy: 0.7433\n",
      "Epoch 140/200\n",
      "26/26 [==============================] - 8s 319ms/step - loss: 0.6294 - accuracy: 0.7924 - val_loss: 1.1756 - val_accuracy: 0.7359\n",
      "Epoch 141/200\n",
      "26/26 [==============================] - 8s 317ms/step - loss: 0.6091 - accuracy: 0.7978 - val_loss: 1.0444 - val_accuracy: 0.7751\n",
      "Epoch 142/200\n",
      "26/26 [==============================] - 8s 323ms/step - loss: 0.6444 - accuracy: 0.7948 - val_loss: 1.0869 - val_accuracy: 0.7555\n",
      "Epoch 143/200\n",
      "26/26 [==============================] - 8s 313ms/step - loss: 0.5930 - accuracy: 0.7918 - val_loss: 1.0564 - val_accuracy: 0.7604\n",
      "Epoch 144/200\n",
      "26/26 [==============================] - 8s 324ms/step - loss: 0.6357 - accuracy: 0.7960 - val_loss: 0.8382 - val_accuracy: 0.7971\n",
      "Epoch 145/200\n",
      "26/26 [==============================] - 8s 321ms/step - loss: 0.6148 - accuracy: 0.7930 - val_loss: 1.0958 - val_accuracy: 0.7384\n",
      "Epoch 146/200\n",
      "26/26 [==============================] - 8s 320ms/step - loss: 0.6200 - accuracy: 0.7900 - val_loss: 0.9996 - val_accuracy: 0.7824\n",
      "Epoch 147/200\n",
      "26/26 [==============================] - 8s 314ms/step - loss: 0.6437 - accuracy: 0.7930 - val_loss: 1.1619 - val_accuracy: 0.7751\n",
      "Epoch 148/200\n",
      "26/26 [==============================] - 8s 321ms/step - loss: 0.6173 - accuracy: 0.8069 - val_loss: 1.0110 - val_accuracy: 0.7824\n",
      "Epoch 149/200\n",
      "26/26 [==============================] - 8s 317ms/step - loss: 0.5970 - accuracy: 0.8008 - val_loss: 0.9643 - val_accuracy: 0.7751\n",
      "Epoch 150/200\n",
      "26/26 [==============================] - 8s 319ms/step - loss: 0.6231 - accuracy: 0.7936 - val_loss: 1.3184 - val_accuracy: 0.7433\n",
      "Epoch 151/200\n",
      "26/26 [==============================] - 8s 318ms/step - loss: 0.5754 - accuracy: 0.8117 - val_loss: 0.9961 - val_accuracy: 0.7824\n",
      "Epoch 152/200\n",
      "26/26 [==============================] - 8s 317ms/step - loss: 0.5794 - accuracy: 0.8166 - val_loss: 1.0114 - val_accuracy: 0.7800\n",
      "Epoch 153/200\n",
      "26/26 [==============================] - 8s 320ms/step - loss: 0.5672 - accuracy: 0.8184 - val_loss: 1.0329 - val_accuracy: 0.7897\n",
      "Epoch 154/200\n",
      "26/26 [==============================] - 8s 322ms/step - loss: 0.6166 - accuracy: 0.8002 - val_loss: 1.4947 - val_accuracy: 0.7384\n",
      "Epoch 155/200\n",
      "26/26 [==============================] - 8s 314ms/step - loss: 0.5938 - accuracy: 0.8105 - val_loss: 1.4677 - val_accuracy: 0.7531\n",
      "Epoch 156/200\n",
      "26/26 [==============================] - 8s 318ms/step - loss: 0.5976 - accuracy: 0.8021 - val_loss: 0.9004 - val_accuracy: 0.8215\n",
      "Epoch 157/200\n",
      "26/26 [==============================] - 8s 317ms/step - loss: 0.5849 - accuracy: 0.8027 - val_loss: 1.4113 - val_accuracy: 0.7751\n",
      "Epoch 158/200\n",
      "26/26 [==============================] - 8s 320ms/step - loss: 0.6032 - accuracy: 0.8051 - val_loss: 1.2365 - val_accuracy: 0.7751\n",
      "Epoch 159/200\n",
      "26/26 [==============================] - 8s 316ms/step - loss: 0.6399 - accuracy: 0.7912 - val_loss: 1.2308 - val_accuracy: 0.7604\n",
      "Epoch 160/200\n",
      "26/26 [==============================] - 8s 321ms/step - loss: 0.5891 - accuracy: 0.8075 - val_loss: 1.1150 - val_accuracy: 0.7726\n",
      "Epoch 161/200\n",
      "26/26 [==============================] - 8s 321ms/step - loss: 0.5521 - accuracy: 0.8148 - val_loss: 1.0819 - val_accuracy: 0.7775\n",
      "Epoch 162/200\n",
      "26/26 [==============================] - 8s 318ms/step - loss: 0.5814 - accuracy: 0.8027 - val_loss: 1.1794 - val_accuracy: 0.7506\n",
      "Epoch 163/200\n",
      "26/26 [==============================] - 8s 326ms/step - loss: 0.6083 - accuracy: 0.8081 - val_loss: 0.9860 - val_accuracy: 0.7604\n",
      "Epoch 164/200\n",
      "26/26 [==============================] - 8s 317ms/step - loss: 0.5761 - accuracy: 0.8111 - val_loss: 1.1421 - val_accuracy: 0.7751\n",
      "Epoch 165/200\n",
      "26/26 [==============================] - 8s 320ms/step - loss: 0.5762 - accuracy: 0.8184 - val_loss: 1.3418 - val_accuracy: 0.7457\n",
      "Epoch 166/200\n",
      "26/26 [==============================] - 8s 315ms/step - loss: 0.6214 - accuracy: 0.8051 - val_loss: 0.8482 - val_accuracy: 0.8166\n",
      "Epoch 167/200\n",
      "26/26 [==============================] - 8s 317ms/step - loss: 0.5766 - accuracy: 0.8093 - val_loss: 0.9247 - val_accuracy: 0.7628\n",
      "Epoch 168/200\n",
      "26/26 [==============================] - 8s 321ms/step - loss: 0.5862 - accuracy: 0.8117 - val_loss: 0.8821 - val_accuracy: 0.7800\n",
      "Epoch 169/200\n",
      "26/26 [==============================] - 8s 322ms/step - loss: 0.6039 - accuracy: 0.8075 - val_loss: 0.8187 - val_accuracy: 0.7800\n",
      "Epoch 170/200\n",
      "26/26 [==============================] - 8s 315ms/step - loss: 0.5722 - accuracy: 0.8172 - val_loss: 0.7608 - val_accuracy: 0.8509\n",
      "Epoch 171/200\n",
      "26/26 [==============================] - 8s 316ms/step - loss: 0.5763 - accuracy: 0.8087 - val_loss: 1.4986 - val_accuracy: 0.7604\n",
      "Epoch 172/200\n",
      "26/26 [==============================] - 8s 318ms/step - loss: 0.5948 - accuracy: 0.8142 - val_loss: 1.6602 - val_accuracy: 0.7237\n",
      "Epoch 173/200\n",
      "26/26 [==============================] - 8s 316ms/step - loss: 0.5876 - accuracy: 0.8045 - val_loss: 1.7868 - val_accuracy: 0.7066\n",
      "Epoch 174/200\n",
      "26/26 [==============================] - 8s 316ms/step - loss: 0.5873 - accuracy: 0.8117 - val_loss: 0.9963 - val_accuracy: 0.7579\n",
      "Epoch 175/200\n",
      "26/26 [==============================] - 8s 317ms/step - loss: 0.5763 - accuracy: 0.8081 - val_loss: 1.4895 - val_accuracy: 0.7482\n",
      "Epoch 176/200\n",
      "26/26 [==============================] - 8s 319ms/step - loss: 0.5774 - accuracy: 0.8075 - val_loss: 1.3189 - val_accuracy: 0.7775\n",
      "Epoch 177/200\n",
      "26/26 [==============================] - 8s 315ms/step - loss: 0.5607 - accuracy: 0.8178 - val_loss: 1.5826 - val_accuracy: 0.7359\n",
      "Epoch 178/200\n",
      "26/26 [==============================] - 8s 317ms/step - loss: 0.5755 - accuracy: 0.8075 - val_loss: 0.7994 - val_accuracy: 0.8289\n",
      "Epoch 179/200\n",
      "26/26 [==============================] - 8s 323ms/step - loss: 0.5501 - accuracy: 0.8347 - val_loss: 1.5258 - val_accuracy: 0.7531\n",
      "Epoch 180/200\n",
      "26/26 [==============================] - 8s 314ms/step - loss: 0.5297 - accuracy: 0.8226 - val_loss: 2.3046 - val_accuracy: 0.7139\n",
      "Epoch 181/200\n",
      "26/26 [==============================] - 8s 323ms/step - loss: 0.5770 - accuracy: 0.8269 - val_loss: 1.6711 - val_accuracy: 0.7262\n",
      "Epoch 182/200\n",
      "26/26 [==============================] - 8s 318ms/step - loss: 0.5624 - accuracy: 0.8178 - val_loss: 1.0371 - val_accuracy: 0.8020\n",
      "Epoch 183/200\n",
      "26/26 [==============================] - 8s 321ms/step - loss: 0.5555 - accuracy: 0.8214 - val_loss: 1.0731 - val_accuracy: 0.7653\n",
      "Epoch 184/200\n",
      "26/26 [==============================] - 8s 319ms/step - loss: 0.5643 - accuracy: 0.8172 - val_loss: 1.1824 - val_accuracy: 0.7726\n",
      "Epoch 185/200\n",
      "26/26 [==============================] - 8s 320ms/step - loss: 0.5337 - accuracy: 0.8390 - val_loss: 1.4226 - val_accuracy: 0.7653\n",
      "Epoch 186/200\n",
      "26/26 [==============================] - 8s 321ms/step - loss: 0.5727 - accuracy: 0.8178 - val_loss: 1.3471 - val_accuracy: 0.7457\n",
      "Epoch 187/200\n",
      "26/26 [==============================] - 8s 316ms/step - loss: 0.6041 - accuracy: 0.8111 - val_loss: 0.6978 - val_accuracy: 0.8362\n",
      "Epoch 188/200\n",
      "26/26 [==============================] - 8s 315ms/step - loss: 0.5572 - accuracy: 0.8232 - val_loss: 0.7927 - val_accuracy: 0.8337\n",
      "Epoch 189/200\n",
      "26/26 [==============================] - 8s 323ms/step - loss: 0.5004 - accuracy: 0.8390 - val_loss: 0.8194 - val_accuracy: 0.8093\n",
      "Epoch 190/200\n",
      "26/26 [==============================] - 8s 322ms/step - loss: 0.5463 - accuracy: 0.8238 - val_loss: 0.7676 - val_accuracy: 0.8142\n",
      "Epoch 191/200\n",
      "26/26 [==============================] - 8s 321ms/step - loss: 0.5480 - accuracy: 0.8287 - val_loss: 0.7429 - val_accuracy: 0.8240\n",
      "Epoch 192/200\n",
      "26/26 [==============================] - 8s 314ms/step - loss: 0.5600 - accuracy: 0.8257 - val_loss: 1.5726 - val_accuracy: 0.5770\n",
      "Epoch 193/200\n",
      "26/26 [==============================] - 8s 318ms/step - loss: 0.5420 - accuracy: 0.8263 - val_loss: 0.9895 - val_accuracy: 0.7971\n",
      "Epoch 194/200\n",
      "26/26 [==============================] - 8s 316ms/step - loss: 0.5541 - accuracy: 0.8317 - val_loss: 0.8445 - val_accuracy: 0.8117\n",
      "Epoch 195/200\n",
      "26/26 [==============================] - 8s 320ms/step - loss: 0.5242 - accuracy: 0.8378 - val_loss: 0.7693 - val_accuracy: 0.8166\n",
      "Epoch 196/200\n",
      "26/26 [==============================] - 8s 317ms/step - loss: 0.5562 - accuracy: 0.8257 - val_loss: 0.8319 - val_accuracy: 0.8142\n",
      "Epoch 197/200\n",
      "26/26 [==============================] - 8s 324ms/step - loss: 0.5199 - accuracy: 0.8426 - val_loss: 0.6743 - val_accuracy: 0.8264\n",
      "Epoch 198/200\n",
      "26/26 [==============================] - 8s 322ms/step - loss: 0.5135 - accuracy: 0.8396 - val_loss: 0.8722 - val_accuracy: 0.8117\n",
      "Epoch 199/200\n",
      "26/26 [==============================] - 9s 357ms/step - loss: 0.5225 - accuracy: 0.8329 - val_loss: 1.1862 - val_accuracy: 0.7873\n",
      "Epoch 200/200\n",
      "26/26 [==============================] - 10s 375ms/step - loss: 0.5419 - accuracy: 0.8232 - val_loss: 1.9514 - val_accuracy: 0.5452\n",
      "Execution time is 1698 seconds\n"
     ]
    }
   ],
   "source": [
    "model3.compile(optimizer =SGD(lr=0.03, momentum = 0.9), loss = 'categorical_crossentropy', metrics = ['accuracy'])\n",
    "\n",
    "########################\n",
    "# fit model and train\n",
    "########################\n",
    "\n",
    "import time\n",
    "start = time.time()\n",
    "\n",
    "history=model3.fit_generator(\n",
    "        train_generator, \n",
    "        steps_per_epoch = len(train_generator), \n",
    "        epochs=200,\n",
    "        validation_data = validation_generator,\n",
    "        validation_steps = len(validation_generator), \n",
    "        verbose=1)\n",
    "\n",
    "model3.save_weights('m3_BatchNorm_200epochs.h5')\n",
    "\n",
    "end = time.time()\n",
    "print(\"Execution time is\", int(end - start), \"seconds\")"
   ]
  },
  {
   "cell_type": "code",
   "execution_count": 44,
   "metadata": {},
   "outputs": [
    {
     "data": {
      "text/plain": [
       "<matplotlib.legend.Legend at 0x7fe9134d0790>"
      ]
     },
     "execution_count": 44,
     "metadata": {},
     "output_type": "execute_result"
    },
    {
     "data": {
      "image/png": "[encoded data removed]",
      "text/plain": [
       "<Figure size 432x288 with 1 Axes>"
      ]
     },
     "metadata": {
      "needs_background": "light"
     },
     "output_type": "display_data"
    }
   ],
   "source": [
    "## Plotting the results \n",
    "plt.plot(history.history['accuracy'], label='accuracy')\n",
    "plt.plot(history.history['val_accuracy'], label = 'val_accuracy')\n",
    "plt.title(\"Train and Valid Accuracy by Epochs\")\n",
    "plt.xlabel('Epoch')\n",
    "plt.ylabel('Accuracy')\n",
    "plt.ylim([0,1])\n",
    "plt.legend(loc='lower right')"
   ]
  },
  {
   "cell_type": "code",
   "execution_count": 45,
   "metadata": {},
   "outputs": [
    {
     "name": "stdout",
     "output_type": "stream",
     "text": [
      "Epoch 1/2\n",
      "26/26 [==============================] - 10s 384ms/step - loss: 0.5329 - accuracy: 0.8299 - val_loss: 0.7675 - val_accuracy: 0.7555\n",
      "Epoch 2/2\n",
      "26/26 [==============================] - 10s 380ms/step - loss: 0.5237 - accuracy: 0.8184 - val_loss: 0.5811 - val_accuracy: 0.8166\n"
     ]
    }
   ],
   "source": [
    "model3.load_weights(Data_path+\"/Pre_trained_models/m3_BatchNorm_200epochs.h5\")\n",
    "\n",
    "history=model3.fit_generator(\n",
    "        train_generator, \n",
    "        steps_per_epoch = len(train_generator), \n",
    "        epochs=2,\n",
    "        validation_data = validation_generator,\n",
    "        validation_steps = len(validation_generator), \n",
    "        verbose=1)"
   ]
  },
  {
   "cell_type": "markdown",
   "metadata": {},
   "source": [
    "## Adam  Optimizer "
   ]
  },
  {
   "cell_type": "code",
   "execution_count": 46,
   "metadata": {},
   "outputs": [
    {
     "name": "stdout",
     "output_type": "stream",
     "text": [
      "Epoch 1/100\n",
      "26/26 [==============================] - 10s 399ms/step - loss: 0.5666 - accuracy: 0.8184 - val_loss: 0.7653 - val_accuracy: 0.7922\n",
      "Epoch 2/100\n",
      "26/26 [==============================] - 10s 390ms/step - loss: 0.5375 - accuracy: 0.8160 - val_loss: 0.7394 - val_accuracy: 0.7848\n",
      "Epoch 3/100\n",
      "26/26 [==============================] - 10s 380ms/step - loss: 0.5413 - accuracy: 0.8202 - val_loss: 0.8366 - val_accuracy: 0.7922\n",
      "Epoch 4/100\n",
      "26/26 [==============================] - 10s 380ms/step - loss: 0.5718 - accuracy: 0.8057 - val_loss: 1.8426 - val_accuracy: 0.6675\n",
      "Epoch 5/100\n",
      "26/26 [==============================] - 10s 378ms/step - loss: 0.4880 - accuracy: 0.8317 - val_loss: 1.3496 - val_accuracy: 0.7359\n",
      "Epoch 6/100\n",
      "26/26 [==============================] - 10s 382ms/step - loss: 0.5058 - accuracy: 0.8257 - val_loss: 0.9556 - val_accuracy: 0.7604\n",
      "Epoch 7/100\n",
      "26/26 [==============================] - 10s 380ms/step - loss: 0.5171 - accuracy: 0.8281 - val_loss: 1.1236 - val_accuracy: 0.7775\n",
      "Epoch 8/100\n",
      "26/26 [==============================] - 10s 389ms/step - loss: 0.5895 - accuracy: 0.8008 - val_loss: 0.8407 - val_accuracy: 0.7628\n",
      "Epoch 9/100\n",
      "26/26 [==============================] - 10s 390ms/step - loss: 0.5252 - accuracy: 0.8111 - val_loss: 0.8758 - val_accuracy: 0.7359\n",
      "Epoch 10/100\n",
      "26/26 [==============================] - 10s 393ms/step - loss: 0.5207 - accuracy: 0.8269 - val_loss: 0.9051 - val_accuracy: 0.7335\n",
      "Epoch 11/100\n",
      "26/26 [==============================] - 10s 376ms/step - loss: 0.4986 - accuracy: 0.8341 - val_loss: 1.2466 - val_accuracy: 0.6846\n",
      "Epoch 12/100\n",
      "26/26 [==============================] - 10s 380ms/step - loss: 0.5335 - accuracy: 0.8311 - val_loss: 1.6167 - val_accuracy: 0.6553\n",
      "Epoch 13/100\n",
      "26/26 [==============================] - 10s 397ms/step - loss: 0.5191 - accuracy: 0.8341 - val_loss: 1.4058 - val_accuracy: 0.6919\n",
      "Epoch 14/100\n",
      "26/26 [==============================] - 10s 383ms/step - loss: 0.5535 - accuracy: 0.8184 - val_loss: 1.2283 - val_accuracy: 0.7262\n",
      "Epoch 15/100\n",
      "26/26 [==============================] - 10s 383ms/step - loss: 0.5207 - accuracy: 0.8245 - val_loss: 0.6551 - val_accuracy: 0.8215\n",
      "Epoch 16/100\n",
      "26/26 [==============================] - 10s 393ms/step - loss: 0.5233 - accuracy: 0.8287 - val_loss: 0.6720 - val_accuracy: 0.8215\n",
      "Epoch 17/100\n",
      "26/26 [==============================] - 10s 386ms/step - loss: 0.5472 - accuracy: 0.8166 - val_loss: 0.8452 - val_accuracy: 0.7971\n",
      "Epoch 18/100\n",
      "26/26 [==============================] - 10s 385ms/step - loss: 0.4867 - accuracy: 0.8481 - val_loss: 0.8874 - val_accuracy: 0.7653\n",
      "Epoch 19/100\n",
      "26/26 [==============================] - 10s 386ms/step - loss: 0.5177 - accuracy: 0.8360 - val_loss: 0.6891 - val_accuracy: 0.8142\n",
      "Epoch 20/100\n",
      "26/26 [==============================] - 10s 384ms/step - loss: 0.4931 - accuracy: 0.8390 - val_loss: 0.8399 - val_accuracy: 0.8191\n",
      "Epoch 21/100\n",
      "26/26 [==============================] - 10s 382ms/step - loss: 0.5072 - accuracy: 0.8257 - val_loss: 1.0576 - val_accuracy: 0.7433\n",
      "Epoch 22/100\n",
      "26/26 [==============================] - 10s 384ms/step - loss: 0.4803 - accuracy: 0.8245 - val_loss: 1.2519 - val_accuracy: 0.7017\n",
      "Epoch 23/100\n",
      "26/26 [==============================] - 10s 381ms/step - loss: 0.4722 - accuracy: 0.8475 - val_loss: 1.2056 - val_accuracy: 0.7164\n",
      "Epoch 24/100\n",
      "26/26 [==============================] - 10s 377ms/step - loss: 0.4805 - accuracy: 0.8384 - val_loss: 0.8799 - val_accuracy: 0.7726\n",
      "Epoch 25/100\n",
      "26/26 [==============================] - 10s 391ms/step - loss: 0.4920 - accuracy: 0.8360 - val_loss: 0.8789 - val_accuracy: 0.7848\n",
      "Epoch 26/100\n",
      "26/26 [==============================] - 10s 386ms/step - loss: 0.4564 - accuracy: 0.8487 - val_loss: 0.7360 - val_accuracy: 0.7922\n",
      "Epoch 27/100\n",
      "26/26 [==============================] - 10s 396ms/step - loss: 0.4892 - accuracy: 0.8293 - val_loss: 0.5286 - val_accuracy: 0.8264\n",
      "Epoch 28/100\n",
      "26/26 [==============================] - 10s 392ms/step - loss: 0.5109 - accuracy: 0.8311 - val_loss: 0.5491 - val_accuracy: 0.8117\n",
      "Epoch 29/100\n",
      "26/26 [==============================] - 10s 386ms/step - loss: 0.4660 - accuracy: 0.8614 - val_loss: 1.1467 - val_accuracy: 0.6993\n",
      "Epoch 30/100\n",
      "26/26 [==============================] - 10s 386ms/step - loss: 0.4938 - accuracy: 0.8426 - val_loss: 0.9548 - val_accuracy: 0.7359\n",
      "Epoch 31/100\n",
      "26/26 [==============================] - 10s 387ms/step - loss: 0.4787 - accuracy: 0.8311 - val_loss: 0.7682 - val_accuracy: 0.7751\n",
      "Epoch 32/100\n",
      "26/26 [==============================] - 10s 378ms/step - loss: 0.4814 - accuracy: 0.8341 - val_loss: 1.6064 - val_accuracy: 0.6553\n",
      "Epoch 33/100\n",
      "26/26 [==============================] - 10s 386ms/step - loss: 0.4616 - accuracy: 0.8523 - val_loss: 1.0173 - val_accuracy: 0.7164\n",
      "Epoch 34/100\n",
      "26/26 [==============================] - 10s 392ms/step - loss: 0.4880 - accuracy: 0.8487 - val_loss: 0.6208 - val_accuracy: 0.7873\n",
      "Epoch 35/100\n",
      "26/26 [==============================] - 10s 385ms/step - loss: 0.5172 - accuracy: 0.8281 - val_loss: 0.7578 - val_accuracy: 0.7531\n",
      "Epoch 36/100\n",
      "26/26 [==============================] - 10s 390ms/step - loss: 0.4619 - accuracy: 0.8450 - val_loss: 0.6920 - val_accuracy: 0.7628\n",
      "Epoch 37/100\n",
      "26/26 [==============================] - 10s 387ms/step - loss: 0.4559 - accuracy: 0.8432 - val_loss: 0.5126 - val_accuracy: 0.8313\n",
      "Epoch 38/100\n",
      "26/26 [==============================] - 9s 341ms/step - loss: 0.4940 - accuracy: 0.8414 - val_loss: 0.7697 - val_accuracy: 0.7604\n",
      "Epoch 39/100\n",
      "26/26 [==============================] - 9s 332ms/step - loss: 0.4576 - accuracy: 0.8523 - val_loss: 0.6315 - val_accuracy: 0.8044\n",
      "Epoch 40/100\n",
      "26/26 [==============================] - 8s 323ms/step - loss: 0.5017 - accuracy: 0.8323 - val_loss: 0.7777 - val_accuracy: 0.7922\n",
      "Epoch 41/100\n",
      "26/26 [==============================] - 9s 346ms/step - loss: 0.4168 - accuracy: 0.8577 - val_loss: 0.9173 - val_accuracy: 0.7237\n",
      "Epoch 42/100\n",
      "26/26 [==============================] - 9s 341ms/step - loss: 0.4763 - accuracy: 0.8450 - val_loss: 0.5167 - val_accuracy: 0.8289\n",
      "Epoch 43/100\n",
      "26/26 [==============================] - 9s 341ms/step - loss: 0.4650 - accuracy: 0.8426 - val_loss: 0.5717 - val_accuracy: 0.8264\n",
      "Epoch 44/100\n",
      "26/26 [==============================] - 9s 330ms/step - loss: 0.4288 - accuracy: 0.8511 - val_loss: 0.8576 - val_accuracy: 0.7531\n",
      "Epoch 45/100\n",
      "26/26 [==============================] - 8s 322ms/step - loss: 0.4760 - accuracy: 0.8577 - val_loss: 0.6632 - val_accuracy: 0.8117\n",
      "Epoch 46/100\n",
      "26/26 [==============================] - 9s 327ms/step - loss: 0.4148 - accuracy: 0.8632 - val_loss: 0.5499 - val_accuracy: 0.8117\n",
      "Epoch 47/100\n",
      "26/26 [==============================] - 8s 325ms/step - loss: 0.4824 - accuracy: 0.8402 - val_loss: 0.7907 - val_accuracy: 0.7824\n",
      "Epoch 48/100\n",
      "26/26 [==============================] - 8s 319ms/step - loss: 0.4443 - accuracy: 0.8541 - val_loss: 0.6978 - val_accuracy: 0.7995\n",
      "Epoch 49/100\n",
      "26/26 [==============================] - 8s 324ms/step - loss: 0.4520 - accuracy: 0.8541 - val_loss: 0.7097 - val_accuracy: 0.8068\n",
      "Epoch 50/100\n",
      "26/26 [==============================] - 8s 321ms/step - loss: 0.4341 - accuracy: 0.8529 - val_loss: 0.5458 - val_accuracy: 0.8191\n",
      "Epoch 51/100\n",
      "26/26 [==============================] - 8s 320ms/step - loss: 0.4183 - accuracy: 0.8632 - val_loss: 0.6600 - val_accuracy: 0.8142\n",
      "Epoch 52/100\n",
      "26/26 [==============================] - 8s 323ms/step - loss: 0.4310 - accuracy: 0.8547 - val_loss: 0.6517 - val_accuracy: 0.8117\n",
      "Epoch 53/100\n",
      "26/26 [==============================] - 8s 321ms/step - loss: 0.4150 - accuracy: 0.8614 - val_loss: 0.6952 - val_accuracy: 0.8044\n",
      "Epoch 54/100\n",
      "26/26 [==============================] - 8s 323ms/step - loss: 0.4201 - accuracy: 0.8584 - val_loss: 1.3188 - val_accuracy: 0.6944\n",
      "Epoch 55/100\n",
      "26/26 [==============================] - 8s 325ms/step - loss: 0.4253 - accuracy: 0.8596 - val_loss: 1.4895 - val_accuracy: 0.6895\n",
      "Epoch 56/100\n",
      "26/26 [==============================] - 8s 319ms/step - loss: 0.4382 - accuracy: 0.8717 - val_loss: 0.7794 - val_accuracy: 0.7702\n",
      "Epoch 57/100\n",
      "26/26 [==============================] - 8s 321ms/step - loss: 0.4192 - accuracy: 0.8638 - val_loss: 0.7839 - val_accuracy: 0.7800\n",
      "Epoch 58/100\n",
      "26/26 [==============================] - 8s 320ms/step - loss: 0.4326 - accuracy: 0.8620 - val_loss: 0.8270 - val_accuracy: 0.7824\n",
      "Epoch 59/100\n",
      "26/26 [==============================] - 8s 319ms/step - loss: 0.4049 - accuracy: 0.8650 - val_loss: 0.6624 - val_accuracy: 0.8117\n",
      "Epoch 60/100\n",
      "26/26 [==============================] - 8s 323ms/step - loss: 0.4702 - accuracy: 0.8529 - val_loss: 0.7839 - val_accuracy: 0.7971\n",
      "Epoch 61/100\n",
      "26/26 [==============================] - 8s 321ms/step - loss: 0.3981 - accuracy: 0.8741 - val_loss: 0.7338 - val_accuracy: 0.8117\n",
      "Epoch 62/100\n",
      "26/26 [==============================] - 8s 321ms/step - loss: 0.4855 - accuracy: 0.8354 - val_loss: 1.0834 - val_accuracy: 0.7555\n",
      "Epoch 63/100\n",
      "26/26 [==============================] - 8s 316ms/step - loss: 0.4342 - accuracy: 0.8620 - val_loss: 0.6956 - val_accuracy: 0.7946\n",
      "Epoch 64/100\n",
      "26/26 [==============================] - 8s 324ms/step - loss: 0.4238 - accuracy: 0.8590 - val_loss: 0.7693 - val_accuracy: 0.7800\n",
      "Epoch 65/100\n",
      "26/26 [==============================] - 8s 321ms/step - loss: 0.4405 - accuracy: 0.8523 - val_loss: 1.0041 - val_accuracy: 0.7384\n",
      "Epoch 66/100\n",
      "26/26 [==============================] - 8s 326ms/step - loss: 0.4060 - accuracy: 0.8699 - val_loss: 0.8936 - val_accuracy: 0.7653\n",
      "Epoch 67/100\n",
      "26/26 [==============================] - 8s 319ms/step - loss: 0.4525 - accuracy: 0.8541 - val_loss: 0.7263 - val_accuracy: 0.7751\n",
      "Epoch 68/100\n",
      "26/26 [==============================] - 8s 320ms/step - loss: 0.4433 - accuracy: 0.8469 - val_loss: 0.9234 - val_accuracy: 0.7897\n",
      "Epoch 69/100\n",
      "26/26 [==============================] - 8s 318ms/step - loss: 0.4269 - accuracy: 0.8577 - val_loss: 0.7858 - val_accuracy: 0.8264\n",
      "Epoch 70/100\n",
      "26/26 [==============================] - 8s 319ms/step - loss: 0.4259 - accuracy: 0.8638 - val_loss: 0.9353 - val_accuracy: 0.8044\n",
      "Epoch 71/100\n",
      "26/26 [==============================] - 8s 322ms/step - loss: 0.4140 - accuracy: 0.8620 - val_loss: 0.7273 - val_accuracy: 0.8044\n",
      "Epoch 72/100\n",
      "26/26 [==============================] - 8s 319ms/step - loss: 0.4313 - accuracy: 0.8541 - val_loss: 0.6731 - val_accuracy: 0.8142\n",
      "Epoch 73/100\n",
      "26/26 [==============================] - 8s 326ms/step - loss: 0.4102 - accuracy: 0.8650 - val_loss: 0.5237 - val_accuracy: 0.8484\n",
      "Epoch 74/100\n",
      "26/26 [==============================] - 8s 320ms/step - loss: 0.4400 - accuracy: 0.8547 - val_loss: 0.6889 - val_accuracy: 0.8362\n",
      "Epoch 75/100\n",
      "26/26 [==============================] - 8s 325ms/step - loss: 0.3534 - accuracy: 0.8862 - val_loss: 0.5870 - val_accuracy: 0.8509\n",
      "Epoch 76/100\n",
      "26/26 [==============================] - 8s 324ms/step - loss: 0.4380 - accuracy: 0.8541 - val_loss: 0.9896 - val_accuracy: 0.7604\n",
      "Epoch 77/100\n",
      "26/26 [==============================] - 8s 323ms/step - loss: 0.4348 - accuracy: 0.8620 - val_loss: 0.9379 - val_accuracy: 0.7555\n",
      "Epoch 78/100\n",
      "26/26 [==============================] - 9s 343ms/step - loss: 0.4104 - accuracy: 0.8747 - val_loss: 1.1562 - val_accuracy: 0.7139\n",
      "Epoch 79/100\n",
      "26/26 [==============================] - 9s 354ms/step - loss: 0.4559 - accuracy: 0.8584 - val_loss: 1.2473 - val_accuracy: 0.7262\n",
      "Epoch 80/100\n",
      "26/26 [==============================] - 10s 381ms/step - loss: 0.4279 - accuracy: 0.8650 - val_loss: 1.7278 - val_accuracy: 0.7090\n",
      "Epoch 81/100\n",
      "26/26 [==============================] - 10s 383ms/step - loss: 0.4264 - accuracy: 0.8759 - val_loss: 1.6923 - val_accuracy: 0.7017\n",
      "Epoch 82/100\n",
      "26/26 [==============================] - 10s 381ms/step - loss: 0.4739 - accuracy: 0.8487 - val_loss: 0.9728 - val_accuracy: 0.7262\n",
      "Epoch 83/100\n",
      "26/26 [==============================] - 10s 385ms/step - loss: 0.4250 - accuracy: 0.8656 - val_loss: 1.1213 - val_accuracy: 0.7286\n",
      "Epoch 84/100\n",
      "26/26 [==============================] - 10s 385ms/step - loss: 0.3997 - accuracy: 0.8777 - val_loss: 0.9006 - val_accuracy: 0.7604\n",
      "Epoch 85/100\n",
      "26/26 [==============================] - 10s 387ms/step - loss: 0.3951 - accuracy: 0.8753 - val_loss: 0.7688 - val_accuracy: 0.7848\n",
      "Epoch 86/100\n",
      "26/26 [==============================] - 10s 391ms/step - loss: 0.4508 - accuracy: 0.8590 - val_loss: 0.6080 - val_accuracy: 0.8313\n",
      "Epoch 87/100\n",
      "26/26 [==============================] - 10s 383ms/step - loss: 0.3938 - accuracy: 0.8771 - val_loss: 0.6971 - val_accuracy: 0.8264\n",
      "Epoch 88/100\n",
      "26/26 [==============================] - 10s 372ms/step - loss: 0.3930 - accuracy: 0.8650 - val_loss: 0.6915 - val_accuracy: 0.8411\n",
      "Epoch 89/100\n",
      "26/26 [==============================] - 10s 377ms/step - loss: 0.4395 - accuracy: 0.8662 - val_loss: 1.4348 - val_accuracy: 0.7164\n",
      "Epoch 90/100\n",
      "26/26 [==============================] - 10s 372ms/step - loss: 0.4174 - accuracy: 0.8692 - val_loss: 0.6580 - val_accuracy: 0.8386\n",
      "Epoch 91/100\n",
      "26/26 [==============================] - 10s 375ms/step - loss: 0.3957 - accuracy: 0.8614 - val_loss: 0.7388 - val_accuracy: 0.8191\n",
      "Epoch 92/100\n",
      "26/26 [==============================] - 10s 367ms/step - loss: 0.4006 - accuracy: 0.8723 - val_loss: 0.6890 - val_accuracy: 0.8264\n",
      "Epoch 93/100\n",
      "26/26 [==============================] - 10s 373ms/step - loss: 0.4142 - accuracy: 0.8644 - val_loss: 1.0213 - val_accuracy: 0.7800\n",
      "Epoch 94/100\n",
      "26/26 [==============================] - 10s 369ms/step - loss: 0.4311 - accuracy: 0.8608 - val_loss: 1.5214 - val_accuracy: 0.6944\n",
      "Epoch 95/100\n",
      "26/26 [==============================] - 10s 379ms/step - loss: 0.4073 - accuracy: 0.8632 - val_loss: 0.8475 - val_accuracy: 0.8044\n",
      "Epoch 96/100\n",
      "26/26 [==============================] - 10s 379ms/step - loss: 0.4288 - accuracy: 0.8608 - val_loss: 1.0130 - val_accuracy: 0.7433\n",
      "Epoch 97/100\n",
      "26/26 [==============================] - 10s 376ms/step - loss: 0.4349 - accuracy: 0.8553 - val_loss: 1.2754 - val_accuracy: 0.7164\n",
      "Epoch 98/100\n",
      "26/26 [==============================] - 10s 394ms/step - loss: 0.3936 - accuracy: 0.8711 - val_loss: 1.3816 - val_accuracy: 0.7139\n",
      "Epoch 99/100\n",
      "26/26 [==============================] - 10s 390ms/step - loss: 0.4162 - accuracy: 0.8650 - val_loss: 1.6061 - val_accuracy: 0.7457\n",
      "Epoch 100/100\n",
      "26/26 [==============================] - 10s 389ms/step - loss: 0.4186 - accuracy: 0.8644 - val_loss: 1.7305 - val_accuracy: 0.6993\n",
      "Execution time is 934 seconds\n"
     ]
    }
   ],
   "source": [
    "model3.compile(optimizer =Adam(learning_rate=0.005, beta_1=0.9, beta_2=0.999), loss = 'categorical_crossentropy', metrics = ['accuracy'])\n",
    "\n",
    "########################\n",
    "# fit model and train\n",
    "########################\n",
    "\n",
    "import time\n",
    "start = time.time()\n",
    "\n",
    "history=model3.fit_generator(\n",
    "        train_generator, \n",
    "        steps_per_epoch = len(train_generator), \n",
    "        epochs=100,\n",
    "        validation_data = validation_generator,\n",
    "        validation_steps = len(validation_generator), \n",
    "        verbose=1)\n",
    "\n",
    "model3.save_weights('m3_BatchNorm_and_Adam_100epochs.h5')\n",
    "\n",
    "end = time.time()\n",
    "print(\"Execution time is\", int(end - start), \"seconds\")"
   ]
  },
  {
   "cell_type": "code",
   "execution_count": 47,
   "metadata": {},
   "outputs": [
    {
     "data": {
      "text/plain": [
       "<matplotlib.legend.Legend at 0x7fe9113eda50>"
      ]
     },
     "execution_count": 47,
     "metadata": {},
     "output_type": "execute_result"
    },
    {
     "data": {
      "image/png": "[encoded data removed]",
      "text/plain": [
       "<Figure size 432x288 with 1 Axes>"
      ]
     },
     "metadata": {
      "needs_background": "light"
     },
     "output_type": "display_data"
    }
   ],
   "source": [
    "## Plotting the results \n",
    "plt.plot(history.history['accuracy'], label='accuracy')\n",
    "plt.plot(history.history['val_accuracy'], label = 'val_accuracy')\n",
    "plt.title(\"Train and Valid Accuracy by Epochs\")\n",
    "plt.xlabel('Epoch')\n",
    "plt.ylabel('Accuracy')\n",
    "plt.ylim([0,1])\n",
    "plt.legend(loc='lower right')"
   ]
  },
  {
   "cell_type": "code",
   "execution_count": 48,
   "metadata": {},
   "outputs": [
    {
     "name": "stdout",
     "output_type": "stream",
     "text": [
      "Epoch 1/2\n",
      "26/26 [==============================] - 10s 399ms/step - loss: 0.5992 - accuracy: 0.7918 - val_loss: 1.8067 - val_accuracy: 0.5697\n",
      "Epoch 2/2\n",
      "26/26 [==============================] - 10s 387ms/step - loss: 0.5501 - accuracy: 0.7978 - val_loss: 0.9323 - val_accuracy: 0.7751\n"
     ]
    }
   ],
   "source": [
    "model3.load_weights(Data_path+\"/Pre_trained_models/m3_BatchNorm_and_Adam_100epochs.h5\")\n",
    "\n",
    "history=model3.fit_generator(\n",
    "        train_generator, \n",
    "        steps_per_epoch = len(train_generator), \n",
    "        epochs=2,\n",
    "        validation_data = validation_generator,\n",
    "        validation_steps = len(validation_generator), \n",
    "        verbose=1)"
   ]
  },
  {
   "cell_type": "code",
   "execution_count": null,
   "metadata": {},
   "outputs": [],
   "source": []
  }
 ],
 "metadata": {
  "kernelspec": {
   "display_name": "Python 3",
   "language": "python",
   "name": "python3"
  },
  "language_info": {
   "codemirror_mode": {
    "name": "ipython",
    "version": 3
   },
   "file_extension": ".py",
   "mimetype": "text/x-python",
   "name": "python",
   "nbconvert_exporter": "python",
   "pygments_lexer": "ipython3",
   "version": "3.7.4"
  }
 },
 "nbformat": 4,
 "nbformat_minor": 4
}

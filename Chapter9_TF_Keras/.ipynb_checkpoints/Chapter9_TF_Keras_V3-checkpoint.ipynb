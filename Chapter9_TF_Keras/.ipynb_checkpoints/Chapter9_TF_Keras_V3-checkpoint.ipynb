{
 "cells": [
  {
   "cell_type": "markdown",
   "metadata": {},
   "source": [
    "# TensorFlow and Keras"
   ]
  },
  {
   "cell_type": "code",
   "execution_count": 1,
   "metadata": {},
   "outputs": [],
   "source": [
    "#Uncomment and use it\n",
    "#!pip install tensorflow"
   ]
  },
  {
   "cell_type": "code",
   "execution_count": 2,
   "metadata": {},
   "outputs": [
    {
     "name": "stdout",
     "output_type": "stream",
     "text": [
      "Name: tensorflow\n",
      "Version: 2.0.0\n",
      "Summary: TensorFlow is an open source machine learning framework for everyone.\n",
      "Home-page: https://www.tensorflow.org/\n",
      "Author: Google Inc.\n",
      "Author-email: packages@tensorflow.org\n",
      "License: Apache 2.0\n",
      "Location: /Users/shuang/opt/anaconda3/lib/python3.7/site-packages\n",
      "Requires: astor, tensorboard, gast, keras-preprocessing, numpy, termcolor, opt-einsum, six, wheel, protobuf, absl-py, keras-applications, wrapt, grpcio, google-pasta, tensorflow-estimator\n",
      "Required-by: \n"
     ]
    }
   ],
   "source": [
    "!pip show tensorflow"
   ]
  },
  {
   "cell_type": "code",
   "execution_count": 3,
   "metadata": {},
   "outputs": [],
   "source": [
    "import tensorflow as tf\n",
    "%matplotlib inline  "
   ]
  },
  {
   "cell_type": "markdown",
   "metadata": {},
   "source": [
    "## Tensors"
   ]
  },
  {
   "cell_type": "markdown",
   "metadata": {},
   "source": [
    "#### Constants"
   ]
  },
  {
   "cell_type": "markdown",
   "metadata": {},
   "source": [
    "tf.constant creates constant values, these values do not change\n",
    "or update during optimization process(training phase)"
   ]
  },
  {
   "cell_type": "code",
   "execution_count": 4,
   "metadata": {},
   "outputs": [
    {
     "name": "stdout",
     "output_type": "stream",
     "text": [
      "tf.Tensor([50 10], shape=(2,), dtype=int32)\n"
     ]
    }
   ],
   "source": [
    "a = tf.constant([50,10])\n",
    "print(a)"
   ]
  },
  {
   "cell_type": "markdown",
   "metadata": {},
   "source": [
    "Few things that we can do with the tensors at the runtime:\n",
    "1. Directly get a numpy value of the tensor\n",
    "2. dtype : data type of the tensor(int16/int32/float32/float64)\n",
    "3. shape: shape of the tensor"
   ]
  },
  {
   "cell_type": "code",
   "execution_count": 5,
   "metadata": {},
   "outputs": [
    {
     "name": "stdout",
     "output_type": "stream",
     "text": [
      "a in tensorflow ==> tf.Tensor([50 10], shape=(2,), dtype=int32)\n",
      "numpy value of a ==> [50 10]\n",
      "dtype of a ==> <dtype: 'int32'>\n",
      "shape of a ==> (2,)\n"
     ]
    }
   ],
   "source": [
    "print('a in tensorflow ==>', a)\n",
    "print('numpy value of a ==>', a.numpy())\n",
    "print('dtype of a ==>', a.dtype)\n",
    "print('shape of a ==>', a.shape)"
   ]
  },
  {
   "cell_type": "markdown",
   "metadata": {},
   "source": [
    "We can use inbuild tf.XX() function to create constant tensors, just like numpy."
   ]
  },
  {
   "cell_type": "code",
   "execution_count": 6,
   "metadata": {},
   "outputs": [
    {
     "name": "stdout",
     "output_type": "stream",
     "text": [
      "Tensor of Ones: \n",
      " tf.Tensor(\n",
      "[[1. 1.]\n",
      " [1. 1.]], shape=(2, 2), dtype=float32)\n",
      "Tensor of Zeros: \n",
      " tf.Tensor(\n",
      "[[0. 0.]\n",
      " [0. 0.]], shape=(2, 2), dtype=float32)\n",
      "Random normal values \n",
      " tf.Tensor(\n",
      "[[6.9290466 4.7081137]\n",
      " [5.90725   5.544618 ]\n",
      " [5.9459534 4.194712 ]], shape=(3, 2), dtype=float32)\n"
     ]
    }
   ],
   "source": [
    "print('Tensor of Ones: \\n',tf.ones(shape=(2, 2)))\n",
    "print('Tensor of Zeros: \\n',tf.zeros(shape=(2, 2)))\n",
    "print('Random normal values \\n', tf.random.normal(shape=(3, 2),\n",
    "                                                  mean=5, \n",
    "                                                  stddev=1))"
   ]
  },
  {
   "cell_type": "markdown",
   "metadata": {},
   "source": [
    "### Variables"
   ]
  },
  {
   "cell_type": "markdown",
   "metadata": {},
   "source": [
    "We generally create a variable with some values, call it initialized values, \n",
    "convert this constant tensor into a variable and then mutate the variable by using special functions."
   ]
  },
  {
   "cell_type": "code",
   "execution_count": 7,
   "metadata": {},
   "outputs": [
    {
     "name": "stdout",
     "output_type": "stream",
     "text": [
      "<tf.Variable 'Variable:0' shape=() dtype=int32, numpy=5>\n"
     ]
    }
   ],
   "source": [
    "x = tf.Variable(5) # Simple variable\n",
    "print(x)"
   ]
  },
  {
   "cell_type": "code",
   "execution_count": 8,
   "metadata": {},
   "outputs": [
    {
     "name": "stdout",
     "output_type": "stream",
     "text": [
      "<tf.Variable 'Variable:0' shape=(2, 2) dtype=float32, numpy=\n",
      "array([[-0.50696635,  0.01612179],\n",
      "       [-0.88812906, -0.54619575]], dtype=float32)>\n"
     ]
    }
   ],
   "source": [
    "#randomly initialized variable, like we need for our weights\n",
    "w = tf.Variable(tf.random.normal(shape=(2, 2))) \n",
    "print(w)"
   ]
  },
  {
   "cell_type": "code",
   "execution_count": 9,
   "metadata": {},
   "outputs": [
    {
     "name": "stdout",
     "output_type": "stream",
     "text": [
      "<tf.Variable 'Variable:0' shape=() dtype=int32, numpy=5>\n",
      "New value <tf.Variable 'UnreadVariable' shape=() dtype=int32, numpy=2>\n",
      "increment by 1 <tf.Variable 'UnreadVariable' shape=() dtype=int32, numpy=6>\n",
      "Decrement by 2 <tf.Variable 'UnreadVariable' shape=() dtype=int32, numpy=3>\n"
     ]
    }
   ],
   "source": [
    "m = tf.Variable(5) # Simple variable\n",
    "print(m)\n",
    "\n",
    "m = tf.Variable(5) \n",
    "print('New value', m.assign(2))\n",
    "\n",
    "m = tf.Variable(5) \n",
    "print('increment by 1', m.assign_add(1))\n",
    "\n",
    "m = tf.Variable(5) \n",
    "print('Decrement by 2', m.assign_sub(2))\n"
   ]
  },
  {
   "cell_type": "markdown",
   "metadata": {},
   "source": [
    "### Regression Model building in TensorFlow"
   ]
  },
  {
   "cell_type": "markdown",
   "metadata": {},
   "source": [
    "#This step is for data creation, x and y"
   ]
  },
  {
   "cell_type": "code",
   "execution_count": 10,
   "metadata": {},
   "outputs": [
    {
     "data": {
      "image/png": "[encoded data removed]",
      "text/plain": [
       "<Figure size 432x288 with 1 Axes>"
      ]
     },
     "metadata": {
      "needs_background": "light"
     },
     "output_type": "display_data"
    }
   ],
   "source": [
    "#This step is for data creation, x and y\n",
    "import numpy as np\n",
    "x_train= np.array(range(5000,5100)).reshape(-1,1)\n",
    "\n",
    "\n",
    "y_train=[3*i+np.random.normal(500, 10) for i in x_train]\n",
    "\n",
    "import matplotlib.pyplot as plt\n",
    "plt.title(\"x_train vs y_train data\")\n",
    "plt.plot(x_train, y_train, 'b.')\n",
    "plt.show()"
   ]
  },
  {
   "cell_type": "code",
   "execution_count": 11,
   "metadata": {},
   "outputs": [
    {
     "name": "stdout",
     "output_type": "stream",
     "text": [
      "epoch : 0, loss  126798088.0,  W : [[0.98257005]], b  [1.0000225]\n",
      "epoch : 1, loss  114195320.0,  W : [[1.0904919]], b  [1.0000439]\n",
      "epoch : 2, loss  102845176.0,  W : [[1.1929101]], b  [1.0000641]\n",
      "epoch : 3, loss  92623152.0,  W : [[1.2901053]], b  [1.0000833]\n",
      "epoch : 4, loss  83417120.0,  W : [[1.382344]], b  [1.0001016]\n",
      "epoch : 5, loss  75126096.0,  W : [[1.4698788]], b  [1.0001189]\n",
      "epoch : 6, loss  67659136.0,  W : [[1.5529495]], b  [1.0001353]\n",
      "epoch : 7, loss  60934332.0,  W : [[1.631784]], b  [1.0001509]\n",
      "epoch : 8, loss  54877940.0,  W : [[1.7065982]], b  [1.0001657]\n",
      "epoch : 9, loss  49423492.0,  W : [[1.7775971]], b  [1.0001798]\n",
      "epoch : 10, loss  44511180.0,  W : [[1.8449752]], b  [1.0001931]\n",
      "epoch : 11, loss  40087120.0,  W : [[1.9089174]], b  [1.0002058]\n",
      "epoch : 12, loss  36102768.0,  W : [[1.9695988]], b  [1.0002178]\n",
      "epoch : 13, loss  32514434.0,  W : [[2.0271854]], b  [1.0002292]\n",
      "epoch : 14, loss  29282762.0,  W : [[2.0818355]], b  [1.0002401]\n",
      "epoch : 15, loss  26372286.0,  W : [[2.1336987]], b  [1.0002503]\n",
      "epoch : 16, loss  23751086.0,  W : [[2.1829169]], b  [1.0002601]\n",
      "epoch : 17, loss  21390420.0,  W : [[2.2296252]], b  [1.0002694]\n",
      "epoch : 18, loss  19264382.0,  W : [[2.2739515]], b  [1.0002782]\n",
      "epoch : 19, loss  17349660.0,  W : [[2.3160174]], b  [1.0002866]\n",
      "epoch : 20, loss  15625244.0,  W : [[2.355938]], b  [1.0002944]\n",
      "epoch : 21, loss  14072228.0,  W : [[2.3938227]], b  [1.000302]\n",
      "epoch : 22, loss  12673568.0,  W : [[2.4297755]], b  [1.0003091]\n",
      "epoch : 23, loss  11413923.0,  W : [[2.4638948]], b  [1.0003159]\n",
      "epoch : 24, loss  10279475.0,  W : [[2.4962742]], b  [1.0003223]\n",
      "epoch : 25, loss  9257783.0,  W : [[2.5270023]], b  [1.0003284]\n",
      "epoch : 26, loss  8337642.0,  W : [[2.5561635]], b  [1.0003341]\n",
      "epoch : 27, loss  7508951.5,  W : [[2.5838375]], b  [1.0003396]\n",
      "epoch : 28, loss  6762631.0,  W : [[2.6101003]], b  [1.0003449]\n",
      "epoch : 29, loss  6090486.0,  W : [[2.6350236]], b  [1.0003498]\n",
      "epoch : 30, loss  5485150.0,  W : [[2.658676]], b  [1.0003544]\n",
      "epoch : 31, loss  4939981.0,  W : [[2.681122]], b  [1.0003588]\n",
      "epoch : 32, loss  4448997.0,  W : [[2.7024236]], b  [1.000363]\n",
      "epoch : 33, loss  4006811.5,  W : [[2.7226388]], b  [1.000367]\n",
      "epoch : 34, loss  3608575.0,  W : [[2.7418232]], b  [1.0003709]\n",
      "epoch : 35, loss  3249921.0,  W : [[2.760029]], b  [1.0003744]\n",
      "epoch : 36, loss  2926916.25,  W : [[2.7773066]], b  [1.0003779]\n",
      "epoch : 37, loss  2636015.25,  W : [[2.793703]], b  [1.0003811]\n",
      "epoch : 38, loss  2374025.5,  W : [[2.8092635]], b  [1.0003842]\n",
      "epoch : 39, loss  2138075.25,  W : [[2.8240302]], b  [1.0003872]\n",
      "epoch : 40, loss  1925578.875,  W : [[2.838044]], b  [1.0003899]\n",
      "epoch : 41, loss  1734201.625,  W : [[2.851343]], b  [1.0003926]\n",
      "epoch : 42, loss  1561847.0,  W : [[2.8639638]], b  [1.000395]\n",
      "epoch : 43, loss  1406621.75,  W : [[2.875941]], b  [1.0003974]\n",
      "epoch : 44, loss  1266825.875,  W : [[2.8873074]], b  [1.0003997]\n",
      "epoch : 45, loss  1140925.0,  W : [[2.8980942]], b  [1.0004019]\n",
      "epoch : 46, loss  1027537.25,  W : [[2.908331]], b  [1.0004039]\n",
      "epoch : 47, loss  925418.75,  W : [[2.9180455]], b  [1.0004058]\n",
      "epoch : 48, loss  833450.9375,  W : [[2.9272647]], b  [1.0004076]\n",
      "epoch : 49, loss  750624.25,  W : [[2.9360137]], b  [1.0004094]\n",
      "epoch : 50, loss  676030.0,  W : [[2.9443166]], b  [1.000411]\n",
      "epoch : 51, loss  608849.1875,  W : [[2.9521961]], b  [1.0004126]\n",
      "epoch : 52, loss  548345.625,  W : [[2.959674]], b  [1.000414]\n",
      "epoch : 53, loss  493855.03125,  W : [[2.9667702]], b  [1.0004154]\n",
      "epoch : 54, loss  444781.3125,  W : [[2.9735045]], b  [1.0004168]\n",
      "epoch : 55, loss  400585.3125,  W : [[2.9798956]], b  [1.0004181]\n",
      "epoch : 56, loss  360781.40625,  W : [[2.9859607]], b  [1.0004193]\n",
      "epoch : 57, loss  324933.6875,  W : [[2.9917166]], b  [1.0004205]\n",
      "epoch : 58, loss  292648.53125,  W : [[2.9971788]], b  [1.0004215]\n",
      "epoch : 59, loss  263573.40625,  W : [[3.0023625]], b  [1.0004226]\n",
      "epoch : 60, loss  237387.6875,  W : [[3.0072818]], b  [1.0004236]\n",
      "epoch : 61, loss  213804.875,  W : [[3.0119503]], b  [1.0004245]\n",
      "epoch : 62, loss  192565.78125,  W : [[3.0163808]], b  [1.0004253]\n",
      "epoch : 63, loss  173437.125,  W : [[3.0205853]], b  [1.0004262]\n",
      "epoch : 64, loss  156210.03125,  W : [[3.0245755]], b  [1.000427]\n",
      "epoch : 65, loss  140694.890625,  W : [[3.028362]], b  [1.0004277]\n",
      "epoch : 66, loss  126722.296875,  W : [[3.0319555]], b  [1.0004284]\n",
      "epoch : 67, loss  114138.5625,  W : [[3.0353658]], b  [1.0004292]\n",
      "epoch : 68, loss  102805.046875,  W : [[3.038602]], b  [1.0004297]\n",
      "epoch : 69, loss  92598.4296875,  W : [[3.0416734]], b  [1.0004303]\n",
      "epoch : 70, loss  83406.1015625,  W : [[3.044588]], b  [1.000431]\n",
      "epoch : 71, loss  75127.4609375,  W : [[3.0473542]], b  [1.0004315]\n",
      "epoch : 72, loss  67671.3984375,  W : [[3.0499792]], b  [1.000432]\n",
      "epoch : 73, loss  60956.62109375,  W : [[3.0524702]], b  [1.0004325]\n",
      "epoch : 74, loss  54909.5390625,  W : [[3.0548344]], b  [1.000433]\n",
      "epoch : 75, loss  49463.0546875,  W : [[3.057078]], b  [1.0004334]\n",
      "epoch : 76, loss  44558.078125,  W : [[3.059207]], b  [1.0004339]\n",
      "epoch : 77, loss  40140.68359375,  W : [[3.0612276]], b  [1.0004343]\n",
      "epoch : 78, loss  36162.16015625,  W : [[3.063145]], b  [1.0004346]\n",
      "epoch : 79, loss  32579.431640625,  W : [[3.0649645]], b  [1.000435]\n",
      "epoch : 80, loss  29352.7421875,  W : [[3.0666914]], b  [1.0004354]\n",
      "epoch : 81, loss  26446.67578125,  W : [[3.0683303]], b  [1.0004357]\n",
      "epoch : 82, loss  23829.310546875,  W : [[3.0698855]], b  [1.0004361]\n",
      "epoch : 83, loss  21472.26171875,  W : [[3.0713615]], b  [1.0004363]\n",
      "epoch : 84, loss  19349.2578125,  W : [[3.0727623]], b  [1.0004365]\n",
      "epoch : 85, loss  17437.365234375,  W : [[3.0740914]], b  [1.0004368]\n",
      "epoch : 86, loss  15715.62109375,  W : [[3.075353]], b  [1.000437]\n",
      "epoch : 87, loss  14164.9072265625,  W : [[3.07655]], b  [1.0004373]\n",
      "epoch : 88, loss  12768.384765625,  W : [[3.077686]], b  [1.0004375]\n",
      "epoch : 89, loss  11510.642578125,  W : [[3.0787642]], b  [1.0004377]\n",
      "epoch : 90, loss  10377.91015625,  W : [[3.0797873]], b  [1.000438]\n",
      "epoch : 91, loss  9357.859375,  W : [[3.0807583]], b  [1.0004382]\n",
      "epoch : 92, loss  8439.005859375,  W : [[3.0816798]], b  [1.0004385]\n",
      "epoch : 93, loss  7611.54541015625,  W : [[3.0825543]], b  [1.0004386]\n",
      "epoch : 94, loss  6866.30517578125,  W : [[3.0833843]], b  [1.0004387]\n",
      "epoch : 95, loss  6195.13232421875,  W : [[3.0841718]], b  [1.0004388]\n",
      "epoch : 96, loss  5590.75634765625,  W : [[3.0849192]], b  [1.0004389]\n",
      "epoch : 97, loss  5046.37646484375,  W : [[3.0856285]], b  [1.000439]\n",
      "epoch : 98, loss  4556.1220703125,  W : [[3.0863016]], b  [1.0004392]\n",
      "epoch : 99, loss  4114.6416015625,  W : [[3.0869403]], b  [1.0004393]\n",
      "epoch : 100, loss  3717.04150390625,  W : [[3.0875466]], b  [1.0004394]\n",
      "epoch : 101, loss  3358.87646484375,  W : [[3.088122]], b  [1.0004395]\n",
      "epoch : 102, loss  3036.35400390625,  W : [[3.0886679]], b  [1.0004396]\n",
      "epoch : 103, loss  2745.884033203125,  W : [[3.089186]], b  [1.0004398]\n",
      "epoch : 104, loss  2484.309814453125,  W : [[3.0896776]], b  [1.0004399]\n",
      "epoch : 105, loss  2248.754150390625,  W : [[3.0901442]], b  [1.00044]\n",
      "epoch : 106, loss  2036.5909423828125,  W : [[3.090587]], b  [1.0004401]\n",
      "epoch : 107, loss  1845.53662109375,  W : [[3.0910072]], b  [1.0004402]\n",
      "epoch : 108, loss  1673.4024658203125,  W : [[3.091406]], b  [1.0004404]\n",
      "epoch : 109, loss  1518.39208984375,  W : [[3.0917845]], b  [1.0004405]\n",
      "epoch : 110, loss  1378.8466796875,  W : [[3.0921435]], b  [1.0004406]\n",
      "epoch : 111, loss  1253.1668701171875,  W : [[3.0924845]], b  [1.0004407]\n",
      "epoch : 112, loss  1139.9215087890625,  W : [[3.092808]], b  [1.0004408]\n",
      "epoch : 113, loss  1037.9407958984375,  W : [[3.093115]], b  [1.000441]\n",
      "epoch : 114, loss  946.0769653320312,  W : [[3.0934064]], b  [1.000441]\n",
      "epoch : 115, loss  863.371337890625,  W : [[3.093683]], b  [1.000441]\n",
      "epoch : 116, loss  788.8644409179688,  W : [[3.0939453]], b  [1.000441]\n",
      "epoch : 117, loss  721.81396484375,  W : [[3.0941942]], b  [1.000441]\n",
      "epoch : 118, loss  661.4243774414062,  W : [[3.0944304]], b  [1.000441]\n",
      "epoch : 119, loss  607.021728515625,  W : [[3.0946546]], b  [1.000441]\n",
      "epoch : 120, loss  558.04931640625,  W : [[3.0948675]], b  [1.000441]\n",
      "epoch : 121, loss  513.900146484375,  W : [[3.0950694]], b  [1.000441]\n",
      "epoch : 122, loss  474.15997314453125,  W : [[3.095261]], b  [1.000441]\n",
      "epoch : 123, loss  438.3603820800781,  W : [[3.095443]], b  [1.000441]\n",
      "epoch : 124, loss  406.1201477050781,  W : [[3.0956156]], b  [1.000441]\n",
      "epoch : 125, loss  377.0883483886719,  W : [[3.0957794]], b  [1.000441]\n",
      "epoch : 126, loss  350.9444885253906,  W : [[3.0959349]], b  [1.000441]\n",
      "epoch : 127, loss  327.3980712890625,  W : [[3.0960824]], b  [1.000441]\n",
      "epoch : 128, loss  306.18463134765625,  W : [[3.0962224]], b  [1.000441]\n",
      "epoch : 129, loss  287.09228515625,  W : [[3.0963552]], b  [1.000441]\n",
      "epoch : 130, loss  269.9008483886719,  W : [[3.0964813]], b  [1.000441]\n",
      "epoch : 131, loss  254.4051513671875,  W : [[3.096601]], b  [1.000441]\n",
      "epoch : 132, loss  240.4525909423828,  W : [[3.0967145]], b  [1.000441]\n",
      "epoch : 133, loss  227.89439392089844,  W : [[3.0968223]], b  [1.000441]\n",
      "epoch : 134, loss  216.58033752441406,  W : [[3.0969245]], b  [1.000441]\n",
      "epoch : 135, loss  206.3878173828125,  W : [[3.0970216]], b  [1.000441]\n",
      "epoch : 136, loss  197.21331787109375,  W : [[3.0971136]], b  [1.000441]\n",
      "epoch : 137, loss  188.95199584960938,  W : [[3.097201]], b  [1.000441]\n",
      "epoch : 138, loss  181.4998016357422,  W : [[3.097284]], b  [1.000441]\n",
      "epoch : 139, loss  174.7950439453125,  W : [[3.0973628]], b  [1.000441]\n",
      "epoch : 140, loss  168.76075744628906,  W : [[3.0974374]], b  [1.000441]\n",
      "epoch : 141, loss  163.32965087890625,  W : [[3.0975082]], b  [1.000441]\n",
      "epoch : 142, loss  158.43768310546875,  W : [[3.0975754]], b  [1.000441]\n",
      "epoch : 143, loss  154.03004455566406,  W : [[3.0976393]], b  [1.000441]\n",
      "epoch : 144, loss  150.05426025390625,  W : [[3.0976999]], b  [1.000441]\n",
      "epoch : 145, loss  146.47898864746094,  W : [[3.0977573]], b  [1.000441]\n",
      "epoch : 146, loss  143.25856018066406,  W : [[3.097812]], b  [1.000441]\n",
      "epoch : 147, loss  140.35650634765625,  W : [[3.0978637]], b  [1.000441]\n",
      "epoch : 148, loss  137.7449493408203,  W : [[3.0979128]], b  [1.000441]\n",
      "epoch : 149, loss  135.39317321777344,  W : [[3.0979595]], b  [1.000441]\n",
      "epoch : 150, loss  133.2685546875,  W : [[3.0980039]], b  [1.000441]\n",
      "epoch : 151, loss  131.35638427734375,  W : [[3.0980458]], b  [1.000441]\n",
      "epoch : 152, loss  129.63937377929688,  W : [[3.0980856]], b  [1.000441]\n",
      "epoch : 153, loss  128.09243774414062,  W : [[3.0981236]], b  [1.000441]\n",
      "epoch : 154, loss  126.6958999633789,  W : [[3.0981596]], b  [1.000441]\n",
      "epoch : 155, loss  125.43526458740234,  W : [[3.0981936]], b  [1.000441]\n",
      "epoch : 156, loss  124.3047103881836,  W : [[3.098226]], b  [1.000441]\n",
      "epoch : 157, loss  123.28387451171875,  W : [[3.0982568]], b  [1.000441]\n",
      "epoch : 158, loss  122.36414337158203,  W : [[3.098286]], b  [1.000441]\n",
      "epoch : 159, loss  121.5395278930664,  W : [[3.0983136]], b  [1.000441]\n",
      "epoch : 160, loss  120.79527282714844,  W : [[3.0983398]], b  [1.000441]\n",
      "epoch : 161, loss  120.12640380859375,  W : [[3.0983646]], b  [1.000441]\n",
      "epoch : 162, loss  119.52562713623047,  W : [[3.0983882]], b  [1.000441]\n",
      "epoch : 163, loss  118.98147583007812,  W : [[3.0984106]], b  [1.000441]\n",
      "epoch : 164, loss  118.49279022216797,  W : [[3.0984318]], b  [1.000441]\n",
      "epoch : 165, loss  118.05400085449219,  W : [[3.098452]], b  [1.000441]\n",
      "epoch : 166, loss  117.65528106689453,  W : [[3.0984712]], b  [1.000441]\n",
      "epoch : 167, loss  117.29815673828125,  W : [[3.0984893]], b  [1.000441]\n",
      "epoch : 168, loss  116.9775390625,  W : [[3.0985065]], b  [1.000441]\n",
      "epoch : 169, loss  116.68936157226562,  W : [[3.098523]], b  [1.000441]\n",
      "epoch : 170, loss  116.42864990234375,  W : [[3.0985384]], b  [1.000441]\n",
      "epoch : 171, loss  116.19251251220703,  W : [[3.0985532]], b  [1.000441]\n",
      "epoch : 172, loss  115.9815444946289,  W : [[3.0985672]], b  [1.000441]\n",
      "epoch : 173, loss  115.78941345214844,  W : [[3.0985806]], b  [1.000441]\n",
      "epoch : 174, loss  115.6170425415039,  W : [[3.0985932]], b  [1.000441]\n",
      "epoch : 175, loss  115.46170806884766,  W : [[3.0986052]], b  [1.000441]\n",
      "epoch : 176, loss  115.32317352294922,  W : [[3.0986166]], b  [1.000441]\n",
      "epoch : 177, loss  115.19654083251953,  W : [[3.0986273]], b  [1.000441]\n",
      "epoch : 178, loss  115.0836410522461,  W : [[3.0986376]], b  [1.000441]\n",
      "epoch : 179, loss  114.9839859008789,  W : [[3.0986474]], b  [1.000441]\n",
      "epoch : 180, loss  114.889892578125,  W : [[3.0986567]], b  [1.000441]\n",
      "epoch : 181, loss  114.80770874023438,  W : [[3.0986655]], b  [1.000441]\n",
      "epoch : 182, loss  114.732177734375,  W : [[3.0986738]], b  [1.000441]\n",
      "epoch : 183, loss  114.66503143310547,  W : [[3.0986817]], b  [1.000441]\n",
      "epoch : 184, loss  114.60568237304688,  W : [[3.098689]], b  [1.000441]\n",
      "epoch : 185, loss  114.55204772949219,  W : [[3.0986962]], b  [1.000441]\n",
      "epoch : 186, loss  114.50257110595703,  W : [[3.098703]], b  [1.000441]\n",
      "epoch : 187, loss  114.45886993408203,  W : [[3.0987093]], b  [1.000441]\n",
      "epoch : 188, loss  114.41922760009766,  W : [[3.0987153]], b  [1.000441]\n",
      "epoch : 189, loss  114.38468933105469,  W : [[3.098721]], b  [1.000441]\n",
      "epoch : 190, loss  114.35302734375,  W : [[3.0987265]], b  [1.000441]\n",
      "epoch : 191, loss  114.32331848144531,  W : [[3.0987318]], b  [1.000441]\n",
      "epoch : 192, loss  114.29705810546875,  W : [[3.0987365]], b  [1.000441]\n",
      "epoch : 193, loss  114.27482604980469,  W : [[3.098741]], b  [1.000441]\n",
      "epoch : 194, loss  114.25523376464844,  W : [[3.0987453]], b  [1.000441]\n",
      "epoch : 195, loss  114.23601531982422,  W : [[3.0987496]], b  [1.000441]\n",
      "epoch : 196, loss  114.21788787841797,  W : [[3.0987537]], b  [1.000441]\n",
      "epoch : 197, loss  114.20291137695312,  W : [[3.0987575]], b  [1.000441]\n",
      "epoch : 198, loss  114.18773651123047,  W : [[3.098761]], b  [1.000441]\n",
      "epoch : 199, loss  114.17638397216797,  W : [[3.0987644]], b  [1.000441]\n"
     ]
    }
   ],
   "source": [
    "#Model y=X*W + b\n",
    "#Model function\n",
    "def output(x):\n",
    "    return W*x + b\n",
    "\n",
    "#Loss function Reduce mean square\n",
    "def loss_function(y_pred, y_true):\n",
    "    return tf.reduce_mean(tf.square(y_pred - y_true))\n",
    "\n",
    "#Initialize Weights\n",
    "W = tf.Variable(tf.random.uniform(shape=(1, 1)))\n",
    "b = tf.Variable(tf.ones(shape=(1,)))\n",
    "\n",
    "#Optimization\n",
    "## Writing training/learing loop with GradienTape\n",
    "learning_rate = 0.000000001\n",
    "steps = 200 #epochs\n",
    "\n",
    "for i in range(steps):\n",
    "    with tf.GradientTape() as tape:\n",
    "        predictions = output(x_train)\n",
    "        loss = loss_function(predictions,y_train)\n",
    "        dloss_dw, dloss_db = tape.gradient(loss, [W, b])\n",
    "    W.assign_sub(learning_rate * dloss_dw)\n",
    "    b.assign_sub(learning_rate * dloss_db)\n",
    "    print(f\"epoch : {i}, loss  {loss.numpy()},  W : {W.numpy()}, b  {b.numpy()}\")"
   ]
  },
  {
   "cell_type": "markdown",
   "metadata": {},
   "source": [
    "Final Weights"
   ]
  },
  {
   "cell_type": "code",
   "execution_count": 12,
   "metadata": {},
   "outputs": [
    {
     "name": "stdout",
     "output_type": "stream",
     "text": [
      "w  <tf.Variable 'Variable:0' shape=(1, 1) dtype=float32, numpy=array([[3.0987644]], dtype=float32)>\n",
      "b  <tf.Variable 'Variable:0' shape=(1,) dtype=float32, numpy=array([1.000441], dtype=float32)>\n"
     ]
    }
   ],
   "source": [
    "print('w ', W)\n",
    "print('b ', b)"
   ]
  },
  {
   "cell_type": "markdown",
   "metadata": {},
   "source": [
    "Plotting"
   ]
  },
  {
   "cell_type": "code",
   "execution_count": 13,
   "metadata": {},
   "outputs": [
    {
     "name": "stdout",
     "output_type": "stream",
     "text": [
      "epoch is: 0, loss is 206290144.0,  W is: [[0.3995257]], b is [1.0000287]\n"
     ]
    },
    {
     "data": {
      "image/png": "[encoded data removed]",
      "text/plain": [
       "<Figure size 432x288 with 1 Axes>"
      ]
     },
     "metadata": {
      "needs_background": "light"
     },
     "output_type": "display_data"
    },
    {
     "name": "stdout",
     "output_type": "stream",
     "text": [
      "epoch is: 30, loss is 8923818.0,  W is: [[2.5374112]], b is [1.0004522]\n"
     ]
    },
    {
     "data": {
      "image/png": "[encoded data removed]",
      "text/plain": [
       "<Figure size 432x288 with 1 Axes>"
      ]
     },
     "metadata": {
      "needs_background": "light"
     },
     "output_type": "display_data"
    },
    {
     "name": "stdout",
     "output_type": "stream",
     "text": [
      "epoch is: 60, loss is 386139.125,  W is: [[2.9820602]], b is [1.0005407]\n"
     ]
    },
    {
     "data": {
      "image/png": "[encoded data removed]",
      "text/plain": [
       "<Figure size 432x288 with 1 Axes>"
      ]
     },
     "metadata": {
      "needs_background": "light"
     },
     "output_type": "display_data"
    },
    {
     "name": "stdout",
     "output_type": "stream",
     "text": [
      "epoch is: 90, loss is 16812.859375,  W is: [[3.0745413]], b is [1.0005591]\n"
     ]
    },
    {
     "data": {
      "image/png": "[encoded data removed]",
      "text/plain": [
       "<Figure size 432x288 with 1 Axes>"
      ]
     },
     "metadata": {
      "needs_background": "light"
     },
     "output_type": "display_data"
    },
    {
     "name": "stdout",
     "output_type": "stream",
     "text": [
      "epoch is: 120, loss is 836.3418579101562,  W is: [[3.0937762]], b is [1.0005633]\n"
     ]
    },
    {
     "data": {
      "image/png": "[encoded data removed]",
      "text/plain": [
       "<Figure size 432x288 with 1 Axes>"
      ]
     },
     "metadata": {
      "needs_background": "light"
     },
     "output_type": "display_data"
    },
    {
     "name": "stdout",
     "output_type": "stream",
     "text": [
      "epoch is: 150, loss is 145.29937744140625,  W is: [[3.097777]], b is [1.0005633]\n"
     ]
    },
    {
     "data": {
      "image/png": "[encoded data removed]",
      "text/plain": [
       "<Figure size 432x288 with 1 Axes>"
      ]
     },
     "metadata": {
      "needs_background": "light"
     },
     "output_type": "display_data"
    },
    {
     "name": "stdout",
     "output_type": "stream",
     "text": [
      "epoch is: 180, loss is 115.41382598876953,  W is: [[3.0986087]], b is [1.0005633]\n"
     ]
    },
    {
     "data": {
      "image/png": "[encoded data removed]",
      "text/plain": [
       "<Figure size 432x288 with 1 Axes>"
      ]
     },
     "metadata": {
      "needs_background": "light"
     },
     "output_type": "display_data"
    }
   ],
   "source": [
    "#Initialize Weights\n",
    "W = tf.Variable(tf.random.uniform(shape=(1, 1)))\n",
    "b = tf.Variable(tf.ones(shape=(1,)))\n",
    "\n",
    "#Optimization\n",
    "## Writing training/learing loop with GradienTape\n",
    "learning_rate = 0.000000001\n",
    "steps = 200 #epochs\n",
    "\n",
    "for i in range(steps):\n",
    "    with tf.GradientTape() as tape:\n",
    "        predictions = output(x_train)\n",
    "        loss = loss_function(predictions,y_train)\n",
    "        dloss_dw, dloss_db = tape.gradient(loss, [W, b])\n",
    "    W.assign_sub(learning_rate * dloss_dw)\n",
    "    b.assign_sub(learning_rate * dloss_db)\n",
    "    if i%30 == 0:\n",
    "        print(f\"epoch is: {i}, loss is {loss.numpy()},  W is: {W.numpy()}, b is {b.numpy()}\")\n",
    "        plt.title([\"epoch\", i])\n",
    "        plt.plot(x_train, y_train, 'b.')\n",
    "        plt.plot(x_train, output(x_train), c='r')\n",
    "        plt.show()"
   ]
  },
  {
   "cell_type": "markdown",
   "metadata": {},
   "source": [
    "### Logistic Regression Model building in TensorFlow"
   ]
  },
  {
   "cell_type": "code",
   "execution_count": 14,
   "metadata": {},
   "outputs": [
    {
     "data": {
      "image/png": "[encoded data removed]",
      "text/plain": [
       "<Figure size 432x288 with 1 Axes>"
      ]
     },
     "metadata": {
      "needs_background": "light"
     },
     "output_type": "display_data"
    }
   ],
   "source": [
    "# This step is for data creation\n",
    "x_train= np.random.rand(100,1)\n",
    "y_train=np.array([0 if i < 0.5 else 1 for i in x_train]).reshape(-1,1)\n",
    "\n",
    "import matplotlib.pyplot as plt\n",
    "plt.title(\"x_train vs y_train data\")\n",
    "plt.plot(x_train, y_train, 'b.',)\n",
    "plt.show()"
   ]
  },
  {
   "cell_type": "code",
   "execution_count": 15,
   "metadata": {},
   "outputs": [
    {
     "name": "stdout",
     "output_type": "stream",
     "text": [
      "epoch : 0, loss  24.72930145263672,  W : [[0.6851963]], b  [0.07336345]\n",
      "epoch : 1, loss  21.874004364013672,  W : [[0.9684164]], b  [-0.3922813]\n",
      "epoch : 2, loss  19.581464767456055,  W : [[1.444537]], b  [-0.43647695]\n",
      "epoch : 3, loss  17.719675064086914,  W : [[1.7179571]], b  [-0.7640481]\n",
      "epoch : 4, loss  16.194059371948242,  W : [[2.094877]], b  [-0.8232413]\n",
      "epoch : 5, loss  14.941736221313477,  W : [[2.3369617]], b  [-1.0655504]\n",
      "epoch : 6, loss  13.90503215789795,  W : [[2.6369112]], b  [-1.1377022]\n",
      "epoch : 7, loss  13.040470123291016,  W : [[2.8547993]], b  [-1.3133686]\n",
      "epoch : 8, loss  12.311921119689941,  W : [[3.0963883]], b  [-1.3977591]\n",
      "epoch : 9, loss  11.6915922164917,  W : [[3.2943501]], b  [-1.526324]\n",
      "epoch : 10, loss  11.157659530639648,  W : [[3.495043]], b  [-1.6148716]\n",
      "epoch : 11, loss  10.69330883026123,  W : [[3.6739545]], b  [-1.715202]\n",
      "epoch : 12, loss  10.285669326782227,  W : [[3.8470232]], b  [-1.8000646]\n",
      "epoch : 13, loss  9.924783706665039,  W : [[4.0080743]], b  [-1.8845694]\n",
      "epoch : 14, loss  9.602883338928223,  W : [[4.1616807]], b  [-1.9624367]\n",
      "epoch : 15, loss  9.313803672790527,  W : [[4.3071914]], b  [-2.0371795]\n",
      "epoch : 16, loss  9.052608489990234,  W : [[4.446006]], b  [-2.1079834]\n",
      "epoch : 17, loss  8.81528377532959,  W : [[4.578552]], b  [-2.1756687]\n",
      "epoch : 18, loss  8.598551750183105,  W : [[4.7054863]], b  [-2.2403831]\n",
      "epoch : 19, loss  8.399699211120605,  W : [[4.8272843]], b  [-2.302444]\n",
      "epoch : 20, loss  8.216477394104004,  W : [[4.944392]], b  [-2.3620694]\n",
      "epoch : 21, loss  8.04699420928955,  W : [[5.0571933]], b  [-2.4194665]\n",
      "epoch : 22, loss  7.889654636383057,  W : [[5.166029]], b  [-2.474814]\n",
      "epoch : 23, loss  7.743103504180908,  W : [[5.2712016]], b  [-2.5282702]\n",
      "epoch : 24, loss  7.606183052062988,  W : [[5.37298]], b  [-2.5799766]\n",
      "epoch : 25, loss  7.477898120880127,  W : [[5.4716053]], b  [-2.6300585]\n",
      "epoch : 26, loss  7.357386112213135,  W : [[5.567293]], b  [-2.6786284]\n",
      "epoch : 27, loss  7.243899345397949,  W : [[5.660238]], b  [-2.7257879]\n",
      "epoch : 28, loss  7.136784553527832,  W : [[5.7506156]], b  [-2.7716274]\n",
      "epoch : 29, loss  7.035470962524414,  W : [[5.838586]], b  [-2.8162303]\n",
      "epoch : 30, loss  6.939450740814209,  W : [[5.924293]], b  [-2.8596714]\n",
      "epoch : 31, loss  6.848278999328613,  W : [[6.007869]], b  [-2.9020188]\n",
      "epoch : 32, loss  6.761561870574951,  W : [[6.089434]], b  [-2.9433346]\n",
      "epoch : 33, loss  6.678944110870361,  W : [[6.1691]], b  [-2.983676]\n",
      "epoch : 34, loss  6.60011100769043,  W : [[6.246967]], b  [-3.0230956]\n",
      "epoch : 35, loss  6.524779319763184,  W : [[6.3231287]], b  [-3.061641]\n",
      "epoch : 36, loss  6.452695369720459,  W : [[6.397671]], b  [-3.099357]\n",
      "epoch : 37, loss  6.383630752563477,  W : [[6.4706745]], b  [-3.136284]\n",
      "epoch : 38, loss  6.317376613616943,  W : [[6.5422125]], b  [-3.1724608]\n",
      "epoch : 39, loss  6.253743648529053,  W : [[6.6123533]], b  [-3.207922]\n",
      "epoch : 40, loss  6.192563056945801,  W : [[6.6811604]], b  [-3.2427003]\n",
      "epoch : 41, loss  6.133677959442139,  W : [[6.7486935]], b  [-3.2768264]\n",
      "epoch : 42, loss  6.076944828033447,  W : [[6.8150077]], b  [-3.3103285]\n",
      "epoch : 43, loss  6.0222344398498535,  W : [[6.8801546]], b  [-3.343233]\n",
      "epoch : 44, loss  5.969426155090332,  W : [[6.944183]], b  [-3.375565]\n",
      "epoch : 45, loss  5.918410301208496,  W : [[7.0071373]], b  [-3.407348]\n",
      "epoch : 46, loss  5.869085788726807,  W : [[7.069061]], b  [-3.438603]\n",
      "epoch : 47, loss  5.821359634399414,  W : [[7.1299934]], b  [-3.4693508]\n",
      "epoch : 48, loss  5.775144577026367,  W : [[7.1899724]], b  [-3.499611]\n",
      "epoch : 49, loss  5.730360984802246,  W : [[7.2490335]], b  [-3.5294013]\n",
      "epoch : 50, loss  5.686933517456055,  W : [[7.3072095]], b  [-3.5587394]\n",
      "epoch : 51, loss  5.6447954177856445,  W : [[7.364533]], b  [-3.5876408]\n",
      "epoch : 52, loss  5.603880405426025,  W : [[7.421033]], b  [-3.6161213]\n",
      "epoch : 53, loss  5.5641303062438965,  W : [[7.4767375]], b  [-3.644195]\n",
      "epoch : 54, loss  5.525488376617432,  W : [[7.531674]], b  [-3.6718757]\n",
      "epoch : 55, loss  5.487904071807861,  W : [[7.5858674]], b  [-3.6991763]\n",
      "epoch : 56, loss  5.451326847076416,  W : [[7.639342]], b  [-3.7261093]\n",
      "epoch : 57, loss  5.415712833404541,  W : [[7.69212]], b  [-3.7526865]\n",
      "epoch : 58, loss  5.381018161773682,  W : [[7.744224]], b  [-3.7789187]\n",
      "epoch : 59, loss  5.347204208374023,  W : [[7.7956743]], b  [-3.8048167]\n",
      "epoch : 60, loss  5.314231872558594,  W : [[7.8464904]], b  [-3.8303905]\n",
      "epoch : 61, loss  5.282065391540527,  W : [[7.8966913]], b  [-3.8556497]\n",
      "epoch : 62, loss  5.250672817230225,  W : [[7.9462953]], b  [-3.8806036]\n",
      "epoch : 63, loss  5.220021724700928,  W : [[7.995319]], b  [-3.905261]\n",
      "epoch : 64, loss  5.190083026885986,  W : [[8.043778]], b  [-3.92963]\n",
      "epoch : 65, loss  5.160828590393066,  W : [[8.09169]], b  [-3.953719]\n",
      "epoch : 66, loss  5.132231712341309,  W : [[8.139069]], b  [-3.9775352]\n",
      "epoch : 67, loss  5.104267597198486,  W : [[8.185928]], b  [-4.001086]\n",
      "epoch : 68, loss  5.076911449432373,  W : [[8.232283]], b  [-4.0243793]\n",
      "epoch : 69, loss  5.050142288208008,  W : [[8.278145]], b  [-4.047421]\n",
      "epoch : 70, loss  5.023937702178955,  W : [[8.323528]], b  [-4.0702176]\n",
      "epoch : 71, loss  4.998277187347412,  W : [[8.368444]], b  [-4.092776]\n",
      "epoch : 72, loss  4.973142623901367,  W : [[8.412905]], b  [-4.115101]\n",
      "epoch : 73, loss  4.948516368865967,  W : [[8.456922]], b  [-4.137199]\n",
      "epoch : 74, loss  4.924378871917725,  W : [[8.5005045]], b  [-4.1590757]\n",
      "epoch : 75, loss  4.900713920593262,  W : [[8.543664]], b  [-4.1807365]\n",
      "epoch : 76, loss  4.877506732940674,  W : [[8.5864105]], b  [-4.202186]\n",
      "epoch : 77, loss  4.854742527008057,  W : [[8.628754]], b  [-4.223429]\n",
      "epoch : 78, loss  4.832405090332031,  W : [[8.670702]], b  [-4.244471]\n",
      "epoch : 79, loss  4.810482978820801,  W : [[8.712265]], b  [-4.2653165]\n",
      "epoch : 80, loss  4.788960933685303,  W : [[8.753451]], b  [-4.2859693]\n",
      "epoch : 81, loss  4.767827987670898,  W : [[8.79427]], b  [-4.3064337]\n",
      "epoch : 82, loss  4.747071743011475,  W : [[8.834726]], b  [-4.326714]\n",
      "epoch : 83, loss  4.726681232452393,  W : [[8.874831]], b  [-4.3468146]\n",
      "epoch : 84, loss  4.706644058227539,  W : [[8.914591]], b  [-4.366739]\n",
      "epoch : 85, loss  4.686951160430908,  W : [[8.954012]], b  [-4.3864903]\n",
      "epoch : 86, loss  4.667591094970703,  W : [[8.993102]], b  [-4.406073]\n",
      "epoch : 87, loss  4.648555755615234,  W : [[9.031868]], b  [-4.42549]\n",
      "epoch : 88, loss  4.62983512878418,  W : [[9.070316]], b  [-4.444745]\n",
      "epoch : 89, loss  4.611420154571533,  W : [[9.108454]], b  [-4.463841]\n",
      "epoch : 90, loss  4.593302249908447,  W : [[9.146285]], b  [-4.4827814]\n",
      "epoch : 91, loss  4.575474262237549,  W : [[9.183818]], b  [-4.5015693]\n",
      "epoch : 92, loss  4.557925701141357,  W : [[9.221057]], b  [-4.5202074]\n",
      "epoch : 93, loss  4.540652275085449,  W : [[9.258008]], b  [-4.5386987]\n",
      "epoch : 94, loss  4.52364444732666,  W : [[9.294677]], b  [-4.557046]\n",
      "epoch : 95, loss  4.506896495819092,  W : [[9.331069]], b  [-4.5752516]\n",
      "epoch : 96, loss  4.4903998374938965,  W : [[9.367188]], b  [-4.593319]\n",
      "epoch : 97, loss  4.474150657653809,  W : [[9.403041]], b  [-4.61125]\n",
      "epoch : 98, loss  4.4581403732299805,  W : [[9.438631]], b  [-4.629047]\n",
      "epoch : 99, loss  4.442363739013672,  W : [[9.473964]], b  [-4.646713]\n",
      "epoch : 100, loss  4.426814556121826,  W : [[9.509044]], b  [-4.66425]\n",
      "epoch : 101, loss  4.411487579345703,  W : [[9.543875]], b  [-4.68166]\n",
      "epoch : 102, loss  4.396378040313721,  W : [[9.578462]], b  [-4.698946]\n",
      "epoch : 103, loss  4.381479263305664,  W : [[9.612809]], b  [-4.7161098]\n",
      "epoch : 104, loss  4.366786956787109,  W : [[9.64692]], b  [-4.733153]\n",
      "epoch : 105, loss  4.352296352386475,  W : [[9.6807995]], b  [-4.750078]\n",
      "epoch : 106, loss  4.338003158569336,  W : [[9.714451]], b  [-4.766887]\n",
      "epoch : 107, loss  4.3239006996154785,  W : [[9.747877]], b  [-4.783582]\n",
      "epoch : 108, loss  4.309986591339111,  W : [[9.781083]], b  [-4.800164]\n",
      "epoch : 109, loss  4.296255588531494,  W : [[9.814072]], b  [-4.816636]\n",
      "epoch : 110, loss  4.282703876495361,  W : [[9.846847]], b  [-4.832999]\n",
      "epoch : 111, loss  4.2693281173706055,  W : [[9.879412]], b  [-4.849255]\n",
      "epoch : 112, loss  4.256123065948486,  W : [[9.91177]], b  [-4.8654056]\n",
      "epoch : 113, loss  4.2430853843688965,  W : [[9.943924]], b  [-4.8814526]\n",
      "epoch : 114, loss  4.23021125793457,  W : [[9.975878]], b  [-4.8973975]\n",
      "epoch : 115, loss  4.217498779296875,  W : [[10.007634]], b  [-4.913242]\n",
      "epoch : 116, loss  4.204942226409912,  W : [[10.039196]], b  [-4.928987]\n",
      "epoch : 117, loss  4.192539691925049,  W : [[10.070566]], b  [-4.944635]\n",
      "epoch : 118, loss  4.180286884307861,  W : [[10.1017475]], b  [-4.960187]\n",
      "epoch : 119, loss  4.168182849884033,  W : [[10.132743]], b  [-4.9756446]\n",
      "epoch : 120, loss  4.156221389770508,  W : [[10.163555]], b  [-4.9910088]\n",
      "epoch : 121, loss  4.144402503967285,  W : [[10.194186]], b  [-5.006281]\n",
      "epoch : 122, loss  4.132721424102783,  W : [[10.22464]], b  [-5.021463]\n",
      "epoch : 123, loss  4.121175765991211,  W : [[10.254918]], b  [-5.036556]\n",
      "epoch : 124, loss  4.109763145446777,  W : [[10.285024]], b  [-5.0515604]\n",
      "epoch : 125, loss  4.098480224609375,  W : [[10.314959]], b  [-5.0664787]\n",
      "epoch : 126, loss  4.0873260498046875,  W : [[10.344725]], b  [-5.081311]\n",
      "epoch : 127, loss  4.076296329498291,  W : [[10.374326]], b  [-5.09606]\n",
      "epoch : 128, loss  4.065389633178711,  W : [[10.403763]], b  [-5.110725]\n",
      "epoch : 129, loss  4.054603099822998,  W : [[10.433039]], b  [-5.1253085]\n",
      "epoch : 130, loss  4.0439348220825195,  W : [[10.462155]], b  [-5.139811]\n",
      "epoch : 131, loss  4.033382415771484,  W : [[10.491115]], b  [-5.154234]\n",
      "epoch : 132, loss  4.022943496704102,  W : [[10.519919]], b  [-5.168578]\n",
      "epoch : 133, loss  4.0126166343688965,  W : [[10.548572]], b  [-5.1828446]\n",
      "epoch : 134, loss  4.002399444580078,  W : [[10.577072]], b  [-5.1970344]\n",
      "epoch : 135, loss  3.9922893047332764,  W : [[10.605424]], b  [-5.2111487]\n",
      "epoch : 136, loss  3.9822845458984375,  W : [[10.633629]], b  [-5.2251883]\n",
      "epoch : 137, loss  3.972384214401245,  W : [[10.661689]], b  [-5.2391543]\n",
      "epoch : 138, loss  3.962585687637329,  W : [[10.689605]], b  [-5.253048]\n",
      "epoch : 139, loss  3.9528870582580566,  W : [[10.71738]], b  [-5.2668695]\n",
      "epoch : 140, loss  3.943286895751953,  W : [[10.745015]], b  [-5.28062]\n",
      "epoch : 141, loss  3.9337825775146484,  W : [[10.772512]], b  [-5.2943006]\n",
      "epoch : 142, loss  3.9243736267089844,  W : [[10.799873]], b  [-5.3079123]\n",
      "epoch : 143, loss  3.915057897567749,  W : [[10.8271]], b  [-5.3214555]\n",
      "epoch : 144, loss  3.9058334827423096,  W : [[10.854193]], b  [-5.3349314]\n",
      "epoch : 145, loss  3.8966996669769287,  W : [[10.881154]], b  [-5.3483405]\n",
      "epoch : 146, loss  3.8876543045043945,  W : [[10.907986]], b  [-5.361684]\n",
      "epoch : 147, loss  3.8786957263946533,  W : [[10.9346895]], b  [-5.3749623]\n",
      "epoch : 148, loss  3.8698232173919678,  W : [[10.9612665]], b  [-5.3881764]\n",
      "epoch : 149, loss  3.861034631729126,  W : [[10.987718]], b  [-5.401327]\n",
      "epoch : 150, loss  3.8523290157318115,  W : [[11.014046]], b  [-5.414415]\n",
      "epoch : 151, loss  3.84370493888855,  W : [[11.040251]], b  [-5.427441]\n",
      "epoch : 152, loss  3.835160732269287,  W : [[11.066335]], b  [-5.440406]\n",
      "epoch : 153, loss  3.826695680618286,  W : [[11.092299]], b  [-5.45331]\n",
      "epoch : 154, loss  3.818307876586914,  W : [[11.118146]], b  [-5.466154]\n",
      "epoch : 155, loss  3.809997081756592,  W : [[11.143875]], b  [-5.478939]\n",
      "epoch : 156, loss  3.801760673522949,  W : [[11.169489]], b  [-5.4916654]\n",
      "epoch : 157, loss  3.7935988903045654,  W : [[11.194988]], b  [-5.504334]\n",
      "epoch : 158, loss  3.7855098247528076,  W : [[11.220374]], b  [-5.5169454]\n",
      "epoch : 159, loss  3.7774927616119385,  W : [[11.245648]], b  [-5.5295]\n",
      "epoch : 160, loss  3.769545555114746,  W : [[11.270812]], b  [-5.541999]\n",
      "epoch : 161, loss  3.7616689205169678,  W : [[11.295866]], b  [-5.5544424]\n",
      "epoch : 162, loss  3.7538599967956543,  W : [[11.320812]], b  [-5.566831]\n",
      "epoch : 163, loss  3.7461190223693848,  W : [[11.345652]], b  [-5.5791655]\n",
      "epoch : 164, loss  3.7384448051452637,  W : [[11.370384]], b  [-5.5914464]\n",
      "epoch : 165, loss  3.730835437774658,  W : [[11.395013]], b  [-5.6036744]\n",
      "epoch : 166, loss  3.72329044342041,  W : [[11.419538]], b  [-5.61585]\n",
      "epoch : 167, loss  3.715808629989624,  W : [[11.443959]], b  [-5.627974]\n",
      "epoch : 168, loss  3.708390474319458,  W : [[11.46828]], b  [-5.6400466]\n",
      "epoch : 169, loss  3.701033353805542,  W : [[11.492499]], b  [-5.652068]\n",
      "epoch : 170, loss  3.6937379837036133,  W : [[11.51662]], b  [-5.6640396]\n",
      "epoch : 171, loss  3.6865012645721436,  W : [[11.540641]], b  [-5.675961]\n",
      "epoch : 172, loss  3.6793248653411865,  W : [[11.564565]], b  [-5.6878333]\n",
      "epoch : 173, loss  3.672205924987793,  W : [[11.588392]], b  [-5.6996565]\n",
      "epoch : 174, loss  3.665144681930542,  W : [[11.612124]], b  [-5.711432]\n",
      "epoch : 175, loss  3.6581404209136963,  W : [[11.635762]], b  [-5.7231593]\n",
      "epoch : 176, loss  3.6511917114257812,  W : [[11.659306]], b  [-5.7348394]\n",
      "epoch : 177, loss  3.6442978382110596,  W : [[11.682756]], b  [-5.746473]\n",
      "epoch : 178, loss  3.6374590396881104,  W : [[11.706116]], b  [-5.75806]\n",
      "epoch : 179, loss  3.6306726932525635,  W : [[11.729383]], b  [-5.769601]\n",
      "epoch : 180, loss  3.6239397525787354,  W : [[11.752562]], b  [-5.7810965]\n",
      "epoch : 181, loss  3.6172592639923096,  W : [[11.77565]], b  [-5.792547]\n",
      "epoch : 182, loss  3.6106300354003906,  W : [[11.798651]], b  [-5.803953]\n",
      "epoch : 183, loss  3.6040515899658203,  W : [[11.821564]], b  [-5.8153152]\n",
      "epoch : 184, loss  3.597522258758545,  W : [[11.84439]], b  [-5.8266335]\n",
      "epoch : 185, loss  3.591043710708618,  W : [[11.86713]], b  [-5.8379083]\n",
      "epoch : 186, loss  3.58461332321167,  W : [[11.889786]], b  [-5.8491406]\n",
      "epoch : 187, loss  3.5782310962677,  W : [[11.912356]], b  [-5.86033]\n",
      "epoch : 188, loss  3.571896553039551,  W : [[11.934844]], b  [-5.8714776]\n",
      "epoch : 189, loss  3.5656087398529053,  W : [[11.957249]], b  [-5.882583]\n",
      "epoch : 190, loss  3.5593671798706055,  W : [[11.979571]], b  [-5.8936477]\n",
      "epoch : 191, loss  3.553171396255493,  W : [[12.001813]], b  [-5.904671]\n",
      "epoch : 192, loss  3.547020435333252,  W : [[12.023973]], b  [-5.915654]\n",
      "epoch : 193, loss  3.540914297103882,  W : [[12.046055]], b  [-5.926597]\n",
      "epoch : 194, loss  3.5348520278930664,  W : [[12.068057]], b  [-5.9375]\n",
      "epoch : 195, loss  3.5288331508636475,  W : [[12.08998]], b  [-5.9483633]\n",
      "epoch : 196, loss  3.522857427597046,  W : [[12.111826]], b  [-5.9591875]\n",
      "epoch : 197, loss  3.5169239044189453,  W : [[12.1335945]], b  [-5.969973]\n",
      "epoch : 198, loss  3.5110321044921875,  W : [[12.155287]], b  [-5.98072]\n",
      "epoch : 199, loss  3.5051822662353516,  W : [[12.176904]], b  [-5.9914293]\n",
      "epoch : 200, loss  3.4993720054626465,  W : [[12.198445]], b  [-6.0021005]\n",
      "epoch : 201, loss  3.493603229522705,  W : [[12.219913]], b  [-6.0127344]\n",
      "epoch : 202, loss  3.4878737926483154,  W : [[12.241306]], b  [-6.023331]\n",
      "epoch : 203, loss  3.4821836948394775,  W : [[12.262627]], b  [-6.033891]\n",
      "epoch : 204, loss  3.4765329360961914,  W : [[12.2838745]], b  [-6.0444145]\n",
      "epoch : 205, loss  3.470919609069824,  W : [[12.305051]], b  [-6.0549016]\n",
      "epoch : 206, loss  3.4653453826904297,  W : [[12.326156]], b  [-6.0653534]\n",
      "epoch : 207, loss  3.459807872772217,  W : [[12.34719]], b  [-6.0757694]\n",
      "epoch : 208, loss  3.454308032989502,  W : [[12.368155]], b  [-6.08615]\n",
      "epoch : 209, loss  3.4488441944122314,  W : [[12.38905]], b  [-6.096496]\n",
      "epoch : 210, loss  3.4434165954589844,  W : [[12.409876]], b  [-6.106807]\n",
      "epoch : 211, loss  3.4380247592926025,  W : [[12.430634]], b  [-6.1170845]\n",
      "epoch : 212, loss  3.432668924331665,  W : [[12.4513235]], b  [-6.1273274]\n",
      "epoch : 213, loss  3.4273476600646973,  W : [[12.471946]], b  [-6.1375365]\n",
      "epoch : 214, loss  3.4220614433288574,  W : [[12.492501]], b  [-6.147712]\n",
      "epoch : 215, loss  3.416808843612671,  W : [[12.512991]], b  [-6.1578546]\n",
      "epoch : 216, loss  3.411590576171875,  W : [[12.533415]], b  [-6.167964]\n",
      "epoch : 217, loss  3.406405448913574,  W : [[12.553774]], b  [-6.1780405]\n",
      "epoch : 218, loss  3.4012529850006104,  W : [[12.574068]], b  [-6.1880846]\n",
      "epoch : 219, loss  3.3961341381073,  W : [[12.594298]], b  [-6.1980968]\n",
      "epoch : 220, loss  3.391047239303589,  W : [[12.614465]], b  [-6.208077]\n",
      "epoch : 221, loss  3.3859918117523193,  W : [[12.634568]], b  [-6.218025]\n",
      "epoch : 222, loss  3.3809685707092285,  W : [[12.65461]], b  [-6.2279425]\n",
      "epoch : 223, loss  3.3759758472442627,  W : [[12.674589]], b  [-6.2378283]\n",
      "epoch : 224, loss  3.3710145950317383,  W : [[12.694507]], b  [-6.2476835]\n",
      "epoch : 225, loss  3.366083860397339,  W : [[12.714363]], b  [-6.257508]\n",
      "epoch : 226, loss  3.3611838817596436,  W : [[12.7341585]], b  [-6.267302]\n",
      "epoch : 227, loss  3.3563132286071777,  W : [[12.753894]], b  [-6.2770658]\n",
      "epoch : 228, loss  3.3514723777770996,  W : [[12.773569]], b  [-6.2867994]\n",
      "epoch : 229, loss  3.34666109085083,  W : [[12.793185]], b  [-6.2965035]\n",
      "epoch : 230, loss  3.341878652572632,  W : [[12.812743]], b  [-6.306178]\n",
      "epoch : 231, loss  3.337125301361084,  W : [[12.832242]], b  [-6.3158236]\n",
      "epoch : 232, loss  3.332399368286133,  W : [[12.851683]], b  [-6.32544]\n",
      "epoch : 233, loss  3.327702045440674,  W : [[12.871066]], b  [-6.335027]\n",
      "epoch : 234, loss  3.3230326175689697,  W : [[12.890392]], b  [-6.344586]\n",
      "epoch : 235, loss  3.3183906078338623,  W : [[12.909662]], b  [-6.354116]\n",
      "epoch : 236, loss  3.3137760162353516,  W : [[12.928876]], b  [-6.363618]\n",
      "epoch : 237, loss  3.3091881275177,  W : [[12.948033]], b  [-6.373092]\n",
      "epoch : 238, loss  3.3046274185180664,  W : [[12.967135]], b  [-6.382539]\n",
      "epoch : 239, loss  3.300092935562134,  W : [[12.986182]], b  [-6.3919578]\n",
      "epoch : 240, loss  3.2955844402313232,  W : [[13.005175]], b  [-6.401349]\n",
      "epoch : 241, loss  3.2911014556884766,  W : [[13.024113]], b  [-6.410713]\n",
      "epoch : 242, loss  3.286644697189331,  W : [[13.042997]], b  [-6.42005]\n",
      "epoch : 243, loss  3.282212734222412,  W : [[13.061828]], b  [-6.429361]\n",
      "epoch : 244, loss  3.277806282043457,  W : [[13.0806055]], b  [-6.438645]\n",
      "epoch : 245, loss  3.2734243869781494,  W : [[13.09933]], b  [-6.447902]\n",
      "epoch : 246, loss  3.2690677642822266,  W : [[13.118002]], b  [-6.4571333]\n",
      "epoch : 247, loss  3.2647347450256348,  W : [[13.136622]], b  [-6.4663386]\n",
      "epoch : 248, loss  3.2604262828826904,  W : [[13.155191]], b  [-6.4755177]\n",
      "epoch : 249, loss  3.2561419010162354,  W : [[13.173709]], b  [-6.4846716]\n",
      "epoch : 250, loss  3.251880645751953,  W : [[13.192176]], b  [-6.4937997]\n",
      "epoch : 251, loss  3.247643232345581,  W : [[13.210591]], b  [-6.502903]\n",
      "epoch : 252, loss  3.2434287071228027,  W : [[13.228957]], b  [-6.5119805]\n",
      "epoch : 253, loss  3.2392375469207764,  W : [[13.2472725]], b  [-6.5210333]\n",
      "epoch : 254, loss  3.2350692749023438,  W : [[13.265538]], b  [-6.5300612]\n",
      "epoch : 255, loss  3.2309231758117676,  W : [[13.283755]], b  [-6.539065]\n",
      "epoch : 256, loss  3.226799488067627,  W : [[13.301924]], b  [-6.5480437]\n",
      "epoch : 257, loss  3.2226974964141846,  W : [[13.320044]], b  [-6.5569987]\n",
      "epoch : 258, loss  3.218618392944336,  W : [[13.338115]], b  [-6.5659294]\n",
      "epoch : 259, loss  3.2145605087280273,  W : [[13.356138]], b  [-6.5748363]\n",
      "epoch : 260, loss  3.210523843765259,  W : [[13.374114]], b  [-6.5837193]\n",
      "epoch : 261, loss  3.2065088748931885,  W : [[13.392042]], b  [-6.5925784]\n",
      "epoch : 262, loss  3.2025153636932373,  W : [[13.409924]], b  [-6.601414]\n",
      "epoch : 263, loss  3.1985421180725098,  W : [[13.427758]], b  [-6.6102266]\n",
      "epoch : 264, loss  3.1945900917053223,  W : [[13.445547]], b  [-6.6190157]\n",
      "epoch : 265, loss  3.1906580924987793,  W : [[13.463289]], b  [-6.627782]\n",
      "epoch : 266, loss  3.1867470741271973,  W : [[13.480986]], b  [-6.6365256]\n",
      "epoch : 267, loss  3.1828553676605225,  W : [[13.498637]], b  [-6.6452465]\n",
      "epoch : 268, loss  3.1789844036102295,  W : [[13.516243]], b  [-6.6539445]\n",
      "epoch : 269, loss  3.175133228302002,  W : [[13.533804]], b  [-6.6626205]\n",
      "epoch : 270, loss  3.1713013648986816,  W : [[13.551321]], b  [-6.671274]\n",
      "epoch : 271, loss  3.1674888134002686,  W : [[13.568793]], b  [-6.6799054]\n",
      "epoch : 272, loss  3.163696050643921,  W : [[13.586222]], b  [-6.6885147]\n",
      "epoch : 273, loss  3.159921884536743,  W : [[13.603606]], b  [-6.6971025]\n",
      "epoch : 274, loss  3.1561670303344727,  W : [[13.620947]], b  [-6.7056684]\n",
      "epoch : 275, loss  3.152430772781372,  W : [[13.638245]], b  [-6.714213]\n",
      "epoch : 276, loss  3.1487133502960205,  W : [[13.655499]], b  [-6.722736]\n",
      "epoch : 277, loss  3.1450140476226807,  W : [[13.672711]], b  [-6.7312374]\n",
      "epoch : 278, loss  3.141333818435669,  W : [[13.689881]], b  [-6.739718]\n",
      "epoch : 279, loss  3.1376705169677734,  W : [[13.707009]], b  [-6.7481775]\n",
      "epoch : 280, loss  3.134026050567627,  W : [[13.724095]], b  [-6.756616]\n",
      "epoch : 281, loss  3.130398988723755,  W : [[13.741139]], b  [-6.765034]\n",
      "epoch : 282, loss  3.1267895698547363,  W : [[13.758142]], b  [-6.773432]\n",
      "epoch : 283, loss  3.1231980323791504,  W : [[13.7751045]], b  [-6.7818084]\n",
      "epoch : 284, loss  3.1196231842041016,  W : [[13.792026]], b  [-6.790165]\n",
      "epoch : 285, loss  3.1160662174224854,  W : [[13.808906]], b  [-6.798501]\n",
      "epoch : 286, loss  3.1125261783599854,  W : [[13.825746]], b  [-6.806817]\n",
      "epoch : 287, loss  3.1090033054351807,  W : [[13.8425455]], b  [-6.815113]\n",
      "epoch : 288, loss  3.105496644973755,  W : [[13.859305]], b  [-6.8233895]\n",
      "epoch : 289, loss  3.102006435394287,  W : [[13.876025]], b  [-6.831646]\n",
      "epoch : 290, loss  3.0985336303710938,  W : [[13.892706]], b  [-6.839883]\n",
      "epoch : 291, loss  3.0950767993927,  W : [[13.909348]], b  [-6.8481]\n",
      "epoch : 292, loss  3.0916361808776855,  W : [[13.92595]], b  [-6.856298]\n",
      "epoch : 293, loss  3.0882115364074707,  W : [[13.942513]], b  [-6.8644767]\n",
      "epoch : 294, loss  3.0848031044006348,  W : [[13.959039]], b  [-6.872636]\n",
      "epoch : 295, loss  3.0814106464385986,  W : [[13.975526]], b  [-6.8807764]\n",
      "epoch : 296, loss  3.078033924102783,  W : [[13.991975]], b  [-6.888898]\n",
      "epoch : 297, loss  3.074671983718872,  W : [[14.008387]], b  [-6.8970003]\n",
      "epoch : 298, loss  3.0713257789611816,  W : [[14.02476]], b  [-6.905084]\n",
      "epoch : 299, loss  3.067995548248291,  W : [[14.041097]], b  [-6.9131494]\n"
     ]
    }
   ],
   "source": [
    "#Model y=sigmoid(X*W + b)\n",
    "# same as the linear regression just sigmoid wrapped around the linear equation\n",
    "def output(x): \n",
    "    return tf.sigmoid(W*x + b)\n",
    "\n",
    "#Loss function : sum of squares\n",
    "def loss_function(y_pred, y_true):\n",
    "    return tf.reduce_sum(tf.square(y_pred - y_true))\n",
    "\n",
    "#Initialize Weights\n",
    "W = tf.Variable(tf.random.uniform(shape=(1, 1)))\n",
    "b = tf.Variable(tf.zeros(shape=(1,)))\n",
    "\n",
    "## Optimization\n",
    "learning_rate = 0.1\n",
    "steps = 300 #epochs\n",
    "\n",
    "for i in range(steps):\n",
    "    with tf.GradientTape() as tape:\n",
    "        predictions = output(x_train)\n",
    "        loss = loss_function(y_train, predictions)\n",
    "        dloss_dw, dloss_db = tape.gradient(loss, [W, b])\n",
    "    W.assign_sub(learning_rate * dloss_dw)\n",
    "    b.assign_sub(learning_rate * dloss_db)\n",
    "    print(f\"epoch : {i}, loss  {loss.numpy()},  W : {W.numpy()}, b  {b.numpy()}\")"
   ]
  },
  {
   "cell_type": "markdown",
   "metadata": {},
   "source": [
    "Plotting"
   ]
  },
  {
   "cell_type": "code",
   "execution_count": 16,
   "metadata": {},
   "outputs": [
    {
     "name": "stdout",
     "output_type": "stream",
     "text": [
      "epoch is: 0, loss is 20.924755096435547,  W is: [[1.1393602]], b is [-0.5313098]\n"
     ]
    },
    {
     "data": {
      "image/png": "[encoded data removed]",
      "text/plain": [
       "<Figure size 432x288 with 1 Axes>"
      ]
     },
     "metadata": {
      "needs_background": "light"
     },
     "output_type": "display_data"
    },
    {
     "name": "stdout",
     "output_type": "stream",
     "text": [
      "epoch is: 40, loss is 6.105891227722168,  W is: [[6.781017]], b is [-3.293157]\n"
     ]
    },
    {
     "data": {
      "image/png": "[encoded data removed]",
      "text/plain": [
       "<Figure size 432x288 with 1 Axes>"
      ]
     },
     "metadata": {
      "needs_background": "light"
     },
     "output_type": "display_data"
    },
    {
     "name": "stdout",
     "output_type": "stream",
     "text": [
      "epoch is: 80, loss is 4.757711410522461,  W is: [[8.813942]], b is [-4.3162956]\n"
     ]
    },
    {
     "data": {
      "image/png": "[encoded data removed]",
      "text/plain": [
       "<Figure size 432x288 with 1 Axes>"
      ]
     },
     "metadata": {
      "needs_background": "light"
     },
     "output_type": "display_data"
    },
    {
     "name": "stdout",
     "output_type": "stream",
     "text": [
      "epoch is: 120, loss is 4.138717174530029,  W is: [[10.208986]], b is [-5.013659]\n"
     ]
    },
    {
     "data": {
      "image/png": "[encoded data removed]",
      "text/plain": [
       "<Figure size 432x288 with 1 Axes>"
      ]
     },
     "metadata": {
      "needs_background": "light"
     },
     "output_type": "display_data"
    },
    {
     "name": "stdout",
     "output_type": "stream",
     "text": [
      "epoch is: 160, loss is 3.757871150970459,  W is: [[11.307984]], b is [-5.560461]\n"
     ]
    },
    {
     "data": {
      "image/png": "[encoded data removed]",
      "text/plain": [
       "<Figure size 432x288 with 1 Axes>"
      ]
     },
     "metadata": {
      "needs_background": "light"
     },
     "output_type": "display_data"
    },
    {
     "name": "stdout",
     "output_type": "stream",
     "text": [
      "epoch is: 200, loss is 3.490818500518799,  W is: [[12.230301]], b is [-6.0178795]\n"
     ]
    },
    {
     "data": {
      "image/png": "[encoded data removed]",
      "text/plain": [
       "<Figure size 432x288 with 1 Axes>"
      ]
     },
     "metadata": {
      "needs_background": "light"
     },
     "output_type": "display_data"
    },
    {
     "name": "stdout",
     "output_type": "stream",
     "text": [
      "epoch is: 240, loss is 3.288935899734497,  W is: [[13.033284]], b is [-6.415248]\n"
     ]
    },
    {
     "data": {
      "image/png": "[encoded data removed]",
      "text/plain": [
       "<Figure size 432x288 with 1 Axes>"
      ]
     },
     "metadata": {
      "needs_background": "light"
     },
     "output_type": "display_data"
    },
    {
     "name": "stdout",
     "output_type": "stream",
     "text": [
      "epoch is: 280, loss is 3.1286449432373047,  W is: [[13.749397]], b is [-6.769113]\n"
     ]
    },
    {
     "data": {
      "image/png": "[encoded data removed]",
      "text/plain": [
       "<Figure size 432x288 with 1 Axes>"
      ]
     },
     "metadata": {
      "needs_background": "light"
     },
     "output_type": "display_data"
    }
   ],
   "source": [
    "#Model y=X*W + b\n",
    "# same as the linear regression just sigmoid wrapped around the linear equation\n",
    "def output(x): \n",
    "    return tf.sigmoid(W*x + b)\n",
    "\n",
    "#Loss function : sum of squares\n",
    "def loss_function(y_pred, y_true):\n",
    "    return tf.reduce_sum(tf.square(y_pred - y_true))\n",
    "\n",
    "#Initialize Weights\n",
    "W = tf.Variable(tf.random.uniform(shape=(1, 1)))\n",
    "b = tf.Variable(tf.zeros(shape=(1,)))\n",
    "\n",
    "## Optimization\n",
    "learning_rate = 0.1\n",
    "steps = 300 #epochs\n",
    "\n",
    "for i in range(steps):\n",
    "    with tf.GradientTape() as tape:\n",
    "        predictions = output(x_train)\n",
    "        loss = loss_function(y_train, predictions)\n",
    "        dloss_dw, dloss_db = tape.gradient(loss, [W, b])\n",
    "    W.assign_sub(learning_rate * dloss_dw)\n",
    "    b.assign_sub(learning_rate * dloss_db)\n",
    "\n",
    "    if i%40 == 0:\n",
    "        print(f\"epoch is: {i}, loss is {loss.numpy()},  W is: {W.numpy()}, b is {b.numpy()}\")\n",
    "        plt.title([\"epoch\", i])\n",
    "        plt.plot(x_train, y_train, 'b+')\n",
    "        plt.plot(x_train, output(x_train), '.', c='r')\n",
    "        plt.show()"
   ]
  },
  {
   "cell_type": "markdown",
   "metadata": {},
   "source": [
    "# Keras"
   ]
  },
  {
   "cell_type": "code",
   "execution_count": 17,
   "metadata": {},
   "outputs": [],
   "source": [
    "from tensorflow import keras\n",
    "from tensorflow.keras import layers\n",
    "from tensorflow.keras.models import Sequential\n",
    "from tensorflow.keras.layers import Dense"
   ]
  },
  {
   "cell_type": "code",
   "execution_count": 18,
   "metadata": {},
   "outputs": [
    {
     "name": "stdout",
     "output_type": "stream",
     "text": [
      "Downloading data from https://storage.googleapis.com/tensorflow/tf-keras-datasets/mnist.npz\n",
      "11493376/11490434 [==============================] - 0s 0us/step\n",
      "(60000, 784) train input samples\n",
      "(10000, 784) test input samples\n",
      "(60000, 10) train output samples\n",
      "(10000, 10) test output samples\n"
     ]
    }
   ],
   "source": [
    "## The data, shuffled and split between train and test sets\n",
    "(X_train, Y_train), (X_test, Y_test) = keras.datasets.mnist.load_data()\n",
    "num_classes=10\n",
    "x_train = X_train.reshape(60000, 784)\n",
    "x_test = X_test.reshape(10000, 784)\n",
    "x_train = x_train.astype('float32')\n",
    "x_test = x_test.astype('float32')\n",
    "x_train /= 255\n",
    "x_test /= 255\n",
    "\n",
    "## Convert class vectors to binary class matrices\n",
    "y_train = keras.utils.to_categorical(Y_train, num_classes)\n",
    "y_test = keras.utils.to_categorical(Y_test, num_classes)\n",
    "\n",
    "print(x_train.shape, 'train input samples')\n",
    "print(x_test.shape, 'test input samples')\n",
    "\n",
    "print(y_train.shape, 'train output samples')\n",
    "print(y_test.shape, 'test output samples')"
   ]
  },
  {
   "cell_type": "code",
   "execution_count": 19,
   "metadata": {},
   "outputs": [
    {
     "data": {
      "image/png": "[encoded data removed]",
      "text/plain": [
       "<Figure size 432x288 with 4 Axes>"
      ]
     },
     "metadata": {
      "needs_background": "light"
     },
     "output_type": "display_data"
    }
   ],
   "source": [
    "# Plot 4 images as gray scale\n",
    "\n",
    "%matplotlib inline\n",
    "import matplotlib.pyplot as plt\n",
    "plt.subplot(221)\n",
    "plt.imshow(X_train[1], cmap=plt.get_cmap('gray'))\n",
    "plt.subplot(222)\n",
    "plt.imshow(X_train[6], cmap=plt.get_cmap('gray'))\n",
    "plt.subplot(223)\n",
    "plt.imshow(X_train[7], cmap=plt.get_cmap('gray'))\n",
    "plt.subplot(224)\n",
    "plt.imshow(X_train[9], cmap=plt.get_cmap('gray'))\n",
    "\n",
    "# show the plot\n",
    "plt.show()"
   ]
  },
  {
   "cell_type": "code",
   "execution_count": 20,
   "metadata": {},
   "outputs": [
    {
     "name": "stdout",
     "output_type": "stream",
     "text": [
      "Model: \"sequential\"\n",
      "_________________________________________________________________\n",
      "Layer (type)                 Output Shape              Param #   \n",
      "=================================================================\n",
      "dense (Dense)                (None, 20)                15700     \n",
      "_________________________________________________________________\n",
      "dense_1 (Dense)              (None, 20)                420       \n",
      "_________________________________________________________________\n",
      "dense_2 (Dense)              (None, 10)                210       \n",
      "=================================================================\n",
      "Total params: 16,330\n",
      "Trainable params: 16,330\n",
      "Non-trainable params: 0\n",
      "_________________________________________________________________\n"
     ]
    }
   ],
   "source": [
    "model = keras.Sequential()\n",
    "#Input Layer. The model needs to know what input shape it should expect. \n",
    "#For this reason, the first layer in a Sequential model needs to receive information about its input shape.\n",
    "#Only the first need the snape information, because following layers can do automatic shape inference\n",
    "model.add(layers.Dense(20, activation='sigmoid', input_shape=(784,)))\n",
    "\n",
    "#The dense layer is simply a layer where each unit or neuron is connected to each neuron in the next layer.\n",
    "model.add(layers.Dense(20, activation='sigmoid'))\n",
    "\n",
    "#In the final layer mention the output classes\n",
    "model.add(layers.Dense(10, activation='softmax'))\n",
    "\n",
    "#Model Summary\n",
    "model.summary()"
   ]
  },
  {
   "cell_type": "code",
   "execution_count": 21,
   "metadata": {},
   "outputs": [
    {
     "name": "stdout",
     "output_type": "stream",
     "text": [
      "Train on 60000 samples\n",
      "Epoch 1/10\n",
      "60000/60000 [==============================] - 2s 40us/sample - loss: 0.9629 - accuracy: 0.7896\n",
      "Epoch 2/10\n",
      "60000/60000 [==============================] - 2s 29us/sample - loss: 0.3383 - accuracy: 0.9070\n",
      "Epoch 3/10\n",
      "60000/60000 [==============================] - 2s 28us/sample - loss: 0.2647 - accuracy: 0.9250\n",
      "Epoch 4/10\n",
      "60000/60000 [==============================] - 2s 28us/sample - loss: 0.2298 - accuracy: 0.9334\n",
      "Epoch 5/10\n",
      "60000/60000 [==============================] - 2s 29us/sample - loss: 0.2075 - accuracy: 0.9403\n",
      "Epoch 6/10\n",
      "60000/60000 [==============================] - 2s 28us/sample - loss: 0.1910 - accuracy: 0.9451\n",
      "Epoch 7/10\n",
      "60000/60000 [==============================] - 2s 28us/sample - loss: 0.1782 - accuracy: 0.9492\n",
      "Epoch 8/10\n",
      "60000/60000 [==============================] - 2s 29us/sample - loss: 0.1684 - accuracy: 0.9517\n",
      "Epoch 9/10\n",
      "60000/60000 [==============================] - 2s 29us/sample - loss: 0.1604 - accuracy: 0.9539\n",
      "Epoch 10/10\n",
      "60000/60000 [==============================] - 2s 28us/sample - loss: 0.1531 - accuracy: 0.9561\n"
     ]
    },
    {
     "data": {
      "text/plain": [
       "<tensorflow.python.keras.callbacks.History at 0x7fdbe919df50>"
      ]
     },
     "execution_count": 21,
     "metadata": {},
     "output_type": "execute_result"
    }
   ],
   "source": [
    "# Compiling model : we define loss function, optimizer and validation matric of our choice\n",
    "model.compile(loss='categorical_crossentropy', metrics=['accuracy'])\n",
    "\n",
    "# Fit method: actually running our model by supplying our input and validation data\n",
    "model.fit(x_train, y_train,epochs=10)"
   ]
  },
  {
   "cell_type": "code",
   "execution_count": 22,
   "metadata": {},
   "outputs": [
    {
     "name": "stdout",
     "output_type": "stream",
     "text": [
      "[array([[ 0.06632625, -0.01038647,  0.01181041, ..., -0.04447583,\n",
      "         0.02203038, -0.03008841],\n",
      "       [-0.02762978, -0.05924347, -0.00552504, ..., -0.08283255,\n",
      "        -0.05538524, -0.03497003],\n",
      "       [ 0.05304661,  0.03114557, -0.04945783, ...,  0.01470206,\n",
      "         0.02354159, -0.04887967],\n",
      "       ...,\n",
      "       [-0.03837168, -0.08263584,  0.05031125, ...,  0.05574797,\n",
      "        -0.07891064,  0.02400739],\n",
      "       [-0.01107484,  0.01705687, -0.08231814, ..., -0.04172334,\n",
      "         0.00622173,  0.01095623],\n",
      "       [ 0.02112763, -0.07382988, -0.08634973, ...,  0.02579115,\n",
      "        -0.03212307,  0.01135787]], dtype=float32), array([-0.12806886, -0.22651258, -0.15970865, -0.3689492 , -0.3813438 ,\n",
      "        0.24778692, -0.49267304, -0.00181863, -0.26349375,  0.31642956,\n",
      "       -0.15013796, -0.2398255 , -0.51674044, -0.21844508,  0.09936046,\n",
      "       -0.2586397 , -0.10097448,  0.25761145,  0.02875675,  0.13182057],\n",
      "      dtype=float32), array([[-1.39301729e+00,  5.98332644e-01, -1.42393753e-01,\n",
      "         4.81101394e-01,  1.03678441e+00,  6.02924168e-01,\n",
      "        -2.96579719e-01, -7.82319963e-01, -7.90669680e-01,\n",
      "         7.99799681e-01,  1.60898268e-01, -6.84856176e-01,\n",
      "         5.79161584e-01,  4.64933634e-01,  1.10879445e+00,\n",
      "         1.28331348e-01, -3.66257310e-01, -1.26052678e+00,\n",
      "         1.93551004e+00, -9.69145358e-01],\n",
      "       [ 6.05804026e-01, -1.18826412e-01,  1.35707474e+00,\n",
      "        -1.39356181e-01, -8.61685455e-01,  1.13774323e+00,\n",
      "        -6.56401038e-01,  4.65573758e-01, -1.07784951e+00,\n",
      "        -4.01070118e-01, -1.02413177e+00,  1.22217548e+00,\n",
      "         5.39396822e-01, -4.66213137e-01, -1.29717982e+00,\n",
      "         3.71875763e-01,  5.18478870e-01,  1.79680169e+00,\n",
      "        -8.72555494e-01,  6.17288351e-01],\n",
      "       [-1.35254490e+00, -8.65748823e-01, -2.47347072e-01,\n",
      "         1.72739899e+00,  8.27697635e-01,  1.12227070e+00,\n",
      "        -8.50084722e-01, -1.86835027e+00,  8.85006070e-01,\n",
      "        -9.42431986e-01, -7.43400931e-01,  1.06246078e+00,\n",
      "        -9.65923011e-01,  1.93844497e+00,  1.82040602e-01,\n",
      "         1.57979989e+00, -7.29083195e-02, -8.15228641e-01,\n",
      "         9.48026001e-01, -3.41443300e-01],\n",
      "       [ 7.01748729e-01, -6.73769891e-01,  1.12240613e+00,\n",
      "        -7.88557053e-01, -5.45402110e-01,  1.09850395e+00,\n",
      "        -5.99016070e-01,  1.60724354e+00, -9.20173585e-01,\n",
      "        -9.06789422e-01, -8.28742027e-01, -3.01870674e-01,\n",
      "         8.48809540e-01,  1.74268678e-01, -1.48227501e+00,\n",
      "         5.86369812e-01,  5.18621266e-01,  1.11194432e+00,\n",
      "        -2.02319100e-01,  1.25552103e-01],\n",
      "       [ 1.03152418e+00,  1.69755220e-01, -7.86240280e-01,\n",
      "        -6.82561874e-01,  6.90758824e-01, -1.13203514e+00,\n",
      "         1.62484419e+00,  6.25848830e-01, -3.49332467e-02,\n",
      "        -9.88056064e-01, -2.03327000e-01, -1.32363617e+00,\n",
      "        -2.39240074e+00,  4.83589619e-02,  1.15823686e+00,\n",
      "        -5.52288234e-01,  3.07980150e-01,  1.85227084e+00,\n",
      "        -9.85714614e-01, -1.51837146e+00],\n",
      "       [-9.97735083e-01,  1.09416807e+00,  1.21632457e+00,\n",
      "        -6.00970805e-01,  1.15377948e-01,  1.64727956e-01,\n",
      "        -3.12658608e-01, -1.37302250e-01, -2.33373731e-01,\n",
      "        -2.98600435e-01,  1.14715755e+00,  6.02329910e-01,\n",
      "         1.35409072e-01,  1.52091932e+00, -6.48060262e-01,\n",
      "         7.52086163e-01, -6.18539393e-01, -1.22290456e+00,\n",
      "         1.00035655e+00, -4.14233744e-01],\n",
      "       [ 2.35570669e+00, -4.76161003e-01,  1.16379544e-01,\n",
      "         9.99559760e-01, -1.42783475e+00, -1.67464340e+00,\n",
      "        -3.66220847e-02,  5.06461680e-01, -3.58705163e-01,\n",
      "        -8.16726565e-01,  1.05937541e+00,  1.87461996e+00,\n",
      "        -8.52354765e-01, -4.98313069e-01,  5.49021587e-02,\n",
      "         1.27108857e-01, -7.10242569e-01,  1.48401189e+00,\n",
      "        -1.91539133e+00, -7.02618003e-01],\n",
      "       [ 1.63197625e+00, -4.23502736e-02, -1.20612371e+00,\n",
      "         1.34358943e+00, -8.40646446e-01, -1.04259920e+00,\n",
      "        -1.17847276e+00,  8.87358308e-01, -4.86244828e-01,\n",
      "         9.92079496e-01,  1.39400065e-01,  1.41522455e+00,\n",
      "         5.43837965e-01, -1.43450046e+00,  5.93567267e-02,\n",
      "        -2.77655929e-01,  7.67901361e-01, -2.24918485e-01,\n",
      "        -5.40885329e-01,  1.71466410e+00],\n",
      "       [ 7.70088434e-01,  1.94580972e+00,  4.32362318e-01,\n",
      "        -1.35082948e+00,  1.47840416e+00, -5.82751334e-01,\n",
      "         1.61200452e+00,  9.13213432e-01, -1.60578060e+00,\n",
      "         6.48970723e-01, -5.28137684e-01, -1.53916943e+00,\n",
      "        -5.92638552e-01, -5.25065362e-01,  9.27299540e-03,\n",
      "        -1.42030418e+00,  6.63730979e-01,  7.45791912e-01,\n",
      "        -1.21256185e+00, -1.15976669e-01],\n",
      "       [ 8.79364073e-01,  8.21654320e-01,  5.13836205e-01,\n",
      "         1.93041757e-01, -1.09014750e+00, -3.85120749e-01,\n",
      "         9.01349366e-01,  6.52291656e-01, -9.54389751e-01,\n",
      "         6.93716645e-01, -1.41188395e+00,  9.76566151e-02,\n",
      "         1.08302787e-01, -1.50493741e+00, -7.12872326e-01,\n",
      "         1.93790585e-01, -6.38180822e-02,  1.58685195e+00,\n",
      "         1.31844692e-02, -2.15957791e-01],\n",
      "       [-1.02063942e+00, -1.60792291e+00, -1.71180594e+00,\n",
      "         2.95851350e-01, -3.70863765e-01,  9.01719928e-01,\n",
      "         3.52466524e-01,  3.90778244e-01,  2.76727605e+00,\n",
      "         1.52010098e-01,  1.35153338e-01, -9.00103331e-01,\n",
      "         9.53426883e-02,  6.36856616e-01,  8.90238404e-01,\n",
      "        -1.28085411e+00,  1.60611570e+00,  2.28129655e-01,\n",
      "        -2.32573405e-01,  2.04224443e+00],\n",
      "       [-5.87343812e-01,  1.53416410e-01,  6.89202726e-01,\n",
      "        -1.03245258e+00,  9.90996063e-01,  4.30808365e-01,\n",
      "         1.50030088e+00, -1.40296233e+00,  8.30380082e-01,\n",
      "        -7.07613170e-01, -1.10672450e+00, -4.41772431e-01,\n",
      "        -6.08055055e-01,  1.63236010e+00,  2.77343839e-01,\n",
      "         5.45846641e-01,  1.52997041e+00,  7.71114051e-01,\n",
      "         6.55041814e-01, -2.12226793e-01],\n",
      "       [ 1.92496046e-01, -1.34024537e+00, -5.49919248e-01,\n",
      "         2.41254950e+00, -8.33026528e-01,  1.44111061e+00,\n",
      "        -1.13243806e+00,  1.80668429e-01, -1.85723633e-01,\n",
      "         1.47859618e-01, -3.27713102e-01,  1.25974154e+00,\n",
      "        -3.76862764e-01, -2.85187632e-01,  5.45159757e-01,\n",
      "         5.30413330e-01, -1.20958745e+00,  2.56670862e-01,\n",
      "         9.83974218e-01, -9.86163735e-01],\n",
      "       [-8.66072774e-01,  5.25984585e-01,  4.19279598e-02,\n",
      "         1.01867044e+00, -7.09229112e-01,  1.30125239e-01,\n",
      "         1.67091262e+00, -7.72050083e-01,  4.99324530e-01,\n",
      "         2.76573956e-01, -7.92189419e-01, -4.28841978e-01,\n",
      "        -6.38801634e-01, -1.75527781e-01,  6.93017393e-02,\n",
      "         6.50173187e-01, -1.50591385e+00,  1.09739506e+00,\n",
      "         1.45248270e+00, -1.04937470e+00],\n",
      "       [ 2.36474760e-02, -1.22537124e+00, -7.21796215e-01,\n",
      "        -6.45623505e-02,  7.02122152e-01, -1.26572850e-03,\n",
      "        -1.25672340e+00,  4.92445081e-01,  9.43044841e-01,\n",
      "         8.17568183e-01,  4.93334055e-01,  2.15973705e-01,\n",
      "         4.26444530e-01, -1.62515551e-01,  1.61390460e+00,\n",
      "        -8.34168971e-01,  2.28289747e+00, -9.72638845e-01,\n",
      "        -1.02963912e+00,  1.62942457e+00],\n",
      "       [-6.36856794e-01,  2.31770778e+00, -8.92250180e-01,\n",
      "         8.46942544e-01,  2.93176651e-01, -1.09367740e+00,\n",
      "         1.29552960e+00, -2.05449486e+00,  1.91986755e-01,\n",
      "         3.70449567e+00, -3.23019338e+00,  4.46571559e-01,\n",
      "        -7.88687646e-01, -1.39926481e+00,  3.90214890e-01,\n",
      "         1.50166333e-01, -4.21269238e-01, -1.90194160e-01,\n",
      "         1.24243975e+00,  8.85054052e-01],\n",
      "       [-1.44956219e+00,  1.88490784e+00,  1.70017457e+00,\n",
      "        -1.15932465e+00,  2.86522716e-01, -8.57529402e-01,\n",
      "         2.57117987e+00, -4.77192789e-01,  8.39284003e-01,\n",
      "         2.12939072e+00,  1.77478641e-01, -1.03817165e+00,\n",
      "         6.52514338e-01,  2.49311075e-01,  5.77953815e-01,\n",
      "        -1.30800962e+00, -1.58433929e-01, -2.29231194e-01,\n",
      "         3.35376740e-01,  1.28242624e+00],\n",
      "       [ 6.84466779e-01, -1.21718775e-02, -1.48444366e+00,\n",
      "         2.97114223e-01,  8.17399383e-01,  1.50941387e-02,\n",
      "         8.80625129e-01,  2.04071719e-02,  6.69981182e-01,\n",
      "        -1.10861146e+00,  2.43030563e-02, -3.05092514e-01,\n",
      "        -1.94079959e+00,  1.27394688e+00,  6.26612782e-01,\n",
      "        -8.93482566e-01,  7.29754984e-01,  1.11035562e+00,\n",
      "        -8.97493005e-01, -1.85178936e-01],\n",
      "       [ 5.19442141e-01,  9.13723707e-01,  6.19386375e-01,\n",
      "        -7.38762245e-02, -1.05908588e-01, -1.99731863e+00,\n",
      "         5.92619181e-01,  1.58112094e-01, -5.98489046e-02,\n",
      "         1.25373332e-02,  1.26035535e+00,  1.01627684e+00,\n",
      "        -5.37886143e-01, -2.71792501e-01,  9.68584776e-01,\n",
      "        -8.12530339e-01, -6.34097517e-01, -1.31237721e+00,\n",
      "        -9.94062364e-01, -2.03560233e-01],\n",
      "       [-1.10612780e-01, -1.25799525e+00,  2.15989724e-01,\n",
      "        -2.18853161e-01, -6.86735451e-01, -4.78628576e-01,\n",
      "        -8.46165717e-01,  2.11654043e+00,  1.21687345e-01,\n",
      "        -6.46689415e-01,  1.79550910e+00, -1.36239797e-01,\n",
      "         1.33410633e+00,  7.81319499e-01, -6.56443119e-01,\n",
      "         1.27531573e-01,  3.79838914e-01, -1.20954466e+00,\n",
      "        -2.19868273e-01,  9.65030491e-01]], dtype=float32), array([ 0.2717453 , -0.23511311, -0.08459198,  0.02961922, -0.05827698,\n",
      "        0.00943271, -0.06192338,  0.13836864,  0.3884856 , -0.0678157 ,\n",
      "       -0.09285913, -0.08825178, -0.40438882,  0.35091802, -0.03881069,\n",
      "        0.0335134 ,  0.4921674 ,  0.0160643 , -0.30654615,  0.2263104 ],\n",
      "      dtype=float32), array([[-3.0146942e+00,  1.4941112e+00,  7.9504246e-01,  1.2451410e+00,\n",
      "        -2.7197459e+00, -2.3328135e+00, -1.7204294e+00,  1.5305686e+00,\n",
      "        -6.5001458e-01, -2.5689847e+00],\n",
      "       [-2.6993675e+00, -2.1539414e+00, -2.5631893e+00,  1.0587797e+00,\n",
      "         4.1261974e-01,  1.2322084e+00, -3.9101837e+00,  8.0232948e-01,\n",
      "        -1.6550711e+00,  4.8096943e-01],\n",
      "       [-2.8835948e+00, -4.0512103e-01, -1.1537097e+00, -1.0959110e+00,\n",
      "        -3.6734568e-03, -2.4756891e-01, -4.1367779e+00,  6.5419871e-01,\n",
      "         7.9178023e-01, -2.0571260e-01],\n",
      "       [-2.2272742e-01, -3.9147846e-03, -5.2370420e-03,  6.6324705e-01,\n",
      "        -2.8413107e+00,  1.9484307e-01, -1.3714516e-01, -3.4189842e+00,\n",
      "        -2.6441479e-02, -2.3579602e+00],\n",
      "       [ 1.7172883e+00, -3.4218128e+00, -2.1665821e+00, -1.1761875e+00,\n",
      "         5.2613288e-01, -2.1530758e-01, -2.7777308e-01,  1.0731831e+00,\n",
      "        -2.8717141e+00, -6.0040516e-01],\n",
      "       [ 1.6935422e+00, -1.2183321e+00, -1.3614503e+00, -2.2085149e+00,\n",
      "        -2.9043832e+00, -7.8048033e-01,  1.2121694e+00, -1.1775798e+00,\n",
      "         4.5045733e-01,  7.3462164e-01],\n",
      "       [ 1.7952813e-01, -3.2831144e+00,  2.1984065e-01,  8.2519400e-01,\n",
      "         7.0991345e-02, -1.9381881e-02, -3.5008781e+00,  1.3599169e-01,\n",
      "        -2.0269189e+00,  7.5448298e-01],\n",
      "       [-2.6804566e+00,  6.0131639e-01,  4.9740958e-01, -1.5851957e-01,\n",
      "         1.4470732e-01, -3.7496998e+00,  1.6547774e-01,  2.9494819e-01,\n",
      "         6.8568301e-01, -2.4508926e-01],\n",
      "       [ 1.3090433e+00, -2.0268927e+00,  8.3746958e-01, -2.5862255e+00,\n",
      "        -4.2729276e-01, -2.6506302e-01,  3.1072634e-01, -2.3887429e+00,\n",
      "        -2.1929877e+00, -1.1072372e+00],\n",
      "       [-2.5074644e+00,  4.7768381e-01, -1.5030866e+00,  1.1064681e+00,\n",
      "         3.8730234e-01,  9.5052767e-01, -7.4271992e-02, -3.0771043e+00,\n",
      "        -1.9108984e+00,  5.1048523e-01],\n",
      "       [-1.9771318e+00, -2.2768836e+00,  1.3518544e+00, -2.0593626e+00,\n",
      "         1.1890190e+00, -1.1463135e+00,  5.6114954e-01, -8.6961788e-01,\n",
      "         5.4734749e-01, -3.4092724e+00],\n",
      "       [-2.6701093e+00,  8.2628012e-01, -1.0351151e-01, -3.9146972e-01,\n",
      "        -2.4479775e+00,  9.6520710e-01, -3.4775814e-01, -8.5967648e-01,\n",
      "         6.0203397e-01, -2.7076495e+00],\n",
      "       [-3.2610512e+00,  1.0833349e+00, -1.7245854e+00, -2.0889618e+00,\n",
      "         4.5326263e-01, -2.6907370e+00, -3.1653930e-02, -1.9279375e+00,\n",
      "         5.0567383e-01,  8.0668205e-01],\n",
      "       [ 8.8266951e-01, -3.3970232e+00, -5.2453035e-01, -2.6933770e+00,\n",
      "         4.4158906e-01,  3.5044998e-01,  9.9601161e-01,  4.5534119e-01,\n",
      "         4.2750853e-01, -4.1338366e-01],\n",
      "       [ 3.9988676e-01, -1.7811254e+00,  1.6185069e-01,  3.9729393e-01,\n",
      "        -2.4022004e-01,  2.8350395e-01,  7.0584762e-01, -1.6857815e+00,\n",
      "        -1.1732891e+00, -2.9487181e+00],\n",
      "       [-1.6123834e-01, -6.7809098e-03, -1.1630005e+00, -7.4904680e-01,\n",
      "        -2.7996087e+00,  3.9559412e-01, -1.6959567e+00, -1.0390126e+00,\n",
      "         1.0804511e+00, -9.2205495e-01],\n",
      "       [ 7.2864671e-03,  9.7896916e-01, -8.7529099e-01, -1.8087873e+00,\n",
      "         4.2017534e-01, -2.1592772e+00,  1.4489703e-01,  1.4269719e+00,\n",
      "        -2.4169695e+00, -1.1339318e-01],\n",
      "       [ 3.7577322e-01,  2.0754474e-01,  5.2059311e-01,  8.3611339e-01,\n",
      "        -3.5439548e+00, -1.4824911e+00, -4.2429757e+00,  5.7652509e-01,\n",
      "        -1.1331702e+00,  9.3898439e-01],\n",
      "       [ 4.7477764e-01, -1.8441334e+00, -3.2893856e+00, -5.4737079e-01,\n",
      "         2.8109840e-01,  5.0638717e-01, -6.5739137e-01, -3.2781699e+00,\n",
      "         1.1343107e+00,  1.0489432e+00],\n",
      "       [-3.2422855e+00,  2.0480993e+00, -5.8344471e-01, -2.8101032e+00,\n",
      "         4.1329885e-01, -1.6406515e+00,  8.2438749e-01, -1.2448926e+00,\n",
      "        -2.6458294e+00,  2.5622138e-01]], dtype=float32), array([-0.4101531 , -0.19611585, -0.01760956, -0.01196588, -0.4063103 ,\n",
      "       -0.05831982, -0.39196613, -0.10390177, -0.18429941, -0.3871078 ],\n",
      "      dtype=float32)]\n"
     ]
    }
   ],
   "source": [
    "print(model.get_weights())"
   ]
  },
  {
   "cell_type": "code",
   "execution_count": 23,
   "metadata": {},
   "outputs": [
    {
     "name": "stdout",
     "output_type": "stream",
     "text": [
      "10000/1 - 0s - loss: 0.0881 - accuracy: 0.9525\n",
      "Test Accuracy: 95.25%\n"
     ]
    }
   ],
   "source": [
    "loss, acc = model.evaluate(x_test,  y_test, verbose=2)\n",
    "print(\"Test Accuracy: {:5.2f}%\".format(100*acc))"
   ]
  },
  {
   "cell_type": "code",
   "execution_count": null,
   "metadata": {},
   "outputs": [],
   "source": []
  },
  {
   "cell_type": "code",
   "execution_count": null,
   "metadata": {},
   "outputs": [],
   "source": []
  }
 ],
 "metadata": {
  "kernelspec": {
   "display_name": "Python 3",
   "language": "python",
   "name": "python3"
  },
  "language_info": {
   "codemirror_mode": {
    "name": "ipython",
    "version": 3
   },
   "file_extension": ".py",
   "mimetype": "text/x-python",
   "name": "python",
   "nbconvert_exporter": "python",
   "pygments_lexer": "ipython3",
   "version": "3.7.4"
  }
 },
 "nbformat": 4,
 "nbformat_minor": 4
}

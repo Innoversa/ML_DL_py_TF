{
 "cells": [
  {
   "cell_type": "markdown",
   "metadata": {
    "id": "DMBjA8sJE5T1"
   },
   "source": [
    "# ***CHAPTER 2 - Python Introduction*** \n",
    "#### Getting errors on some of the blocks below is normal (make sure to check the explanation for the errors)"
   ]
  },
  {
   "cell_type": "markdown",
   "metadata": {
    "id": "8i8tYoeIFPp-"
   },
   "source": [
    "## Basic Operations\n",
    "First few lines of code"
   ]
  },
  {
   "cell_type": "code",
   "execution_count": 6,
   "metadata": {
    "id": "moHUGPTjC-Qs"
   },
   "outputs": [
    {
     "name": "stdout",
     "output_type": "stream",
     "text": [
      "650\n",
      "323\n",
      "Python code\n"
     ]
    }
   ],
   "source": [
    "print(601+49)\n",
    "print(19*17)\n",
    "print(\"Python code\")"
   ]
  },
  {
   "cell_type": "markdown",
   "metadata": {
    "id": "zyoG6Y4QGlsY"
   },
   "source": [
    "* For doing the basic operations like addition, substraction, multiplication and division, python uses usual symbols like '+', '-', '*', '/' respectively."
   ]
  },
  {
   "cell_type": "code",
   "execution_count": 7,
   "metadata": {
    "id": "y-9OK0j-HP4o"
   },
   "outputs": [
    {
     "name": "stdout",
     "output_type": "stream",
     "text": [
      "7\n"
     ]
    }
   ],
   "source": [
    "x=7\n",
    "print(x)"
   ]
  },
  {
   "cell_type": "markdown",
   "metadata": {
    "id": "l2E4EApzHV0B"
   },
   "source": [
    "* For printing the results, the syntax is print()\n",
    "* To write a single line comment, use # \n",
    "* And to write multiline comment use three quotes\n",
    "\n",
    "Eg. # Single line comment\n",
    "\n",
    "\"\"\" \n",
    "\n",
    "Multiline comments\n",
    "\n",
    "\"\"\""
   ]
  },
  {
   "cell_type": "markdown",
   "metadata": {
    "id": "Mz3HcZjQIR-V"
   },
   "source": [
    "## Examples of Errors"
   ]
  },
  {
   "cell_type": "markdown",
   "metadata": {
    "id": "bEkKzuzHIW5-"
   },
   "source": [
    "### Error 1"
   ]
  },
  {
   "cell_type": "code",
   "execution_count": 8,
   "metadata": {
    "id": "adH582bmHUdB"
   },
   "outputs": [
    {
     "ename": "NameError",
     "evalue": "name 'Print' is not defined",
     "output_type": "error",
     "traceback": [
      "\u001b[0;31m---------------------------------------------------------------------------\u001b[0m",
      "\u001b[0;31mNameError\u001b[0m                                 Traceback (most recent call last)",
      "\u001b[0;32m<ipython-input-8-62c57d08ad78>\u001b[0m in \u001b[0;36m<module>\u001b[0;34m\u001b[0m\n\u001b[0;32m----> 1\u001b[0;31m \u001b[0mPrint\u001b[0m\u001b[0;34m(\u001b[0m\u001b[0;36m600\u001b[0m\u001b[0;34m+\u001b[0m\u001b[0;36m900\u001b[0m\u001b[0;34m)\u001b[0m\u001b[0;34m\u001b[0m\u001b[0;34m\u001b[0m\u001b[0m\n\u001b[0m",
      "\u001b[0;31mNameError\u001b[0m: name 'Print' is not defined"
     ]
    }
   ],
   "source": [
    "Print(600+900)"
   ]
  },
  {
   "cell_type": "markdown",
   "metadata": {
    "id": "ebDRNnO5IecO"
   },
   "source": [
    "Here instead of 'print()', 'Print()' is used. Hence the error occured."
   ]
  },
  {
   "cell_type": "markdown",
   "metadata": {
    "id": "DaPKiJh0JZrQ"
   },
   "source": [
    "### Error 2"
   ]
  },
  {
   "cell_type": "code",
   "execution_count": 9,
   "metadata": {
    "id": "lq6PMO_kIcsQ"
   },
   "outputs": [
    {
     "ename": "TypeError",
     "evalue": "unsupported operand type(s) for -: 'int' and 'str'",
     "output_type": "error",
     "traceback": [
      "\u001b[0;31m---------------------------------------------------------------------------\u001b[0m",
      "\u001b[0;31mTypeError\u001b[0m                                 Traceback (most recent call last)",
      "\u001b[0;32m<ipython-input-9-cfd2e5e6ab20>\u001b[0m in \u001b[0;36m<module>\u001b[0;34m\u001b[0m\n\u001b[0;32m----> 1\u001b[0;31m \u001b[0mprint\u001b[0m\u001b[0;34m(\u001b[0m\u001b[0;36m576\u001b[0m\u001b[0;34m-\u001b[0m\u001b[0;34m'96'\u001b[0m\u001b[0;34m)\u001b[0m\u001b[0;34m\u001b[0m\u001b[0;34m\u001b[0m\u001b[0m\n\u001b[0m",
      "\u001b[0;31mTypeError\u001b[0m: unsupported operand type(s) for -: 'int' and 'str'"
     ]
    }
   ],
   "source": [
    "print(576-'96')"
   ]
  },
  {
   "cell_type": "markdown",
   "metadata": {
    "id": "cbyQlPoyIw9W"
   },
   "source": [
    "A string cannot be subtracted from an integer. Hence error occured in this case."
   ]
  },
  {
   "cell_type": "code",
   "execution_count": 10,
   "metadata": {
    "id": "NN-iEgqBIuNB"
   },
   "outputs": [
    {
     "ename": "TypeError",
     "evalue": "unsupported operand type(s) for -: 'int' and 'str'",
     "output_type": "error",
     "traceback": [
      "\u001b[0;31m---------------------------------------------------------------------------\u001b[0m",
      "\u001b[0;31mTypeError\u001b[0m                                 Traceback (most recent call last)",
      "\u001b[0;32m<ipython-input-10-13001097ec21>\u001b[0m in \u001b[0;36m<module>\u001b[0;34m\u001b[0m\n\u001b[0;32m----> 1\u001b[0;31m \u001b[0mprint\u001b[0m\u001b[0;34m(\u001b[0m\u001b[0;36m576\u001b[0m\u001b[0;34m-\u001b[0m\u001b[0;34m'96'\u001b[0m\u001b[0;34m)\u001b[0m\u001b[0;34m\u001b[0m\u001b[0;34m\u001b[0m\u001b[0m\n\u001b[0m\u001b[1;32m      2\u001b[0m \u001b[0my\u001b[0m\u001b[0;34m=\u001b[0m\u001b[0;36m10\u001b[0m\u001b[0;34m\u001b[0m\u001b[0;34m\u001b[0m\u001b[0m\n\u001b[1;32m      3\u001b[0m \u001b[0mprint\u001b[0m\u001b[0;34m(\u001b[0m\u001b[0my\u001b[0m\u001b[0;34m)\u001b[0m\u001b[0;34m\u001b[0m\u001b[0;34m\u001b[0m\u001b[0m\n",
      "\u001b[0;31mTypeError\u001b[0m: unsupported operand type(s) for -: 'int' and 'str'"
     ]
    }
   ],
   "source": [
    "print(576-'96')\n",
    "y=10\n",
    "print(y)"
   ]
  },
  {
   "cell_type": "markdown",
   "metadata": {
    "id": "WyIrIC4KJDXg"
   },
   "source": [
    "If error is there in any of the line then the lines after the error will not be executed."
   ]
  },
  {
   "cell_type": "markdown",
   "metadata": {
    "id": "bJ6NUrDRJgav"
   },
   "source": [
    "## Defining a variable"
   ]
  },
  {
   "cell_type": "code",
   "execution_count": 11,
   "metadata": {
    "id": "_6a2j1loJBZV"
   },
   "outputs": [
    {
     "ename": "SyntaxError",
     "evalue": "invalid syntax (<ipython-input-11-7901347aeadb>, line 1)",
     "output_type": "error",
     "traceback": [
      "\u001b[0;36m  File \u001b[0;32m\"<ipython-input-11-7901347aeadb>\"\u001b[0;36m, line \u001b[0;32m1\u001b[0m\n\u001b[0;31m    1x=20\u001b[0m\n\u001b[0m     ^\u001b[0m\n\u001b[0;31mSyntaxError\u001b[0m\u001b[0;31m:\u001b[0m invalid syntax\n"
     ]
    }
   ],
   "source": [
    "1x=20 "
   ]
  },
  {
   "cell_type": "markdown",
   "metadata": {
    "id": "utoPofN1J8ec"
   },
   "source": [
    "While defining a variable one cannot start with a number.Every object name should start with an alphabet only. Numbers are not allowed as the starting letters of an object name."
   ]
  },
  {
   "cell_type": "code",
   "execution_count": 12,
   "metadata": {
    "id": "Lvz1yZUvJvHw"
   },
   "outputs": [],
   "source": [
    "x1=20 \n"
   ]
  },
  {
   "cell_type": "markdown",
   "metadata": {
    "id": "m2Qxh799KF5L"
   },
   "source": [
    "An object name can contain numbers followed by an alphabet(s)"
   ]
  },
  {
   "cell_type": "code",
   "execution_count": 13,
   "metadata": {
    "id": "JiJXJjT-J1Tr"
   },
   "outputs": [
    {
     "ename": "SyntaxError",
     "evalue": "invalid syntax (<ipython-input-13-6117ef5ccc73>, line 1)",
     "output_type": "error",
     "traceback": [
      "\u001b[0;36m  File \u001b[0;32m\"<ipython-input-13-6117ef5ccc73>\"\u001b[0;36m, line \u001b[0;32m1\u001b[0m\n\u001b[0;31m    x.1=20\u001b[0m\n\u001b[0m      ^\u001b[0m\n\u001b[0;31mSyntaxError\u001b[0m\u001b[0;31m:\u001b[0m invalid syntax\n"
     ]
    }
   ],
   "source": [
    "x.1=20 "
   ]
  },
  {
   "cell_type": "markdown",
   "metadata": {
    "id": "MXHY7EqVKLod"
   },
   "source": [
    "We can’t have all special characters in the variable names. For example, an underscore is allowed but dot and dollar sign are not allowed "
   ]
  },
  {
   "cell_type": "code",
   "execution_count": 14,
   "metadata": {
    "id": "25u9W9a6J5LH"
   },
   "outputs": [],
   "source": [
    "x_1=20 "
   ]
  },
  {
   "cell_type": "markdown",
   "metadata": {
    "id": "tgHnEefhLGnP"
   },
   "source": [
    "## Dynamic assignment of variables during code execution"
   ]
  },
  {
   "cell_type": "code",
   "execution_count": 15,
   "metadata": {
    "id": "a0hAGrloJ6jm"
   },
   "outputs": [
    {
     "name": "stdout",
     "output_type": "stream",
     "text": [
      "12000\n"
     ]
    }
   ],
   "source": [
    "income=12000\n",
    "print(income)"
   ]
  },
  {
   "cell_type": "markdown",
   "metadata": {
    "id": "74di6EihLY4o"
   },
   "source": [
    "The variable assignment in Python is dynamic.We need not declare income as an integer before assigning 12000. Python will dynamically identify it as an integer "
   ]
  },
  {
   "cell_type": "code",
   "execution_count": 16,
   "metadata": {
    "id": "8HVd87hyLXdF"
   },
   "outputs": [
    {
     "ename": "NameError",
     "evalue": "name 'y' is not defined",
     "output_type": "error",
     "traceback": [
      "\u001b[0;31m---------------------------------------------------------------------------\u001b[0m",
      "\u001b[0;31mNameError\u001b[0m                                 Traceback (most recent call last)",
      "\u001b[0;32m<ipython-input-16-1c6c06867ad9>\u001b[0m in \u001b[0;36m<module>\u001b[0;34m\u001b[0m\n\u001b[0;32m----> 1\u001b[0;31m \u001b[0mz\u001b[0m\u001b[0;34m=\u001b[0m\u001b[0mx\u001b[0m\u001b[0;34m*\u001b[0m\u001b[0my\u001b[0m\u001b[0;34m\u001b[0m\u001b[0;34m\u001b[0m\u001b[0m\n\u001b[0m\u001b[1;32m      2\u001b[0m \u001b[0mprint\u001b[0m\u001b[0;34m(\u001b[0m\u001b[0mz\u001b[0m\u001b[0;34m)\u001b[0m\u001b[0;34m\u001b[0m\u001b[0;34m\u001b[0m\u001b[0m\n",
      "\u001b[0;31mNameError\u001b[0m: name 'y' is not defined"
     ]
    }
   ],
   "source": [
    "z=x*y\n",
    "print(z)"
   ]
  },
  {
   "cell_type": "markdown",
   "metadata": {
    "id": "vNinWDYrLmUf"
   },
   "source": [
    "Since y is not defined previously hence the error occured. We need to predefine x, y before executing x*y"
   ]
  },
  {
   "cell_type": "code",
   "execution_count": 17,
   "metadata": {
    "id": "S-ZWvFyVLkwt"
   },
   "outputs": [
    {
     "name": "stdout",
     "output_type": "stream",
     "text": [
      "20\n",
      "600\n"
     ]
    }
   ],
   "source": [
    "x=20\n",
    "print(x)\n",
    "y=30\n",
    "z=x*y\n",
    "print(z)\n"
   ]
  },
  {
   "cell_type": "code",
   "execution_count": 18,
   "metadata": {
    "id": "SBD1aC1DMD8l"
   },
   "outputs": [
    {
     "name": "stdout",
     "output_type": "stream",
     "text": [
      "March\n"
     ]
    }
   ],
   "source": [
    "income=\"March\"\n",
    "print(income)"
   ]
  },
  {
   "cell_type": "markdown",
   "metadata": {
    "id": "diZwVPnGMSwO"
   },
   "source": [
    "If we store some value in a variable, we can replace it with any other value even if it is of different datatype. You will not even get a warning before the replacement takes place."
   ]
  },
  {
   "cell_type": "markdown",
   "metadata": {
    "id": "QNjLwhrVMX7Z"
   },
   "source": [
    "## Printing along with a message"
   ]
  },
  {
   "cell_type": "markdown",
   "metadata": {
    "id": "3dlhxh30M5xW"
   },
   "source": [
    "Example 1"
   ]
  },
  {
   "cell_type": "code",
   "execution_count": 19,
   "metadata": {
    "id": "ODZOwnh6MRDb"
   },
   "outputs": [
    {
     "name": "stdout",
     "output_type": "stream",
     "text": [
      "Age value is 35\n"
     ]
    }
   ],
   "source": [
    "age=35\n",
    "print(\"Age value is\", age) "
   ]
  },
  {
   "cell_type": "markdown",
   "metadata": {
    "id": "m9ES4N8BM8mE"
   },
   "source": [
    "Example 2 "
   ]
  },
  {
   "cell_type": "code",
   "execution_count": 20,
   "metadata": {
    "id": "pVwo58R3MxYP"
   },
   "outputs": [
    {
     "name": "stdout",
     "output_type": "stream",
     "text": [
      "income is 5000 $\n"
     ]
    }
   ],
   "source": [
    "income=5000\n",
    "print(\"income is\", income , \"$\")"
   ]
  },
  {
   "cell_type": "markdown",
   "metadata": {
    "id": "WgDjG3KeM_DJ"
   },
   "source": [
    "Example 3 "
   ]
  },
  {
   "cell_type": "code",
   "execution_count": 21,
   "metadata": {
    "id": "HOlD4lZ7M1SJ"
   },
   "outputs": [
    {
     "name": "stdout",
     "output_type": "stream",
     "text": [
      "GDP per capita of United States is 59531\n"
     ]
    }
   ],
   "source": [
    "gdp_percap=59531\n",
    "Country=\"United States\" \n",
    "print(\"GDP per capita of\", Country, \"is\" , gdp_percap)"
   ]
  },
  {
   "cell_type": "markdown",
   "metadata": {
    "id": "ym_1UvHqNEuw"
   },
   "source": [
    "## Types of objects in python"
   ]
  },
  {
   "cell_type": "code",
   "execution_count": 22,
   "metadata": {
    "id": "_sizxbVhM4wV"
   },
   "outputs": [
    {
     "name": "stdout",
     "output_type": "stream",
     "text": [
      "30000\n",
      "type of object is  <class 'int'>\n",
      "5000.25\n",
      "type of object is  <class 'float'>\n"
     ]
    }
   ],
   "source": [
    "# Example 1\n",
    "sales=30000\n",
    "print(sales)\n",
    "print(\"type of object is \", type(sales)) \n",
    "\n",
    "#Example 2\n",
    "Avg_expenses =5000.25\n",
    "print(Avg_expenses)\n",
    "print(\"type of object is \", type(Avg_expenses)) "
   ]
  },
  {
   "cell_type": "markdown",
   "metadata": {
    "id": "1jg6UEY4OTLh"
   },
   "source": [
    "## Strings in python"
   ]
  },
  {
   "cell_type": "markdown",
   "metadata": {
    "id": "C4ihcg99OZA5"
   },
   "source": [
    "### Defining Strings"
   ]
  },
  {
   "cell_type": "code",
   "execution_count": 23,
   "metadata": {
    "id": "_SnFtaLXNQ_4"
   },
   "outputs": [],
   "source": [
    "name=\"Sheldon\"\n",
    "msg=\"sent a mail to Jack\""
   ]
  },
  {
   "cell_type": "markdown",
   "metadata": {
    "id": "PSnNKrOxOpp_"
   },
   "source": [
    "### Accessing Strings"
   ]
  },
  {
   "cell_type": "code",
   "execution_count": 24,
   "metadata": {
    "id": "fUDByDtROhMT"
   },
   "outputs": [
    {
     "name": "stdout",
     "output_type": "stream",
     "text": [
      "S\n",
      "h\n"
     ]
    }
   ],
   "source": [
    "print(name[0])\n",
    "print(name[1])"
   ]
  },
  {
   "cell_type": "markdown",
   "metadata": {
    "id": "1V_0yL6COwwj"
   },
   "source": [
    "### Extracting substrings from strings"
   ]
  },
  {
   "cell_type": "code",
   "execution_count": 25,
   "metadata": {
    "id": "dYDWR-bVOt_s"
   },
   "outputs": [
    {
     "name": "stdout",
     "output_type": "stream",
     "text": [
      "Shel\n",
      "do\n",
      "sent a ma\n",
      "il to\n"
     ]
    }
   ],
   "source": [
    "print(name[0:4])\n",
    "print(name[4:6])\n",
    "print(msg[0:9])\n",
    "print(msg[9:14])"
   ]
  },
  {
   "cell_type": "markdown",
   "metadata": {
    "id": "kC97nZJgO6Rt"
   },
   "source": [
    "### Finding length of string"
   ]
  },
  {
   "cell_type": "code",
   "execution_count": 26,
   "metadata": {
    "id": "knStY3hpO41s"
   },
   "outputs": [
    {
     "name": "stdout",
     "output_type": "stream",
     "text": [
      "19\n",
      "il to Jack\n"
     ]
    }
   ],
   "source": [
    "print(len(msg))\n",
    "print(msg[9:len(msg)])"
   ]
  },
  {
   "cell_type": "markdown",
   "metadata": {
    "id": "cMod6JwZPB8r"
   },
   "source": [
    "### String Concatenation"
   ]
  },
  {
   "cell_type": "code",
   "execution_count": 27,
   "metadata": {
    "id": "TpXMy9MYO_2b"
   },
   "outputs": [
    {
     "name": "stdout",
     "output_type": "stream",
     "text": [
      "Sheldon sent a mail to Jack\n"
     ]
    }
   ],
   "source": [
    "new_msg= name +\" \" +  msg\n",
    "print(new_msg)"
   ]
  },
  {
   "cell_type": "markdown",
   "metadata": {
    "id": "K67x7BEzPWIA"
   },
   "source": [
    "## Lists in python"
   ]
  },
  {
   "cell_type": "markdown",
   "metadata": {
    "id": "9kVhdjH_Paji"
   },
   "source": [
    "### Defining lists"
   ]
  },
  {
   "cell_type": "code",
   "execution_count": 28,
   "metadata": {
    "id": "tzi3g8oGPUHW"
   },
   "outputs": [
    {
     "name": "stdout",
     "output_type": "stream",
     "text": [
      "<class 'list'>\n"
     ]
    }
   ],
   "source": [
    "mylist1=[\"Sheldon\",\"Tommy\", \"Benny\"]\n",
    "print(type(mylist1))"
   ]
  },
  {
   "cell_type": "markdown",
   "metadata": {
    "id": "6PBCTfQYPgVQ"
   },
   "source": [
    "### Accessing values from a list"
   ]
  },
  {
   "cell_type": "code",
   "execution_count": 29,
   "metadata": {
    "id": "4PpseowsPesf"
   },
   "outputs": [
    {
     "name": "stdout",
     "output_type": "stream",
     "text": [
      "Sheldon\n",
      "Tommy\n"
     ]
    }
   ],
   "source": [
    "print(mylist1[0])\n",
    "print(mylist1[1])"
   ]
  },
  {
   "cell_type": "markdown",
   "metadata": {
    "id": "JKr_OltFPph_"
   },
   "source": [
    "### Length of strings\n",
    "Number of elements in the list can be accessed by using len() function "
   ]
  },
  {
   "cell_type": "code",
   "execution_count": 30,
   "metadata": {
    "id": "V2ifWC5JPm4h"
   },
   "outputs": [
    {
     "data": {
      "text/plain": [
       "3"
      ]
     },
     "execution_count": 30,
     "metadata": {},
     "output_type": "execute_result"
    }
   ],
   "source": [
    "len(mylist1)"
   ]
  },
  {
   "cell_type": "markdown",
   "metadata": {
    "id": "-xh7svOpP3AT"
   },
   "source": [
    "### List appending or combining two lists into one"
   ]
  },
  {
   "cell_type": "code",
   "execution_count": 31,
   "metadata": {
    "id": "ml59o0qxPzF7"
   },
   "outputs": [
    {
     "name": "stdout",
     "output_type": "stream",
     "text": [
      "['Sheldon', 'Tommy', 'Benny', 'Ken', 'Bill']\n"
     ]
    }
   ],
   "source": [
    "mylist2=[\"Ken\",\"Bill\"]\n",
    "new_list=mylist1 + mylist2\n",
    "print(new_list)"
   ]
  },
  {
   "cell_type": "markdown",
   "metadata": {
    "id": "kbfpdLViP-6g"
   },
   "source": [
    "### Updating an element in the list"
   ]
  },
  {
   "cell_type": "code",
   "execution_count": 32,
   "metadata": {
    "id": "EkvUuHW1P7K_"
   },
   "outputs": [
    {
     "name": "stdout",
     "output_type": "stream",
     "text": [
      "actual list ['Sheldon', 'Tommy', 'Benny']\n",
      "list after updating ['John', 'Tommy', 'Benny']\n"
     ]
    }
   ],
   "source": [
    "print(\"actual list\",mylist1)\n",
    "mylist1[0]=\"John\"\n",
    "print(\"list after updating\" ,mylist1)"
   ]
  },
  {
   "cell_type": "markdown",
   "metadata": {
    "id": "7knhtGY7QGYo"
   },
   "source": [
    "### Deleting an element from the list"
   ]
  },
  {
   "cell_type": "code",
   "execution_count": 33,
   "metadata": {
    "id": "4uZXrJKEQEUy"
   },
   "outputs": [
    {
     "name": "stdout",
     "output_type": "stream",
     "text": [
      "actual list ['Ken', 'Bill']\n",
      "list after deleting ['Bill']\n"
     ]
    }
   ],
   "source": [
    "print(\"actual list\",mylist2)\n",
    "del mylist2[0]\n",
    "print(\"list after deleting\" ,mylist2)"
   ]
  },
  {
   "cell_type": "markdown",
   "metadata": {
    "id": "BySeZvirQNG_"
   },
   "source": [
    "## Difference between array and a list "
   ]
  },
  {
   "cell_type": "code",
   "execution_count": 34,
   "metadata": {
    "id": "dvPiGppXQLoj"
   },
   "outputs": [
    {
     "name": "stdout",
     "output_type": "stream",
     "text": [
      "[1, 7, 6, 6, 2, 2]\n"
     ]
    }
   ],
   "source": [
    "val1=[1,7,6]\n",
    "val2=[6,2,2]\n",
    "val3=val1+val2\n",
    "print(val3)"
   ]
  },
  {
   "cell_type": "code",
   "execution_count": 35,
   "metadata": {
    "id": "QZB67l2pQUQ5"
   },
   "outputs": [
    {
     "name": "stdout",
     "output_type": "stream",
     "text": [
      "['John', 1500, 'LA']\n"
     ]
    }
   ],
   "source": [
    "details=[\"John\", 1500, \"LA\"]\n",
    "print(details)"
   ]
  },
  {
   "cell_type": "markdown",
   "metadata": {
    "id": "Mc4jYU7fQfoT"
   },
   "source": [
    "Lists can contain different datatypes."
   ]
  },
  {
   "cell_type": "code",
   "execution_count": 36,
   "metadata": {
    "id": "9Y6m5FvYQYGr"
   },
   "outputs": [
    {
     "name": "stdout",
     "output_type": "stream",
     "text": [
      "['John', 1500, 'LA', ['John', 'Tommy', 'Benny']]\n"
     ]
    }
   ],
   "source": [
    "details_all=[\"John\", 1500, \"LA\",mylist1 ]\n",
    "print(details_all)"
   ]
  },
  {
   "cell_type": "markdown",
   "metadata": {
    "id": "aWLaXqx5QqJ7"
   },
   "source": [
    "We can add list inside a list."
   ]
  },
  {
   "cell_type": "markdown",
   "metadata": {
    "id": "6__DjHQjQu43"
   },
   "source": [
    "## Dictionaries"
   ]
  },
  {
   "cell_type": "markdown",
   "metadata": {
    "id": "hlDLxZEAQ3Nm"
   },
   "source": [
    "### Defining a dictionary"
   ]
  },
  {
   "cell_type": "code",
   "execution_count": 37,
   "metadata": {
    "id": "DIM9xqpHQo99"
   },
   "outputs": [
    {
     "name": "stdout",
     "output_type": "stream",
     "text": [
      "{2: 'Los Angeles', 9: 'Dallas', 21: 'Boston'}\n",
      "<class 'dict'>\n"
     ]
    }
   ],
   "source": [
    "city={2:\"Los Angeles\", 9:\"Dallas\" , 21:\"Boston\"}\n",
    "print(city)\n",
    "print(type(city))"
   ]
  },
  {
   "cell_type": "markdown",
   "metadata": {
    "id": "-ZuDSldPRAXT"
   },
   "source": [
    "### Accessing values from a dictionary"
   ]
  },
  {
   "cell_type": "code",
   "execution_count": 38,
   "metadata": {
    "id": "7DhrgbdFQ8QH"
   },
   "outputs": [
    {
     "name": "stdout",
     "output_type": "stream",
     "text": [
      "Dallas\n",
      "Los Angeles\n"
     ]
    }
   ],
   "source": [
    "print(city[9])\n",
    "print(city[2])"
   ]
  },
  {
   "cell_type": "markdown",
   "metadata": {
    "id": "7EnUVNuXRHQw"
   },
   "source": [
    "### Printing all keys"
   ]
  },
  {
   "cell_type": "code",
   "execution_count": 39,
   "metadata": {
    "id": "rvI1f-emRPLu"
   },
   "outputs": [
    {
     "name": "stdout",
     "output_type": "stream",
     "text": [
      "dict_keys([2, 9, 21])\n"
     ]
    }
   ],
   "source": [
    "print(city.keys())"
   ]
  },
  {
   "cell_type": "markdown",
   "metadata": {
    "id": "P8QBAU1DRSmJ"
   },
   "source": [
    "### Printing all values"
   ]
  },
  {
   "cell_type": "code",
   "execution_count": 40,
   "metadata": {
    "id": "qYhYUfZyRQEl"
   },
   "outputs": [
    {
     "name": "stdout",
     "output_type": "stream",
     "text": [
      "dict_values(['Los Angeles', 'Dallas', 'Boston'])\n"
     ]
    }
   ],
   "source": [
    "print(city.values())"
   ]
  },
  {
   "cell_type": "markdown",
   "metadata": {
    "id": "1i-A-KjjRfvi"
   },
   "source": [
    "### Updating an element value in the dictionary"
   ]
  },
  {
   "cell_type": "code",
   "execution_count": 41,
   "metadata": {
    "id": "35Uxx1gkRXB8"
   },
   "outputs": [
    {
     "name": "stdout",
     "output_type": "stream",
     "text": [
      "{2: 'New York', 9: 'Dallas', 21: 'Boston'}\n"
     ]
    }
   ],
   "source": [
    "city[2]=\"New York\"\n",
    "print(city)"
   ]
  },
  {
   "cell_type": "markdown",
   "metadata": {
    "id": "VL82oVcYRnRh"
   },
   "source": [
    "### Deleting a value from dictionary"
   ]
  },
  {
   "cell_type": "code",
   "execution_count": 42,
   "metadata": {
    "id": "7siKnw6gRlcm"
   },
   "outputs": [
    {
     "name": "stdout",
     "output_type": "stream",
     "text": [
      "{9: 'Dallas', 21: 'Boston'}\n"
     ]
    }
   ],
   "source": [
    "del(city[2])\n",
    "print(city)"
   ]
  },
  {
   "cell_type": "markdown",
   "metadata": {
    "id": "13VO8Bn1SjaF"
   },
   "source": [
    "### Keys in dictionary"
   ]
  },
  {
   "cell_type": "code",
   "execution_count": 43,
   "metadata": {
    "id": "gUUEmvG5Rsvz"
   },
   "outputs": [
    {
     "name": "stdout",
     "output_type": "stream",
     "text": [
      "{1: 'USA', 6: 'France', 7: 'India'}\n"
     ]
    }
   ],
   "source": [
    "country={1:\"USA\", 6:\"Brazil\" , 7:\"India\", 6: \"France\" }\n",
    "print(country)"
   ]
  },
  {
   "cell_type": "markdown",
   "metadata": {
    "id": "0my3joKrSWOl"
   },
   "source": [
    "Keys can never repeat. In case of a repeat key, Python doesn’t throw an error but it automatically ignores the value associated with first key. "
   ]
  },
  {
   "cell_type": "code",
   "execution_count": 44,
   "metadata": {
    "id": "fh1WoRvUSUjh"
   },
   "outputs": [
    {
     "name": "stdout",
     "output_type": "stream",
     "text": [
      "{'USA': 20494, 'China': 13407}\n",
      "20494\n"
     ]
    },
    {
     "ename": "NameError",
     "evalue": "name 'USA' is not defined",
     "output_type": "error",
     "traceback": [
      "\u001b[0;31m---------------------------------------------------------------------------\u001b[0m",
      "\u001b[0;31mNameError\u001b[0m                                 Traceback (most recent call last)",
      "\u001b[0;32m<ipython-input-44-a29c8076c78a>\u001b[0m in \u001b[0;36m<module>\u001b[0;34m\u001b[0m\n\u001b[1;32m      2\u001b[0m \u001b[0mprint\u001b[0m\u001b[0;34m(\u001b[0m\u001b[0mGDP\u001b[0m\u001b[0;34m)\u001b[0m\u001b[0;34m\u001b[0m\u001b[0;34m\u001b[0m\u001b[0m\n\u001b[1;32m      3\u001b[0m \u001b[0mprint\u001b[0m\u001b[0;34m(\u001b[0m\u001b[0mGDP\u001b[0m\u001b[0;34m[\u001b[0m\u001b[0;34m\"USA\"\u001b[0m\u001b[0;34m]\u001b[0m\u001b[0;34m)\u001b[0m\u001b[0;34m\u001b[0m\u001b[0;34m\u001b[0m\u001b[0m\n\u001b[0;32m----> 4\u001b[0;31m \u001b[0mprint\u001b[0m\u001b[0;34m(\u001b[0m\u001b[0mGDP\u001b[0m\u001b[0;34m[\u001b[0m\u001b[0mUSA\u001b[0m\u001b[0;34m]\u001b[0m\u001b[0;34m)\u001b[0m\u001b[0;34m\u001b[0m\u001b[0;34m\u001b[0m\u001b[0m\n\u001b[0m",
      "\u001b[0;31mNameError\u001b[0m: name 'USA' is not defined"
     ]
    }
   ],
   "source": [
    "# Getting error on the last output of this block is normal\n",
    "GDP= {\"USA\": 20494, \"China\" : 13407}\n",
    "print(GDP)\n",
    "print(GDP[\"USA\"])\n",
    "print(GDP[USA])"
   ]
  },
  {
   "cell_type": "markdown",
   "metadata": {
    "id": "UwRvBhXSSyar"
   },
   "source": [
    "We can have non-numeric keys as well but while accessing it you need to pass the key values like a string - with quotes. "
   ]
  },
  {
   "cell_type": "code",
   "execution_count": 45,
   "metadata": {
    "id": "sSaHRv5pS4Ox"
   },
   "outputs": [
    {
     "name": "stdout",
     "output_type": "stream",
     "text": [
      "{'cust1': [19, 9500], 'cust2': [21, 10000]}\n",
      "[19, 9500]\n"
     ]
    }
   ],
   "source": [
    "cust={\"cust1\":[19, 9500], \"cust2\":[21, 10000]}\n",
    "print(cust)\n",
    "print(cust[\"cust1\"])"
   ]
  },
  {
   "cell_type": "markdown",
   "metadata": {
    "id": "XBdDNiaxTB-L"
   },
   "source": [
    "Values in the dictionary can be lists also."
   ]
  },
  {
   "cell_type": "markdown",
   "metadata": {
    "id": "eoYvVO8bUV7M"
   },
   "source": [
    "## Packages in python"
   ]
  },
  {
   "cell_type": "code",
   "execution_count": 89,
   "metadata": {
    "id": "cDd4UjLWS_ED"
   },
   "outputs": [
    {
     "ename": "NameError",
     "evalue": "name 'log' is not defined",
     "output_type": "error",
     "traceback": [
      "\u001b[0;31m---------------------------------------------------------------------------\u001b[0m",
      "\u001b[0;31mNameError\u001b[0m                                 Traceback (most recent call last)",
      "\u001b[0;32m<ipython-input-89-a4265d6da271>\u001b[0m in \u001b[0;36m<module>\u001b[0;34m\u001b[0m\n\u001b[0;32m----> 1\u001b[0;31m \u001b[0mprint\u001b[0m\u001b[0;34m(\u001b[0m\u001b[0mlog\u001b[0m\u001b[0;34m(\u001b[0m\u001b[0;36m10\u001b[0m\u001b[0;34m)\u001b[0m\u001b[0;34m)\u001b[0m\u001b[0;34m\u001b[0m\u001b[0;34m\u001b[0m\u001b[0m\n\u001b[0m",
      "\u001b[0;31mNameError\u001b[0m: name 'log' is not defined"
     ]
    }
   ],
   "source": [
    "print(log(10))"
   ]
  },
  {
   "cell_type": "code",
   "execution_count": 47,
   "metadata": {
    "id": "81tOVSulUfjq"
   },
   "outputs": [
    {
     "ename": "NameError",
     "evalue": "name 'sqrt' is not defined",
     "output_type": "error",
     "traceback": [
      "\u001b[0;31m---------------------------------------------------------------------------\u001b[0m",
      "\u001b[0;31mNameError\u001b[0m                                 Traceback (most recent call last)",
      "\u001b[0;32m<ipython-input-47-112b573c917c>\u001b[0m in \u001b[0;36m<module>\u001b[0;34m\u001b[0m\n\u001b[0;32m----> 1\u001b[0;31m \u001b[0mprint\u001b[0m\u001b[0;34m(\u001b[0m\u001b[0msqrt\u001b[0m\u001b[0;34m(\u001b[0m\u001b[0;36m256\u001b[0m\u001b[0;34m)\u001b[0m\u001b[0;34m)\u001b[0m\u001b[0;34m\u001b[0m\u001b[0;34m\u001b[0m\u001b[0m\n\u001b[0m",
      "\u001b[0;31mNameError\u001b[0m: name 'sqrt' is not defined"
     ]
    }
   ],
   "source": [
    "print(sqrt(256))"
   ]
  },
  {
   "cell_type": "markdown",
   "metadata": {
    "id": "TfBK2V57UuzQ"
   },
   "source": [
    "Python is throwing errors. It is not due to the wrong syntax or erroneous function names. Python is a multi-purpose language; it doesn’t have log as one of its core functions. Python doesn’t have a square root function either.\n",
    "\n",
    "Python contains a package called math. Just import math package, and you can now safely use log and sqrt."
   ]
  },
  {
   "cell_type": "code",
   "execution_count": 48,
   "metadata": {
    "id": "AXAH46BRUtF3"
   },
   "outputs": [
    {
     "name": "stdout",
     "output_type": "stream",
     "text": [
      "2.302585092994046\n",
      "16.0\n"
     ]
    }
   ],
   "source": [
    "import math\n",
    "print(math.log(10))\n",
    "print(math.sqrt(256))"
   ]
  },
  {
   "cell_type": "markdown",
   "metadata": {
    "id": "G58InpB6VBmi"
   },
   "source": [
    "### Numpy"
   ]
  },
  {
   "cell_type": "code",
   "execution_count": 49,
   "metadata": {
    "id": "fYqlH1NSU-Sy"
   },
   "outputs": [
    {
     "name": "stdout",
     "output_type": "stream",
     "text": [
      "<class 'numpy.ndarray'>\n",
      "[6725 9365 8030 8750]\n",
      "6725\n"
     ]
    }
   ],
   "source": [
    "import numpy as np\n",
    "\n",
    "income = np.array([6725, 9365, 8030, 8750])\n",
    "print(type(income))\n",
    "print(income) \n",
    "print(income[0])"
   ]
  },
  {
   "cell_type": "markdown",
   "metadata": {
    "id": "1Pe8AxTYVQuD"
   },
   "source": [
    "Creating a new array from income array"
   ]
  },
  {
   "cell_type": "code",
   "execution_count": 50,
   "metadata": {
    "id": "AQR7w-UhVHtT"
   },
   "outputs": [
    {
     "name": "stdout",
     "output_type": "stream",
     "text": [
      "[4371.25 6087.25 5219.5  5687.5 ]\n"
     ]
    }
   ],
   "source": [
    "expenses=income*0.65\n",
    "print(expenses)"
   ]
  },
  {
   "cell_type": "code",
   "execution_count": 51,
   "metadata": {
    "id": "DMYaRKSeVNpd"
   },
   "outputs": [
    {
     "name": "stdout",
     "output_type": "stream",
     "text": [
      "[2353.75 3277.75 2810.5  3062.5 ]\n"
     ]
    }
   ],
   "source": [
    "savings=income-expenses\n",
    "print(savings)"
   ]
  },
  {
   "cell_type": "markdown",
   "metadata": {
    "id": "pGDvVjvCVukQ"
   },
   "source": [
    "#### Array VS list"
   ]
  },
  {
   "cell_type": "code",
   "execution_count": 52,
   "metadata": {
    "id": "AJ8g0-NAVWJS"
   },
   "outputs": [],
   "source": [
    "income_list=[6725, 9365, 8030, 8750]\n",
    "income_array = np.array(income_list)"
   ]
  },
  {
   "cell_type": "code",
   "execution_count": 53,
   "metadata": {
    "id": "QAMx-1XwVk-9"
   },
   "outputs": [
    {
     "name": "stdout",
     "output_type": "stream",
     "text": [
      "[6725, 9365, 8030, 8750, 6725, 9365, 8030, 8750]\n",
      "[13450 18730 16060 17500]\n"
     ]
    }
   ],
   "source": [
    "print(income_list*2)\n",
    "print(income_array*2)"
   ]
  },
  {
   "cell_type": "markdown",
   "metadata": {
    "id": "sbr-qoiTV2Te"
   },
   "source": [
    "### Pandas"
   ]
  },
  {
   "cell_type": "code",
   "execution_count": 54,
   "metadata": {
    "id": "z4wdoMNSVoNi"
   },
   "outputs": [],
   "source": [
    "import pandas as pd"
   ]
  },
  {
   "cell_type": "markdown",
   "metadata": {
    "id": "gdyed1pbdtlv"
   },
   "source": [
    "<!-- To upload the data/files in google colab, use following syntax -->\n",
    "## NEED Revision"
   ]
  },
  {
   "cell_type": "code",
   "execution_count": 58,
   "metadata": {
    "id": "jnwqfIDsWAmI"
   },
   "outputs": [],
   "source": [
    "# from google.colab import drive\n",
    "# drive.mount('/content/drive')"
   ]
  },
  {
   "cell_type": "code",
   "execution_count": 59,
   "metadata": {
    "id": "GC7JxfQAd4eu"
   },
   "outputs": [
    {
     "name": "stdout",
     "output_type": "stream",
     "text": [
      "       Cust_num  age           job   marital  education default  balance  \\\n",
      "0             1   58    management   married   tertiary      no     2143   \n",
      "1             2   44    technician    single  secondary      no       29   \n",
      "2             3   33  entrepreneur   married  secondary      no        2   \n",
      "3             4   47   blue-collar   married    unknown      no     1506   \n",
      "4             5   33       unknown    single    unknown      no        1   \n",
      "...         ...  ...           ...       ...        ...     ...      ...   \n",
      "45206     45207   51    technician   married   tertiary      no      825   \n",
      "45207     45208   71       retired  divorced    primary      no     1729   \n",
      "45208     45209   72       retired   married  secondary      no     5715   \n",
      "45209     45210   57   blue-collar   married  secondary      no      668   \n",
      "45210     45211   37  entrepreneur   married  secondary      no     2971   \n",
      "\n",
      "      housing loan    contact  day month  duration  campaign  pdays  previous  \\\n",
      "0         yes   no    unknown    5   may       261         1     -1         0   \n",
      "1         yes   no    unknown    5   may       151         1     -1         0   \n",
      "2         yes  yes    unknown    5   may        76         1     -1         0   \n",
      "3         yes   no    unknown    5   may        92         1     -1         0   \n",
      "4          no   no    unknown    5   may       198         1     -1         0   \n",
      "...       ...  ...        ...  ...   ...       ...       ...    ...       ...   \n",
      "45206      no   no   cellular   17   nov       977         3     -1         0   \n",
      "45207      no   no   cellular   17   nov       456         2     -1         0   \n",
      "45208      no   no   cellular   17   nov      1127         5    184         3   \n",
      "45209      no   no  telephone   17   nov       508         4     -1         0   \n",
      "45210      no   no   cellular   17   nov       361         2    188        11   \n",
      "\n",
      "      poutcome    y  \n",
      "0      unknown   no  \n",
      "1      unknown   no  \n",
      "2      unknown   no  \n",
      "3      unknown   no  \n",
      "4      unknown   no  \n",
      "...        ...  ...  \n",
      "45206  unknown  yes  \n",
      "45207  unknown  yes  \n",
      "45208  success  yes  \n",
      "45209  unknown   no  \n",
      "45210    other   no  \n",
      "\n",
      "[45211 rows x 18 columns]\n"
     ]
    }
   ],
   "source": [
    "bank= pd.read_csv('Datasets/Bank Tele Marketing/bank_market.csv')\n",
    "print(bank)"
   ]
  },
  {
   "cell_type": "markdown",
   "metadata": {
    "id": "wKqqzQLlg8ye"
   },
   "source": [
    "### Matplotlib"
   ]
  },
  {
   "cell_type": "code",
   "execution_count": 60,
   "metadata": {
    "id": "4ICwLymlfDsZ"
   },
   "outputs": [
    {
     "name": "stdout",
     "output_type": "stream",
     "text": [
      "Index(['Cust_num', 'age', 'job', 'marital', 'education', 'default', 'balance',\n",
      "       'housing', 'loan', 'contact', 'day', 'month', 'duration', 'campaign',\n",
      "       'pdays', 'previous', 'poutcome', 'y'],\n",
      "      dtype='object')\n"
     ]
    }
   ],
   "source": [
    "bank= pd.read_csv('Datasets/Bank Tele Marketing/bank_market.csv')\n",
    "print(bank.columns)"
   ]
  },
  {
   "cell_type": "code",
   "execution_count": 63,
   "metadata": {
    "id": "FXLlGYYYhmEd"
   },
   "outputs": [
    {
     "data": {
      "image/png": "[encoded data removed]",
      "text/plain": [
       "<Figure size 432x288 with 1 Axes>"
      ]
     },
     "metadata": {
      "needs_background": "light"
     },
     "output_type": "display_data"
    }
   ],
   "source": [
    "import matplotlib.pyplot as plt\n",
    "plt.scatter(bank.age,bank.balance)\n",
    "plt.show()"
   ]
  },
  {
   "cell_type": "markdown",
   "metadata": {
    "id": "lCIGOJDNh4Vv"
   },
   "source": [
    "## Conditions and Loops in python"
   ]
  },
  {
   "cell_type": "markdown",
   "metadata": {
    "id": "26BrRyFliJmf"
   },
   "source": [
    "### If condition\n"
   ]
  },
  {
   "cell_type": "markdown",
   "metadata": {
    "id": "MSHSMJGPiQVw"
   },
   "source": [
    "Example 1"
   ]
  },
  {
   "cell_type": "code",
   "execution_count": 64,
   "metadata": {
    "id": "8F6bFWo8hqSt"
   },
   "outputs": [
    {
     "name": "stdout",
     "output_type": "stream",
     "text": [
      "Done with If\n"
     ]
    }
   ],
   "source": [
    "level=60\n",
    "if level<50:\n",
    "    print(\"Stage1\")\n",
    "print(\"Done with If\")"
   ]
  },
  {
   "cell_type": "markdown",
   "metadata": {
    "id": "CLsRigoFiX0H"
   },
   "source": [
    "Example 2"
   ]
  },
  {
   "cell_type": "code",
   "execution_count": 65,
   "metadata": {
    "id": "x4Dh_S7yiWGm"
   },
   "outputs": [],
   "source": [
    "level=60\n",
    "if level<50:\n",
    "    print(\"Stage1\")\n",
    "    print(\"Done with If\")"
   ]
  },
  {
   "cell_type": "markdown",
   "metadata": {
    "id": "6CqAMIAUkL5A"
   },
   "source": [
    "Example 3"
   ]
  },
  {
   "cell_type": "code",
   "execution_count": 66,
   "metadata": {
    "id": "s-yP2qNNkCKX"
   },
   "outputs": [
    {
     "name": "stdout",
     "output_type": "stream",
     "text": [
      "Stage1\n",
      "Done with If\n"
     ]
    }
   ],
   "source": [
    "level=40\n",
    "if level<50:\n",
    "    print(\"Stage1\")\n",
    "print(\"Done with If\")"
   ]
  },
  {
   "cell_type": "markdown",
   "metadata": {
    "id": "FbIiSdsclfmM"
   },
   "source": [
    "Example 4"
   ]
  },
  {
   "cell_type": "code",
   "execution_count": 67,
   "metadata": {
    "id": "eboHcf3xld-X"
   },
   "outputs": [
    {
     "name": "stdout",
     "output_type": "stream",
     "text": [
      "Stage2\n",
      "Done with If\n"
     ]
    }
   ],
   "source": [
    "level=60\n",
    "if level<50:\n",
    "    print(\"Stage1\")\n",
    "else:\n",
    "    print(\"Stage2\")\n",
    "print(\"Done with If\")"
   ]
  },
  {
   "cell_type": "markdown",
   "metadata": {
    "id": "JrGUePETloFi"
   },
   "source": [
    "### For loop"
   ]
  },
  {
   "cell_type": "markdown",
   "metadata": {
    "id": "XqhjKv3emLre"
   },
   "source": [
    "Example 1"
   ]
  },
  {
   "cell_type": "code",
   "execution_count": 68,
   "metadata": {
    "id": "gEEyHO8vlkHi"
   },
   "outputs": [
    {
     "name": "stdout",
     "output_type": "stream",
     "text": [
      "The name is Tommy\n",
      "The name is Benny\n",
      "The name is Ken\n"
     ]
    }
   ],
   "source": [
    "names=[\"Tommy\", \"Benny\", \"Ken\"]\n",
    "for i in names:\n",
    "    print(\"The name is\", i)"
   ]
  },
  {
   "cell_type": "markdown",
   "metadata": {
    "id": "Qe-MywofmhF-"
   },
   "source": [
    "Example 2"
   ]
  },
  {
   "cell_type": "code",
   "execution_count": 69,
   "metadata": {
    "id": "gqNvW-DJmfMB"
   },
   "outputs": [
    {
     "name": "stdout",
     "output_type": "stream",
     "text": [
      "Cumulative sum till 1 is 1\n",
      "Cumulative sum till 2 is 3\n",
      "Cumulative sum till 3 is 6\n",
      "Cumulative sum till 4 is 10\n",
      "Cumulative sum till 5 is 15\n",
      "Cumulative sum till 6 is 21\n",
      "Cumulative sum till 7 is 28\n",
      "Cumulative sum till 8 is 36\n",
      "Cumulative sum till 9 is 45\n"
     ]
    }
   ],
   "source": [
    "nums=range(1,10)\n",
    "cumsum=0\n",
    "for i in nums:\n",
    "    cumsum=cumsum+i\n",
    "    print(\"Cumulative sum till\", i ,\"is\", cumsum)"
   ]
  },
  {
   "cell_type": "markdown",
   "metadata": {
    "id": "-1Q_BbeomnnP"
   },
   "source": [
    "## Data Importing and basic details "
   ]
  },
  {
   "cell_type": "code",
   "execution_count": 70,
   "metadata": {
    "id": "wSD0QnhHmmD6"
   },
   "outputs": [],
   "source": [
    "import pandas as pd"
   ]
  },
  {
   "cell_type": "markdown",
   "metadata": {
    "id": "wSqDzU11oZiY"
   },
   "source": [
    "#### Importing data from csv files "
   ]
  },
  {
   "cell_type": "code",
   "execution_count": 72,
   "metadata": {
    "id": "yyiNgWWdnK51"
   },
   "outputs": [
    {
     "name": "stdout",
     "output_type": "stream",
     "text": [
      "      Cust_id         CustName Product_code Country_code Sales_Type  \\\n",
      "0    SIE39906    Garrett Bauer          HA1          SIE     Direct   \n",
      "1    EST39196      Rama Norris          GI2          EST    Website   \n",
      "2    AFG39258      Serena Carr          ER3          AFG    Website   \n",
      "3    CAN39302   Brendan Daniel          BR1          CAN    Website   \n",
      "4    POR39323   Judith Beasley          LU4          POR    Website   \n",
      "..        ...              ...          ...          ...        ...   \n",
      "972  GUA39889  Hermione Grimes          EA1          GUA      Other   \n",
      "973  TRI39891    Daryl Gilbert          LA1          TRI      Other   \n",
      "974  SOU39893    Upton Lambert          DE1          SOU      Other   \n",
      "975  GEO39888   Jaime Alvarado          AU5          GEO      Other   \n",
      "976  ICE39892      Bert Fowler          LE2          ICE     Direct   \n",
      "\n",
      "     Net_sales  Invoice_Amount  \n",
      "0            1             400  \n",
      "1            2             400  \n",
      "2            2             400  \n",
      "3            2             400  \n",
      "4            2             400  \n",
      "..         ...             ...  \n",
      "972        129            3870  \n",
      "973        155            4650  \n",
      "974        171            5130  \n",
      "975        188            5640  \n",
      "976        240            7200  \n",
      "\n",
      "[977 rows x 7 columns]\n"
     ]
    }
   ],
   "source": [
    "sales= pd.read_csv('Datasets/Sales/Sales.csv')\n",
    "print(sales)"
   ]
  },
  {
   "cell_type": "markdown",
   "metadata": {
    "id": "4cYPQhGwoof2"
   },
   "source": [
    "#### Importing data from Microsoft Excel files "
   ]
  },
  {
   "cell_type": "code",
   "execution_count": 73,
   "metadata": {
    "id": "VEn8hXmloWBZ"
   },
   "outputs": [
    {
     "name": "stdout",
     "output_type": "stream",
     "text": [
      "                  Country Name       Date  \\\n",
      "0                United States 2010-07-01   \n",
      "1                        China 2010-07-01   \n",
      "2                        Japan 2010-07-01   \n",
      "3                      Germany 2010-07-01   \n",
      "4                       France 2010-07-01   \n",
      "...                        ...        ...   \n",
      "2349                   Somalia 2000-07-01   \n",
      "2350               South Sudan 2000-07-01   \n",
      "2351  St. Martin (French part) 2000-07-01   \n",
      "2352  Turks and Caicos Islands 2000-07-01   \n",
      "2353     Virgin Islands (U.S.) 2000-07-01   \n",
      "\n",
      "      Transit: Railways, (million passenger-km)  \\\n",
      "0                                        9518.0   \n",
      "1                                      791158.0   \n",
      "2                                      244235.0   \n",
      "3                                       78582.0   \n",
      "4                                       86853.0   \n",
      "...                                         ...   \n",
      "2349                                        NaN   \n",
      "2350                                        NaN   \n",
      "2351                                        NaN   \n",
      "2352                                        NaN   \n",
      "2353                                        NaN   \n",
      "\n",
      "      Transit: Passenger cars (per 1,000 people)  \\\n",
      "0                                            NaN   \n",
      "1                                            NaN   \n",
      "2                                            NaN   \n",
      "3                                            NaN   \n",
      "4                                            NaN   \n",
      "...                                          ...   \n",
      "2349                                         NaN   \n",
      "2350                                         NaN   \n",
      "2351                                         NaN   \n",
      "2352                                         NaN   \n",
      "2353                                         NaN   \n",
      "\n",
      "      Business: Mobile phone subscribers  \\\n",
      "0                            278900000.0   \n",
      "1                            859003000.0   \n",
      "2                            120708670.0   \n",
      "3                            104560000.0   \n",
      "4                             63200000.0   \n",
      "...                                  ...   \n",
      "2349                             80000.0   \n",
      "2350                                 NaN   \n",
      "2351                                 NaN   \n",
      "2352                                 NaN   \n",
      "2353                             35000.0   \n",
      "\n",
      "      Business: Internet users (per 100 people)  \\\n",
      "0                                          74.0   \n",
      "1                                          34.0   \n",
      "2                                          78.0   \n",
      "3                                          83.0   \n",
      "4                                          77.0   \n",
      "...                                         ...   \n",
      "2349                                        0.0   \n",
      "2350                                        NaN   \n",
      "2351                                        NaN   \n",
      "2352                                        NaN   \n",
      "2353                                       14.0   \n",
      "\n",
      "      Health: Mortality, under-5 (per 1,000 live births)  \\\n",
      "0                                                   8.0    \n",
      "1                                                  18.0    \n",
      "2                                                   3.0    \n",
      "3                                                   4.0    \n",
      "4                                                   4.0    \n",
      "...                                                 ...    \n",
      "2349                                              180.0    \n",
      "2350                                                NaN    \n",
      "2351                                                NaN    \n",
      "2352                                                NaN    \n",
      "2353                                                NaN    \n",
      "\n",
      "      Health: Health expenditure per capita (current US$)  \\\n",
      "0                                                8362.0     \n",
      "1                                                 221.0     \n",
      "2                                                4065.0     \n",
      "3                                                4668.0     \n",
      "4                                                4691.0     \n",
      "...                                                 ...     \n",
      "2349                                                NaN     \n",
      "2350                                                NaN     \n",
      "2351                                                NaN     \n",
      "2352                                                NaN     \n",
      "2353                                                NaN     \n",
      "\n",
      "      Health: Health expenditure, total (% GDP)  Population: Total (count)  \\\n",
      "0                                          18.0                  309349689   \n",
      "1                                           5.0                 1337825000   \n",
      "2                                           9.0                  127450459   \n",
      "3                                          12.0                   81776930   \n",
      "4                                          12.0                   65075569   \n",
      "...                                         ...                        ...   \n",
      "2349                                        NaN                    7399033   \n",
      "2350                                        NaN                    6631346   \n",
      "2351                                        NaN                      28384   \n",
      "2352                                        NaN                      18873   \n",
      "2353                                        NaN                     108639   \n",
      "\n",
      "      Population: Urban (count)  Population:: Birth rate, crude (per 1,000)  \\\n",
      "0                   254594794.0                                        14.0   \n",
      "1                   600683425.0                                        12.0   \n",
      "2                    85136907.0                                         9.0   \n",
      "3                    60351374.0                                         8.0   \n",
      "4                    50628793.0                                        13.0   \n",
      "...                         ...                                         ...   \n",
      "2349                  2456479.0                                        46.0   \n",
      "2350                        NaN                                         NaN   \n",
      "2351                        NaN                                         NaN   \n",
      "2352                    15967.0                                         NaN   \n",
      "2353                   100600.0                                        14.0   \n",
      "\n",
      "      Health: Life expectancy at birth, female (years)  \\\n",
      "0                                                 81.0   \n",
      "1                                                 75.0   \n",
      "2                                                 86.0   \n",
      "3                                                 83.0   \n",
      "4                                                 85.0   \n",
      "...                                                ...   \n",
      "2349                                              50.0   \n",
      "2350                                               NaN   \n",
      "2351                                               NaN   \n",
      "2352                                               NaN   \n",
      "2353                                              80.0   \n",
      "\n",
      "      Health: Life expectancy at birth, male (years)  \\\n",
      "0                                               76.0   \n",
      "1                                               72.0   \n",
      "2                                               80.0   \n",
      "3                                               78.0   \n",
      "4                                               78.0   \n",
      "...                                              ...   \n",
      "2349                                            47.0   \n",
      "2350                                             NaN   \n",
      "2351                                             NaN   \n",
      "2352                                             NaN   \n",
      "2353                                            75.0   \n",
      "\n",
      "      Health: Life expectancy at birth, total (years)  \\\n",
      "0                                                78.0   \n",
      "1                                                73.0   \n",
      "2                                                83.0   \n",
      "3                                                80.0   \n",
      "4                                                81.0   \n",
      "...                                               ...   \n",
      "2349                                             48.0   \n",
      "2350                                              NaN   \n",
      "2351                                              NaN   \n",
      "2352                                              NaN   \n",
      "2353                                             78.0   \n",
      "\n",
      "      Population: Ages 0-14 (% of total)  Population: Ages 15-64 (% of total)  \\\n",
      "0                                   20.0                                 67.0   \n",
      "1                                   19.0                                 72.0   \n",
      "2                                   13.0                                 64.0   \n",
      "3                                   13.0                                 66.0   \n",
      "4                                   18.0                                 65.0   \n",
      "...                                  ...                                  ...   \n",
      "2349                                44.0                                 53.0   \n",
      "2350                                 NaN                                  NaN   \n",
      "2351                                 NaN                                  NaN   \n",
      "2352                                 NaN                                  NaN   \n",
      "2353                                26.0                                 66.0   \n",
      "\n",
      "      Population: Ages 65+ (% of total)  Finance: GDP (current US$)  \\\n",
      "0                                  13.0                1.444710e+13   \n",
      "1                                   8.0                5.930529e+12   \n",
      "2                                  23.0                5.488416e+12   \n",
      "3                                  20.0                3.258947e+12   \n",
      "4                                  17.0                2.549027e+12   \n",
      "...                                 ...                         ...   \n",
      "2349                                3.0                         NaN   \n",
      "2350                                NaN                         NaN   \n",
      "2351                                NaN                         NaN   \n",
      "2352                                NaN                         NaN   \n",
      "2353                                9.0                         NaN   \n",
      "\n",
      "      Finance: GDP per capita (current US$)  \n",
      "0                                   46702.0  \n",
      "1                                    4433.0  \n",
      "2                                   43063.0  \n",
      "3                                   39852.0  \n",
      "4                                   39170.0  \n",
      "...                                     ...  \n",
      "2349                                    NaN  \n",
      "2350                                    NaN  \n",
      "2351                                    NaN  \n",
      "2352                                    NaN  \n",
      "2353                                    NaN  \n",
      "\n",
      "[2354 rows x 20 columns]\n"
     ]
    }
   ],
   "source": [
    "wb_data = pd.read_excel(\"Datasets/World Bank Data/World Bank Indicators.xlsx\" , \"Data by country\")\n",
    "print(wb_data)"
   ]
  },
  {
   "cell_type": "markdown",
   "metadata": {
    "id": "kWt_eSTmp35k"
   },
   "source": [
    "### Basic Details of dataset. "
   ]
  },
  {
   "cell_type": "code",
   "execution_count": 74,
   "metadata": {
    "id": "6rGdLXxmo171"
   },
   "outputs": [
    {
     "name": "stdout",
     "output_type": "stream",
     "text": [
      "(977, 7)\n",
      "Index(['Cust_id', 'CustName', 'Product_code', 'Country_code', 'Sales_Type',\n",
      "       'Net_sales', 'Invoice_Amount'],\n",
      "      dtype='object')\n",
      "    Cust_id        CustName Product_code Country_code Sales_Type  Net_sales  \\\n",
      "0  SIE39906   Garrett Bauer          HA1          SIE     Direct          1   \n",
      "1  EST39196     Rama Norris          GI2          EST    Website          2   \n",
      "2  AFG39258     Serena Carr          ER3          AFG    Website          2   \n",
      "3  CAN39302  Brendan Daniel          BR1          CAN    Website          2   \n",
      "4  POR39323  Judith Beasley          LU4          POR    Website          2   \n",
      "5  NOR39103  Olympia Hewitt          DA1          NOR      Other          3   \n",
      "6  ITA39581     Fallon Soto          DI3          ITA    Website          2   \n",
      "7  TUR39194  Aquila Russell          DE1          TUR    Website          4   \n",
      "8  GRE39678   Teagan Hebert          SO2          GRE    Website          4   \n",
      "9  MIC39753    Emily Brooks          AN3          MIC     Direct          4   \n",
      "\n",
      "   Invoice_Amount  \n",
      "0             400  \n",
      "1             400  \n",
      "2             400  \n",
      "3             400  \n",
      "4             400  \n",
      "5             600  \n",
      "6             800  \n",
      "7             800  \n",
      "8             800  \n",
      "9             800  \n",
      "      Cust_id         CustName Product_code Country_code Sales_Type  \\\n",
      "967  PHI39885  Cedric Ferguson          OL1          PHI     Direct   \n",
      "968  SAM39126    Kitra Hendrix          GA3          SAM     Direct   \n",
      "969  UKR39521      Hu Jacobson          BU1          UKR     Direct   \n",
      "970  SOM39594   Autumn Mcbride          HO3          SOM    Website   \n",
      "971  NET39890    Ruth Fletcher          KA3          NET     Direct   \n",
      "972  GUA39889  Hermione Grimes          EA1          GUA      Other   \n",
      "973  TRI39891    Daryl Gilbert          LA1          TRI      Other   \n",
      "974  SOU39893    Upton Lambert          DE1          SOU      Other   \n",
      "975  GEO39888   Jaime Alvarado          AU5          GEO      Other   \n",
      "976  ICE39892      Bert Fowler          LE2          ICE     Direct   \n",
      "\n",
      "     Net_sales  Invoice_Amount  \n",
      "967        420          168000  \n",
      "968        422          168800  \n",
      "969        422          168800  \n",
      "970        424          169600  \n",
      "971         15             450  \n",
      "972        129            3870  \n",
      "973        155            4650  \n",
      "974        171            5130  \n",
      "975        188            5640  \n",
      "976        240            7200  \n"
     ]
    }
   ],
   "source": [
    "print(sales.shape)\n",
    "print(sales.columns)\n",
    "print(sales.head(10))\n",
    "print(sales.tail(10)) "
   ]
  },
  {
   "cell_type": "code",
   "execution_count": 75,
   "metadata": {
    "id": "RPsjK21hqAtw"
   },
   "outputs": [
    {
     "name": "stdout",
     "output_type": "stream",
     "text": [
      "      Cust_id         CustName Product_code Country_code Sales_Type  \\\n",
      "744  UZB39130    Quail Vasquez          SI5          UZB    Website   \n",
      "399  BRA38972      Kay Hubbard          SA3          BRA     Direct   \n",
      "962  MON39702  Thomas Humphrey          OL4          MON     Direct   \n",
      "653  KUW39165    Marcia Stuart          AL2          KUW     Direct   \n",
      "750  MOZ39823   Keith Espinoza          ME3          MOZ    Website   \n",
      "10   PAL39849    Linda Oconnor          JE3          PAL      Other   \n",
      "22   DJI39145      Maia Durham          AL4          DJI      Other   \n",
      "915  ICE39366     Hollee Lloyd          JE2          ICE     Direct   \n",
      "642  MAL39741  Raphael Kennedy          JE5          MAL    Website   \n",
      "382  SWA39776       Quail Kerr          CA2          SWA    Website   \n",
      "\n",
      "     Net_sales  Invoice_Amount  \n",
      "744        176           70400  \n",
      "399        160           32000  \n",
      "962        416          166400  \n",
      "653        286           57200  \n",
      "750        178           71200  \n",
      "10           4             800  \n",
      "22          10            2000  \n",
      "915        322          128800  \n",
      "642        140           56000  \n",
      "382         77           30800  \n",
      "Cust_id           object\n",
      "CustName          object\n",
      "Product_code      object\n",
      "Country_code      object\n",
      "Sales_Type        object\n",
      "Net_sales          int64\n",
      "Invoice_Amount     int64\n",
      "dtype: object\n"
     ]
    }
   ],
   "source": [
    "print(sales.sample(n=10))\n",
    "print(sales.dtypes) "
   ]
  },
  {
   "cell_type": "code",
   "execution_count": 76,
   "metadata": {
    "id": "rWM0HZWEqMwN"
   },
   "outputs": [
    {
     "name": "stdout",
     "output_type": "stream",
     "text": [
      "          Net_sales  Invoice_Amount\n",
      "count    977.000000      977.000000\n",
      "mean     219.760491    47906.591607\n",
      "std      750.624569    38362.358333\n",
      "min        1.000000      400.000000\n",
      "25%       75.000000    20000.000000\n",
      "50%      151.000000    37600.000000\n",
      "75%      224.000000    68000.000000\n",
      "max    15300.000000   169600.000000\n",
      "count       977.000000\n",
      "mean      47906.591607\n",
      "std       38362.358333\n",
      "min         400.000000\n",
      "25%       20000.000000\n",
      "50%       37600.000000\n",
      "75%       68000.000000\n",
      "max      169600.000000\n",
      "Name: Invoice_Amount, dtype: float64\n"
     ]
    }
   ],
   "source": [
    "print(sales.describe())\n",
    "print(sales[\"Invoice_Amount\"].describe())"
   ]
  },
  {
   "cell_type": "code",
   "execution_count": 77,
   "metadata": {
    "id": "dbRtGVvrqQw7"
   },
   "outputs": [
    {
     "name": "stdout",
     "output_type": "stream",
     "text": [
      "Website    494\n",
      "Direct     402\n",
      "Other       81\n",
      "Name: Sales_Type, dtype: int64\n"
     ]
    }
   ],
   "source": [
    "print(sales[\"Sales_Type\"].value_counts())"
   ]
  },
  {
   "cell_type": "code",
   "execution_count": 78,
   "metadata": {
    "id": "TwI9cxSUqTbq"
   },
   "outputs": [
    {
     "name": "stdout",
     "output_type": "stream",
     "text": [
      "21\n",
      "0\n",
      "0\n"
     ]
    }
   ],
   "source": [
    "print(sum(sales[\"Country_code\"].isnull()))\n",
    "print(sum(sales[\"CustName\"].isnull()))\n",
    "print(sum(sales[\"Invoice_Amount\"].isnull()))"
   ]
  },
  {
   "cell_type": "markdown",
   "metadata": {
    "id": "_IgSHfNxHj6p"
   },
   "source": [
    "## Subsets and Data filters"
   ]
  },
  {
   "cell_type": "code",
   "execution_count": 79,
   "metadata": {
    "id": "VfVZkZjkqVcs"
   },
   "outputs": [
    {
     "name": "stdout",
     "output_type": "stream",
     "text": [
      "(45211, 18)\n",
      "Index(['Cust_num', 'age', 'job', 'marital', 'education', 'default', 'balance',\n",
      "       'housing', 'loan', 'contact', 'day', 'month', 'duration', 'campaign',\n",
      "       'pdays', 'previous', 'poutcome', 'y'],\n",
      "      dtype='object')\n"
     ]
    }
   ],
   "source": [
    "bank= pd.read_csv('Datasets/Bank Tele Marketing/bank_market.csv')\n",
    "print(bank.shape)\n",
    "print(bank.columns)"
   ]
  },
  {
   "cell_type": "markdown",
   "metadata": {
    "id": "B7-phUbEJO1Y"
   },
   "source": [
    "we can create new datasets by selecting or excluding few columns or rows. "
   ]
  },
  {
   "cell_type": "markdown",
   "metadata": {
    "id": "7T6k28foJUu1"
   },
   "source": [
    "**Method 1**\n",
    "\n",
    "Here we need to mention the row count to keep first few rows."
   ]
  },
  {
   "cell_type": "code",
   "execution_count": 80,
   "metadata": {
    "id": "0vh8FdfKH3oE"
   },
   "outputs": [
    {
     "name": "stdout",
     "output_type": "stream",
     "text": [
      "   Cust_num  age           job  marital  education default  balance housing  \\\n",
      "0         1   58    management  married   tertiary      no     2143     yes   \n",
      "1         2   44    technician   single  secondary      no       29     yes   \n",
      "2         3   33  entrepreneur  married  secondary      no        2     yes   \n",
      "3         4   47   blue-collar  married    unknown      no     1506     yes   \n",
      "4         5   33       unknown   single    unknown      no        1      no   \n",
      "\n",
      "  loan  contact  day month  duration  campaign  pdays  previous poutcome   y  \n",
      "0   no  unknown    5   may       261         1     -1         0  unknown  no  \n",
      "1   no  unknown    5   may       151         1     -1         0  unknown  no  \n",
      "2  yes  unknown    5   may        76         1     -1         0  unknown  no  \n",
      "3   no  unknown    5   may        92         1     -1         0  unknown  no  \n",
      "4   no  unknown    5   may       198         1     -1         0  unknown  no  \n"
     ]
    }
   ],
   "source": [
    "bank1 = bank.head(5)\n",
    "print(bank1)"
   ]
  },
  {
   "cell_type": "markdown",
   "metadata": {
    "id": "5UemIAJcJib0"
   },
   "source": [
    "**Method 2**\n",
    "\n",
    "In Python wow index starts with zero. You can mention the index number in iloc(index location) to keep some specific rows. If you are keeping only a specific row, the result will be formatted as a series, and not as a data frame. "
   ]
  },
  {
   "cell_type": "code",
   "execution_count": 81,
   "metadata": {
    "id": "TfiEZHEMJdHK"
   },
   "outputs": [
    {
     "name": "stdout",
     "output_type": "stream",
     "text": [
      "Cust_num                3\n",
      "age                    33\n",
      "job          entrepreneur\n",
      "marital           married\n",
      "education       secondary\n",
      "default                no\n",
      "balance                 2\n",
      "housing               yes\n",
      "loan                  yes\n",
      "contact           unknown\n",
      "day                     5\n",
      "month                 may\n",
      "duration               76\n",
      "campaign                1\n",
      "pdays                  -1\n",
      "previous                0\n",
      "poutcome          unknown\n",
      "y                      no\n",
      "Name: 2, dtype: object\n",
      "<class 'pandas.core.series.Series'>\n"
     ]
    }
   ],
   "source": [
    "bank2=bank.iloc[2]\n",
    "print(bank2)\n",
    "print(type(bank2))"
   ]
  },
  {
   "cell_type": "markdown",
   "metadata": {
    "id": "dwuM8UbHKI6v"
   },
   "source": [
    "**Method 3**\n",
    "\n",
    "In case you wish to mention a greater number of indices, mention them as a list. Either you can define the list beforehand or pass it on directly.\n",
    "Here the outside bracket [ ] is for accessing while inside bucket is to define the list"
   ]
  },
  {
   "cell_type": "code",
   "execution_count": 82,
   "metadata": {
    "id": "i11ym4zLJyVJ"
   },
   "outputs": [
    {
     "name": "stdout",
     "output_type": "stream",
     "text": [
      "    Cust_num  age           job  marital  education default  balance housing  \\\n",
      "2          3   33  entrepreneur  married  secondary      no        2     yes   \n",
      "9         10   43    technician   single  secondary      no      593     yes   \n",
      "15        16   51       retired  married    primary      no      229     yes   \n",
      "25        26   44        admin.  married  secondary      no     -372     yes   \n",
      "\n",
      "   loan  contact  day month  duration  campaign  pdays  previous poutcome   y  \n",
      "2   yes  unknown    5   may        76         1     -1         0  unknown  no  \n",
      "9    no  unknown    5   may        55         1     -1         0  unknown  no  \n",
      "15   no  unknown    5   may       353         1     -1         0  unknown  no  \n",
      "25   no  unknown    5   may       172         1     -1         0  unknown  no  \n"
     ]
    }
   ],
   "source": [
    "index_vals=[2,9,15,25]\n",
    "bank3=bank.iloc[index_vals]\n",
    "print(bank3)"
   ]
  },
  {
   "cell_type": "code",
   "execution_count": 83,
   "metadata": {
    "id": "bM0zutOJKvvf"
   },
   "outputs": [
    {
     "name": "stdout",
     "output_type": "stream",
     "text": [
      "    Cust_num  age           job  marital  education default  balance housing  \\\n",
      "2          3   33  entrepreneur  married  secondary      no        2     yes   \n",
      "9         10   43    technician   single  secondary      no      593     yes   \n",
      "15        16   51       retired  married    primary      no      229     yes   \n",
      "25        26   44        admin.  married  secondary      no     -372     yes   \n",
      "\n",
      "   loan  contact  day month  duration  campaign  pdays  previous poutcome   y  \n",
      "2   yes  unknown    5   may        76         1     -1         0  unknown  no  \n",
      "9    no  unknown    5   may        55         1     -1         0  unknown  no  \n",
      "15   no  unknown    5   may       353         1     -1         0  unknown  no  \n",
      "25   no  unknown    5   may       172         1     -1         0  unknown  no  \n"
     ]
    }
   ],
   "source": [
    "bank3=bank.iloc[[2,9,15,25]]\n",
    "print(bank3)"
   ]
  },
  {
   "cell_type": "markdown",
   "metadata": {
    "id": "n_WAjaKwLQea"
   },
   "source": [
    "**Method 4**\n",
    "\n",
    "New dataset by keeping selected columns"
   ]
  },
  {
   "cell_type": "code",
   "execution_count": 84,
   "metadata": {
    "id": "EQlt0_0ELBgj"
   },
   "outputs": [
    {
     "name": "stdout",
     "output_type": "stream",
     "text": [
      "            job  age\n",
      "0    management   58\n",
      "1    technician   44\n",
      "2  entrepreneur   33\n",
      "3   blue-collar   47\n",
      "4       unknown   33\n"
     ]
    }
   ],
   "source": [
    "bank4 = bank[[\"job\", \"age\"]]\n",
    "print(bank4.head(5))"
   ]
  },
  {
   "cell_type": "markdown",
   "metadata": {
    "id": "6sPqXLKMLtt9"
   },
   "source": [
    "**Method 5**\n",
    "\n",
    "If you need a new dataset by keeping selected columns and rows, just mention the relevant column names and row indexes in iloc"
   ]
  },
  {
   "cell_type": "code",
   "execution_count": 85,
   "metadata": {
    "id": "rRJPrMxYLeQT"
   },
   "outputs": [
    {
     "name": "stdout",
     "output_type": "stream",
     "text": [
      "            job  age\n",
      "0    management   58\n",
      "1    technician   44\n",
      "2  entrepreneur   33\n",
      "3   blue-collar   47\n",
      "4       unknown   33\n"
     ]
    }
   ],
   "source": [
    "bank5 = bank[[\"job\", \"age\"]].iloc[0:5]\n",
    "print(bank5)"
   ]
  },
  {
   "cell_type": "markdown",
   "metadata": {
    "id": "AzoaaQ3qL8ff"
   },
   "source": [
    "The code given above keeps only two columns job and age along with the first five rows of bank dataset. Remember mentioning [0:5] will include zero and exclude five. Total of five rows will be selected, - zero till four. "
   ]
  },
  {
   "cell_type": "markdown",
   "metadata": {
    "id": "e1Oj5qsiMa6M"
   },
   "source": [
    "**Method 6**\n",
    "\n",
    "New data by excluding columns. We need to use the drop function with a mention of the row indices. \n",
    "The code below excludes four rows and creates a new dataset bank6. Here we are excluding row 1, row3, row5 and row7. You can verify that by looking at customer numbers. "
   ]
  },
  {
   "cell_type": "code",
   "execution_count": 86,
   "metadata": {
    "id": "WqB7CrSvL5Si"
   },
   "outputs": [
    {
     "name": "stdout",
     "output_type": "stream",
     "text": [
      "   Cust_num  age           job   marital  education default  balance housing  \\\n",
      "1         2   44    technician    single  secondary      no       29     yes   \n",
      "3         4   47   blue-collar   married    unknown      no     1506     yes   \n",
      "5         6   35    management   married   tertiary      no      231     yes   \n",
      "7         8   42  entrepreneur  divorced   tertiary     yes        2     yes   \n",
      "8         9   58       retired   married    primary      no      121     yes   \n",
      "\n",
      "  loan  contact  day month  duration  campaign  pdays  previous poutcome   y  \n",
      "1   no  unknown    5   may       151         1     -1         0  unknown  no  \n",
      "3   no  unknown    5   may        92         1     -1         0  unknown  no  \n",
      "5   no  unknown    5   may       139         1     -1         0  unknown  no  \n",
      "7   no  unknown    5   may       380         1     -1         0  unknown  no  \n",
      "8   no  unknown    5   may        50         1     -1         0  unknown  no  \n"
     ]
    }
   ],
   "source": [
    "bank6=bank.drop([0,2,4,6])\n",
    "print(bank6.head(5))"
   ]
  },
  {
   "cell_type": "markdown",
   "metadata": {
    "id": "4qMOxOyANN6S"
   },
   "source": [
    "**Method 7**\n",
    "\n",
    "New data by excluding columns\n",
    "\n",
    "Again, we need to use the drop function and mention the column names, but there is an additional parameter we need to provide as axis=1. The same drop function is used both for dropping rows and columns. While dropping rows we used axis=0 and while doing the same with columns, we used axis=1. If you don’t mention any axis value, it will be taken default zero. While dropping rows it is perfectly fine if you don’t mention axis. But while dropping columns it is mandatory to mention axis=1, else you will get axis related error. \n"
   ]
  },
  {
   "cell_type": "code",
   "execution_count": 87,
   "metadata": {
    "id": "oJrBG9eWMuJ6"
   },
   "outputs": [
    {
     "name": "stdout",
     "output_type": "stream",
     "text": [
      "   age           job  marital  education default  balance housing loan  \\\n",
      "0   58    management  married   tertiary      no     2143     yes   no   \n",
      "1   44    technician   single  secondary      no       29     yes   no   \n",
      "2   33  entrepreneur  married  secondary      no        2     yes  yes   \n",
      "3   47   blue-collar  married    unknown      no     1506     yes   no   \n",
      "4   33       unknown   single    unknown      no        1      no   no   \n",
      "\n",
      "   contact  day month  duration  campaign  pdays  previous poutcome   y  \n",
      "0  unknown    5   may       261         1     -1         0  unknown  no  \n",
      "1  unknown    5   may       151         1     -1         0  unknown  no  \n",
      "2  unknown    5   may        76         1     -1         0  unknown  no  \n",
      "3  unknown    5   may        92         1     -1         0  unknown  no  \n",
      "4  unknown    5   may       198         1     -1         0  unknown  no  \n"
     ]
    }
   ],
   "source": [
    "bank7=bank.drop([\"Cust_num\"], axis=1)\n",
    "print(bank7.head(5))"
   ]
  },
  {
   "cell_type": "markdown",
   "metadata": {
    "id": "MA0DYULMTd1x"
   },
   "source": [
    "If you don't mention the axis you will fet following error"
   ]
  },
  {
   "cell_type": "code",
   "execution_count": 88,
   "metadata": {
    "id": "Qa5dDziCS0U0"
   },
   "outputs": [
    {
     "ename": "KeyError",
     "evalue": "\"['Cust_num'] not found in axis\"",
     "output_type": "error",
     "traceback": [
      "\u001b[0;31m---------------------------------------------------------------------------\u001b[0m",
      "\u001b[0;31mKeyError\u001b[0m                                  Traceback (most recent call last)",
      "\u001b[0;32m<ipython-input-88-a0b9378992d5>\u001b[0m in \u001b[0;36m<module>\u001b[0;34m\u001b[0m\n\u001b[0;32m----> 1\u001b[0;31m \u001b[0mbank7_1\u001b[0m\u001b[0;34m=\u001b[0m\u001b[0mbank\u001b[0m\u001b[0;34m.\u001b[0m\u001b[0mdrop\u001b[0m\u001b[0;34m(\u001b[0m\u001b[0;34m[\u001b[0m\u001b[0;34m\"Cust_num\"\u001b[0m\u001b[0;34m]\u001b[0m\u001b[0;34m)\u001b[0m\u001b[0;34m\u001b[0m\u001b[0;34m\u001b[0m\u001b[0m\n\u001b[0m",
      "\u001b[0;32m~/opt/anaconda3/lib/python3.7/site-packages/pandas/core/frame.py\u001b[0m in \u001b[0;36mdrop\u001b[0;34m(self, labels, axis, index, columns, level, inplace, errors)\u001b[0m\n\u001b[1;32m   4100\u001b[0m             \u001b[0mlevel\u001b[0m\u001b[0;34m=\u001b[0m\u001b[0mlevel\u001b[0m\u001b[0;34m,\u001b[0m\u001b[0;34m\u001b[0m\u001b[0;34m\u001b[0m\u001b[0m\n\u001b[1;32m   4101\u001b[0m             \u001b[0minplace\u001b[0m\u001b[0;34m=\u001b[0m\u001b[0minplace\u001b[0m\u001b[0;34m,\u001b[0m\u001b[0;34m\u001b[0m\u001b[0;34m\u001b[0m\u001b[0m\n\u001b[0;32m-> 4102\u001b[0;31m             \u001b[0merrors\u001b[0m\u001b[0;34m=\u001b[0m\u001b[0merrors\u001b[0m\u001b[0;34m,\u001b[0m\u001b[0;34m\u001b[0m\u001b[0;34m\u001b[0m\u001b[0m\n\u001b[0m\u001b[1;32m   4103\u001b[0m         )\n\u001b[1;32m   4104\u001b[0m \u001b[0;34m\u001b[0m\u001b[0m\n",
      "\u001b[0;32m~/opt/anaconda3/lib/python3.7/site-packages/pandas/core/generic.py\u001b[0m in \u001b[0;36mdrop\u001b[0;34m(self, labels, axis, index, columns, level, inplace, errors)\u001b[0m\n\u001b[1;32m   3912\u001b[0m         \u001b[0;32mfor\u001b[0m \u001b[0maxis\u001b[0m\u001b[0;34m,\u001b[0m \u001b[0mlabels\u001b[0m \u001b[0;32min\u001b[0m \u001b[0maxes\u001b[0m\u001b[0;34m.\u001b[0m\u001b[0mitems\u001b[0m\u001b[0;34m(\u001b[0m\u001b[0;34m)\u001b[0m\u001b[0;34m:\u001b[0m\u001b[0;34m\u001b[0m\u001b[0;34m\u001b[0m\u001b[0m\n\u001b[1;32m   3913\u001b[0m             \u001b[0;32mif\u001b[0m \u001b[0mlabels\u001b[0m \u001b[0;32mis\u001b[0m \u001b[0;32mnot\u001b[0m \u001b[0;32mNone\u001b[0m\u001b[0;34m:\u001b[0m\u001b[0;34m\u001b[0m\u001b[0;34m\u001b[0m\u001b[0m\n\u001b[0;32m-> 3914\u001b[0;31m                 \u001b[0mobj\u001b[0m \u001b[0;34m=\u001b[0m \u001b[0mobj\u001b[0m\u001b[0;34m.\u001b[0m\u001b[0m_drop_axis\u001b[0m\u001b[0;34m(\u001b[0m\u001b[0mlabels\u001b[0m\u001b[0;34m,\u001b[0m \u001b[0maxis\u001b[0m\u001b[0;34m,\u001b[0m \u001b[0mlevel\u001b[0m\u001b[0;34m=\u001b[0m\u001b[0mlevel\u001b[0m\u001b[0;34m,\u001b[0m \u001b[0merrors\u001b[0m\u001b[0;34m=\u001b[0m\u001b[0merrors\u001b[0m\u001b[0;34m)\u001b[0m\u001b[0;34m\u001b[0m\u001b[0;34m\u001b[0m\u001b[0m\n\u001b[0m\u001b[1;32m   3915\u001b[0m \u001b[0;34m\u001b[0m\u001b[0m\n\u001b[1;32m   3916\u001b[0m         \u001b[0;32mif\u001b[0m \u001b[0minplace\u001b[0m\u001b[0;34m:\u001b[0m\u001b[0;34m\u001b[0m\u001b[0;34m\u001b[0m\u001b[0m\n",
      "\u001b[0;32m~/opt/anaconda3/lib/python3.7/site-packages/pandas/core/generic.py\u001b[0m in \u001b[0;36m_drop_axis\u001b[0;34m(self, labels, axis, level, errors)\u001b[0m\n\u001b[1;32m   3944\u001b[0m                 \u001b[0mnew_axis\u001b[0m \u001b[0;34m=\u001b[0m \u001b[0maxis\u001b[0m\u001b[0;34m.\u001b[0m\u001b[0mdrop\u001b[0m\u001b[0;34m(\u001b[0m\u001b[0mlabels\u001b[0m\u001b[0;34m,\u001b[0m \u001b[0mlevel\u001b[0m\u001b[0;34m=\u001b[0m\u001b[0mlevel\u001b[0m\u001b[0;34m,\u001b[0m \u001b[0merrors\u001b[0m\u001b[0;34m=\u001b[0m\u001b[0merrors\u001b[0m\u001b[0;34m)\u001b[0m\u001b[0;34m\u001b[0m\u001b[0;34m\u001b[0m\u001b[0m\n\u001b[1;32m   3945\u001b[0m             \u001b[0;32melse\u001b[0m\u001b[0;34m:\u001b[0m\u001b[0;34m\u001b[0m\u001b[0;34m\u001b[0m\u001b[0m\n\u001b[0;32m-> 3946\u001b[0;31m                 \u001b[0mnew_axis\u001b[0m \u001b[0;34m=\u001b[0m \u001b[0maxis\u001b[0m\u001b[0;34m.\u001b[0m\u001b[0mdrop\u001b[0m\u001b[0;34m(\u001b[0m\u001b[0mlabels\u001b[0m\u001b[0;34m,\u001b[0m \u001b[0merrors\u001b[0m\u001b[0;34m=\u001b[0m\u001b[0merrors\u001b[0m\u001b[0;34m)\u001b[0m\u001b[0;34m\u001b[0m\u001b[0;34m\u001b[0m\u001b[0m\n\u001b[0m\u001b[1;32m   3947\u001b[0m             \u001b[0mresult\u001b[0m \u001b[0;34m=\u001b[0m \u001b[0mself\u001b[0m\u001b[0;34m.\u001b[0m\u001b[0mreindex\u001b[0m\u001b[0;34m(\u001b[0m\u001b[0;34m**\u001b[0m\u001b[0;34m{\u001b[0m\u001b[0maxis_name\u001b[0m\u001b[0;34m:\u001b[0m \u001b[0mnew_axis\u001b[0m\u001b[0;34m}\u001b[0m\u001b[0;34m)\u001b[0m\u001b[0;34m\u001b[0m\u001b[0;34m\u001b[0m\u001b[0m\n\u001b[1;32m   3948\u001b[0m \u001b[0;34m\u001b[0m\u001b[0m\n",
      "\u001b[0;32m~/opt/anaconda3/lib/python3.7/site-packages/pandas/core/indexes/base.py\u001b[0m in \u001b[0;36mdrop\u001b[0;34m(self, labels, errors)\u001b[0m\n\u001b[1;32m   5338\u001b[0m         \u001b[0;32mif\u001b[0m \u001b[0mmask\u001b[0m\u001b[0;34m.\u001b[0m\u001b[0many\u001b[0m\u001b[0;34m(\u001b[0m\u001b[0;34m)\u001b[0m\u001b[0;34m:\u001b[0m\u001b[0;34m\u001b[0m\u001b[0;34m\u001b[0m\u001b[0m\n\u001b[1;32m   5339\u001b[0m             \u001b[0;32mif\u001b[0m \u001b[0merrors\u001b[0m \u001b[0;34m!=\u001b[0m \u001b[0;34m\"ignore\"\u001b[0m\u001b[0;34m:\u001b[0m\u001b[0;34m\u001b[0m\u001b[0;34m\u001b[0m\u001b[0m\n\u001b[0;32m-> 5340\u001b[0;31m                 \u001b[0;32mraise\u001b[0m \u001b[0mKeyError\u001b[0m\u001b[0;34m(\u001b[0m\u001b[0;34m\"{} not found in axis\"\u001b[0m\u001b[0;34m.\u001b[0m\u001b[0mformat\u001b[0m\u001b[0;34m(\u001b[0m\u001b[0mlabels\u001b[0m\u001b[0;34m[\u001b[0m\u001b[0mmask\u001b[0m\u001b[0;34m]\u001b[0m\u001b[0;34m)\u001b[0m\u001b[0;34m)\u001b[0m\u001b[0;34m\u001b[0m\u001b[0;34m\u001b[0m\u001b[0m\n\u001b[0m\u001b[1;32m   5341\u001b[0m             \u001b[0mindexer\u001b[0m \u001b[0;34m=\u001b[0m \u001b[0mindexer\u001b[0m\u001b[0;34m[\u001b[0m\u001b[0;34m~\u001b[0m\u001b[0mmask\u001b[0m\u001b[0;34m]\u001b[0m\u001b[0;34m\u001b[0m\u001b[0;34m\u001b[0m\u001b[0m\n\u001b[1;32m   5342\u001b[0m         \u001b[0;32mreturn\u001b[0m \u001b[0mself\u001b[0m\u001b[0;34m.\u001b[0m\u001b[0mdelete\u001b[0m\u001b[0;34m(\u001b[0m\u001b[0mindexer\u001b[0m\u001b[0;34m)\u001b[0m\u001b[0;34m\u001b[0m\u001b[0;34m\u001b[0m\u001b[0m\n",
      "\u001b[0;31mKeyError\u001b[0m: \"['Cust_num'] not found in axis\""
     ]
    }
   ],
   "source": [
    "bank7_1=bank.drop([\"Cust_num\"])"
   ]
  },
  {
   "cell_type": "markdown",
   "metadata": {
    "id": "qYs896J5Uxuq"
   },
   "source": [
    "**Method 8**-Filter conditions\n",
    "\n",
    "Most of the time we use these types of filters for sub setting the data rather than using the indexes.In the below example we are trying to get a subset from bank data where age>40. While mentioning the column name in the filter condition you need to mention dataset name again. "
   ]
  },
  {
   "cell_type": "code",
   "execution_count": 90,
   "metadata": {
    "id": "fCqXlqceTkLj"
   },
   "outputs": [
    {
     "name": "stdout",
     "output_type": "stream",
     "text": [
      "(20494, 18)\n"
     ]
    }
   ],
   "source": [
    "bank8=bank[bank['age']>40]\n",
    "print(bank8.shape)"
   ]
  },
  {
   "cell_type": "markdown",
   "metadata": {
    "id": "t1XB_MyDWgFL"
   },
   "source": [
    "### AND condition & filters"
   ]
  },
  {
   "cell_type": "code",
   "execution_count": 91,
   "metadata": {
    "id": "nWmNprPCWQUd"
   },
   "outputs": [
    {
     "name": "stdout",
     "output_type": "stream",
     "text": [
      "(17156, 18)\n"
     ]
    }
   ],
   "source": [
    "bank9=bank[(bank['age']>40) & (bank['loan']==\"no\")]\n",
    "print(bank9.shape)"
   ]
  },
  {
   "cell_type": "markdown",
   "metadata": {
    "id": "0aFV7AFvWrh-"
   },
   "source": [
    "### OR condition & filter"
   ]
  },
  {
   "cell_type": "code",
   "execution_count": 92,
   "metadata": {
    "id": "qytNuMqOWp34"
   },
   "outputs": [
    {
     "name": "stdout",
     "output_type": "stream",
     "text": [
      "(41305, 18)\n"
     ]
    }
   ],
   "source": [
    "bank10=bank[(bank['age']>40) | (bank['loan']==\"no\")]\n",
    "print(bank10.shape)"
   ]
  },
  {
   "cell_type": "markdown",
   "metadata": {
    "id": "iH37HWbtYsuj"
   },
   "source": [
    "## Some other useful commands"
   ]
  },
  {
   "cell_type": "markdown",
   "metadata": {
    "id": "Ukf8YDX3Ztj-"
   },
   "source": [
    "### Creating new columns"
   ]
  },
  {
   "cell_type": "code",
   "execution_count": 93,
   "metadata": {
    "id": "-p8FqA6gWxit"
   },
   "outputs": [
    {
     "name": "stdout",
     "output_type": "stream",
     "text": [
      "(45211, 18)\n",
      "Index(['Cust_num', 'age', 'job', 'marital', 'education', 'default', 'balance',\n",
      "       'housing', 'loan', 'contact', 'day', 'month', 'duration', 'campaign',\n",
      "       'pdays', 'previous', 'poutcome', 'y'],\n",
      "      dtype='object')\n",
      "(45211, 19)\n",
      "Index(['Cust_num', 'age', 'job', 'marital', 'education', 'default', 'balance',\n",
      "       'housing', 'loan', 'contact', 'day', 'month', 'duration', 'campaign',\n",
      "       'pdays', 'previous', 'poutcome', 'y', 'bal_new'],\n",
      "      dtype='object')\n"
     ]
    }
   ],
   "source": [
    "print(bank.shape)\n",
    "print(bank.columns)\n",
    "bank[\"bal_new\"]=bank[\"balance\"]*0.9\n",
    "print(bank.shape)\n",
    "print(bank.columns)"
   ]
  },
  {
   "cell_type": "markdown",
   "metadata": {
    "id": "6K41IP1cdW0d"
   },
   "source": [
    "### Joining Datasets\n",
    "\n",
    "The function used for joining the datasets is pd.merge(). We can perform standard joining operations like outer join, inner join, left and right outer joins. Here is the code with an explanation for performing joins.  \n",
    "Product1 and Product2 are the two data sets. “On” is the primary key that is present in both the datasets. The parameter value “how” will decide the type of join. \n"
   ]
  },
  {
   "cell_type": "code",
   "execution_count": 96,
   "metadata": {
    "id": "MPd23tz0eFBq"
   },
   "outputs": [
    {
     "name": "stdout",
     "output_type": "stream",
     "text": [
      "(665, 5)\n",
      "Index(['Cust_id', 'Country_code', 'Sales_Type', 'Net_sales', 'Invoice_Amount'], dtype='object')\n"
     ]
    }
   ],
   "source": [
    "product1= pd.read_csv(r\"Datasets/Orders Products/Product1_orders.csv\")\n",
    "print(product1.shape)\n",
    "print(product1.columns)"
   ]
  },
  {
   "cell_type": "code",
   "execution_count": 97,
   "metadata": {
    "id": "eVi8m0C-ecnG"
   },
   "outputs": [
    {
     "name": "stdout",
     "output_type": "stream",
     "text": [
      "(654, 5)\n",
      "Index(['Cust_id', 'CustName', 'Sales_Type', 'Net_sales', 'Invoice_Amount'], dtype='object')\n"
     ]
    }
   ],
   "source": [
    "product2= pd.read_csv(r\"Datasets/Orders Products/Product2_orders.csv\")\n",
    "print(product2.shape)\n",
    "print(product2.columns)"
   ]
  },
  {
   "cell_type": "markdown",
   "metadata": {
    "id": "GJ1LbDEpesAA"
   },
   "source": [
    "#### Inner join"
   ]
  },
  {
   "cell_type": "code",
   "execution_count": 98,
   "metadata": {
    "id": "tJP0qtovekOX"
   },
   "outputs": [
    {
     "name": "stdout",
     "output_type": "stream",
     "text": [
      "(342, 9)\n"
     ]
    }
   ],
   "source": [
    "inner_data=pd.merge(product1, product2, on='Cust_id', how='inner')\n",
    "print(inner_data.shape)"
   ]
  },
  {
   "cell_type": "markdown",
   "metadata": {
    "id": "698LZ1dye7Fk"
   },
   "source": [
    "#### Outer join"
   ]
  },
  {
   "cell_type": "code",
   "execution_count": 99,
   "metadata": {
    "id": "aM6Ov1V0e3O8"
   },
   "outputs": [
    {
     "name": "stdout",
     "output_type": "stream",
     "text": [
      "(977, 9)\n"
     ]
    }
   ],
   "source": [
    "outer_data=pd.merge(product1, product2, on='Cust_id', how='outer')\n",
    "print(outer_data.shape)"
   ]
  },
  {
   "cell_type": "markdown",
   "metadata": {
    "id": "lClhOCwNfBwY"
   },
   "source": [
    "#### Left outer join"
   ]
  },
  {
   "cell_type": "code",
   "execution_count": 100,
   "metadata": {
    "id": "YpDJ4GxJe-ys"
   },
   "outputs": [
    {
     "name": "stdout",
     "output_type": "stream",
     "text": [
      "(665, 9)\n"
     ]
    }
   ],
   "source": [
    "L_outer_data=pd.merge(product1, product2, on='Cust_id', how='left')\n",
    "print(L_outer_data.shape)"
   ]
  },
  {
   "cell_type": "markdown",
   "metadata": {
    "id": "qNbxB_dcfIyV"
   },
   "source": [
    "#### Right outer join"
   ]
  },
  {
   "cell_type": "code",
   "execution_count": 101,
   "metadata": {
    "id": "yGLYsm-_fFPD"
   },
   "outputs": [
    {
     "name": "stdout",
     "output_type": "stream",
     "text": [
      "(654, 9)\n"
     ]
    }
   ],
   "source": [
    "R_outer_data=pd.merge(product1, product2, on='Cust_id', how='right')\n",
    "print(R_outer_data.shape)"
   ]
  },
  {
   "cell_type": "markdown",
   "metadata": {
    "id": "ouKv6ATYfXPD"
   },
   "source": [
    "#### Inner join 2\n",
    "\n",
    "If the comparing column name is different in two datasets, you can use left_on and right_on option "
   ]
  },
  {
   "cell_type": "code",
   "execution_count": 102,
   "metadata": {
    "id": "S6p4vHcgfMrw"
   },
   "outputs": [
    {
     "name": "stdout",
     "output_type": "stream",
     "text": [
      "(342, 9)\n"
     ]
    }
   ],
   "source": [
    "inner_data1=pd.merge(product1, product2, left_on='Cust_id',right_on='Cust_id', how='inner')\n",
    "print(inner_data1.shape)"
   ]
  },
  {
   "cell_type": "markdown",
   "metadata": {
    "id": "NCRDBNbXg4ja"
   },
   "source": [
    "## Basic statistics and Data exploration"
   ]
  },
  {
   "cell_type": "markdown",
   "metadata": {
    "id": "JNwOtinEhJpX"
   },
   "source": [
    "### Basic descriptive statitics"
   ]
  },
  {
   "cell_type": "code",
   "execution_count": 103,
   "metadata": {
    "id": "9_73Jbfufaal"
   },
   "outputs": [
    {
     "name": "stdout",
     "output_type": "stream",
     "text": [
      "(32561, 15)\n",
      "Index(['age', 'workclass', 'fnlwgt', 'education', 'education-num',\n",
      "       'marital-status', 'occupation', 'relationship', 'race', 'sex',\n",
      "       'capital-gain', 'capital-loss', 'hours-per-week', 'native-country',\n",
      "       'Income_band'],\n",
      "      dtype='object')\n"
     ]
    }
   ],
   "source": [
    "import pandas as pd\n",
    "income_data= pd.read_csv(r\"Datasets/Census Income Data/Income_data.csv\")\n",
    "print(income_data.shape)\n",
    "print(income_data.columns)"
   ]
  },
  {
   "cell_type": "markdown",
   "metadata": {
    "id": "NbxgV9YZhN8V"
   },
   "source": [
    "#### Mean"
   ]
  },
  {
   "cell_type": "code",
   "execution_count": 104,
   "metadata": {
    "id": "kvMIDrvJh-6r"
   },
   "outputs": [
    {
     "name": "stdout",
     "output_type": "stream",
     "text": [
      "1077.6488437087312\n"
     ]
    }
   ],
   "source": [
    "print(income_data[\"capital-gain\"].mean())"
   ]
  },
  {
   "cell_type": "markdown",
   "metadata": {
    "id": "KWttTcq2im4f"
   },
   "source": [
    "#### Median"
   ]
  },
  {
   "cell_type": "code",
   "execution_count": 105,
   "metadata": {
    "id": "luazOuVKikDx"
   },
   "outputs": [
    {
     "name": "stdout",
     "output_type": "stream",
     "text": [
      "0.0\n"
     ]
    }
   ],
   "source": [
    "print(income_data[\"capital-gain\"].median())"
   ]
  },
  {
   "cell_type": "markdown",
   "metadata": {
    "id": "ShaEzfVXjA-Q"
   },
   "source": [
    "### Data exploration"
   ]
  },
  {
   "cell_type": "markdown",
   "metadata": {
    "id": "G_F_pXa2jYC-"
   },
   "source": [
    "#### Exploring numeric continuous variables\n",
    "\n",
    "To explore continuous variables, we use percentiles and percentile distributions. First, let’s try to explore what percentiles are. "
   ]
  },
  {
   "cell_type": "markdown",
   "metadata": {
    "id": "_pEcZ52ojoFK"
   },
   "source": [
    "##### Percentiles"
   ]
  },
  {
   "cell_type": "markdown",
   "metadata": {
    "id": "pDgoGUvHso41"
   },
   "source": [
    "The variable we are going to use here is capital-gain from income data. In previous discussions, we had already identified something fishy about this variable. Mean is 1,077.6 and median is 0. Let’s now try to calculate it’s percentile values. "
   ]
  },
  {
   "cell_type": "code",
   "execution_count": 106,
   "metadata": {
    "id": "PiTMMrZYisgl"
   },
   "outputs": [
    {
     "name": "stdout",
     "output_type": "stream",
     "text": [
      "0.0\n"
     ]
    }
   ],
   "source": [
    "print(income_data[\"capital-gain\"].quantile(0.2))"
   ]
  },
  {
   "cell_type": "code",
   "execution_count": 107,
   "metadata": {
    "id": "RqMwTe7mjwgj"
   },
   "outputs": [
    {
     "name": "stdout",
     "output_type": "stream",
     "text": [
      "0.0        0.0\n",
      "0.1        0.0\n",
      "0.2        0.0\n",
      "0.3        0.0\n",
      "0.4        0.0\n",
      "0.5        0.0\n",
      "0.6        0.0\n",
      "0.7        0.0\n",
      "0.8        0.0\n",
      "0.9        0.0\n",
      "1.0    99999.0\n",
      "Name: capital-gain, dtype: float64\n"
     ]
    }
   ],
   "source": [
    "print(income_data[\"capital-gain\"].quantile([0,0.1,0.2,0.3,0.4,0.5,0.6,0.7,0.8,0.9,1]))"
   ]
  },
  {
   "cell_type": "markdown",
   "metadata": {
    "id": "XCNS5Iz7u-uL"
   },
   "source": [
    "The output is not really what we expected. At the first glance it is confusing and not easy to comprehend. Let’s study through the output. There are two columns in the output. First column is the percentile, and the other its value. Which is value?  It is value of the variable, which is capital-gain in this case."
   ]
  },
  {
   "cell_type": "code",
   "execution_count": 108,
   "metadata": {
    "id": "OZWNn1RCjyM_"
   },
   "outputs": [
    {
     "name": "stdout",
     "output_type": "stream",
     "text": [
      "0.90        0.0\n",
      "0.91        0.0\n",
      "0.92     1458.2\n",
      "0.93     2885.0\n",
      "0.94     3818.0\n",
      "0.95     5013.0\n",
      "0.96     7298.0\n",
      "0.97     7688.0\n",
      "0.98    14084.0\n",
      "0.99    15024.0\n",
      "1.00    99999.0\n",
      "Name: capital-gain, dtype: float64\n"
     ]
    }
   ],
   "source": [
    "print(income_data[\"capital-gain\"].quantile([0.9,0.91,0.92,0.93,0.94,0.95,0.96,0.97,0.98,0.99,1]))"
   ]
  },
  {
   "cell_type": "markdown",
   "metadata": {
    "id": "dS90OdnHvayA"
   },
   "source": [
    "As you can see 91 percentiles is zero, from 92 percentile onwards we see some positive values. Which means, 91% of the data is simply zeros, only remaining 9% of the data has some positive values. "
   ]
  },
  {
   "cell_type": "markdown",
   "metadata": {
    "id": "6oBy2iX-39JC"
   },
   "source": [
    "For exploring continuous variables we need to use percentiles. They will not only show you the complete distribution of a variable, but they will also help you in identifying outliers in the process. You can even guess what percentage of the data outliers are. If you have a continuous variable, it can take almost any value. It helps to use percentiles if you wish to get a feel of its distribution."
   ]
  },
  {
   "cell_type": "markdown",
   "metadata": {
    "id": "aei1v7lKCYGZ"
   },
   "source": [
    "**Example of Percentile**\n",
    "\n",
    "Let’s first get the standard percentiles as usual and identify any deep dive areas. For this exercise more than 60 hours is on the higher side and less than 20 lowers. we are not really interested in less than 24 and greater than 55. Let’s start with the deep dive of top 10 percentile. \n",
    "We need to drill down first 10 and last 10 percentiles. As our limits are 20 and 60, "
   ]
  },
  {
   "cell_type": "code",
   "execution_count": 109,
   "metadata": {
    "id": "uKkzLlagkFHf"
   },
   "outputs": [
    {
     "name": "stdout",
     "output_type": "stream",
     "text": [
      "0.0     1.0\n",
      "0.1    24.0\n",
      "0.2    35.0\n",
      "0.3    40.0\n",
      "0.4    40.0\n",
      "0.5    40.0\n",
      "0.6    40.0\n",
      "0.7    40.0\n",
      "0.8    48.0\n",
      "0.9    55.0\n",
      "1.0    99.0\n",
      "Name: hours-per-week, dtype: float64\n",
      "0.90    55.0\n",
      "0.91    55.0\n",
      "0.92    58.0\n",
      "0.93    60.0\n",
      "0.94    60.0\n",
      "0.95    60.0\n",
      "0.96    60.0\n",
      "0.97    65.0\n",
      "0.98    70.0\n",
      "0.99    80.0\n",
      "1.00    99.0\n",
      "Name: hours-per-week, dtype: float64\n",
      "0.00     1.0\n",
      "0.01     8.0\n",
      "0.02    10.0\n",
      "0.03    14.8\n",
      "0.04    15.0\n",
      "0.05    18.0\n",
      "0.06    20.0\n",
      "0.07    20.0\n",
      "0.08    20.0\n",
      "0.09    21.0\n",
      "0.10    24.0\n",
      "Name: hours-per-week, dtype: float64\n"
     ]
    }
   ],
   "source": [
    "print(income_data[\"hours-per-week\"].quantile([0,0.1,0.2,0.3,0.4,0.5,0.6,0.7,0.8,0.9,1]))\n",
    "print(income_data[\"hours-per-week\"].quantile([0.9,0.91,0.92,0.93,0.94,0.95,0.96,0.97,0.98,0.99,1]))\n",
    "print(income_data[\"hours-per-week\"].quantile([0,0.01,0.02,0.03,0.04,0.05,0.06,0.07,0.08,0.09,0.1]))"
   ]
  },
  {
   "cell_type": "markdown",
   "metadata": {
    "id": "OgTrgi-tEboK"
   },
   "source": [
    "Now let’s proceed to detection of outliers on the higher side. The output clearly shows 92% of the data is less than 60 and remaining 8% is more than or equal to 60%, so, 8% can be termed as high side outliers. If we are looking for strictly more than 60 hours, then it is 4% of the data.\n",
    "\n",
    "In the output we can clearly observe 8% of the data is less than or equal to 20 hours. The lower side outlier percentage is 8%. If you are strictly looking for the data less than 20 and ignore values equal to 20 hours, this percentile stands at 5%. "
   ]
  },
  {
   "cell_type": "markdown",
   "metadata": {
    "id": "d4CzS2bCE_fk"
   },
   "source": [
    "**Finally, we have 4% high side outliers and low side 5% outliers. This is how you detect outliers and explore continuous variables.**"
   ]
  },
  {
   "cell_type": "markdown",
   "metadata": {
    "id": "R9RNcsoKk-x2"
   },
   "source": [
    "#### Exploring discrete and categorical variables\n",
    "Categorial variables have certain classes. These classes are nothing but the categories. To explore a categorical variable, we need to create a frequency table, which is much like a group by table or a summary table. A frequency table contains all the available categories (in a given set of data) and frequency counts or number of occurrences of each category type. You will get an idea on all unique classes and their weightage in the given data. "
   ]
  },
  {
   "cell_type": "code",
   "execution_count": 110,
   "metadata": {
    "id": "K2g58Ap1kvMn"
   },
   "outputs": [
    {
     "data": {
      "text/plain": [
       " HS-grad         10501\n",
       " Some-college     7291\n",
       " Bachelors        5355\n",
       " Masters          1723\n",
       " Assoc-voc        1382\n",
       " 11th             1175\n",
       " Assoc-acdm       1067\n",
       " 10th              933\n",
       " 7th-8th           646\n",
       " Prof-school       576\n",
       " 9th               514\n",
       " 12th              433\n",
       " Doctorate         413\n",
       " 5th-6th           333\n",
       " 1st-4th           168\n",
       " Preschool          51\n",
       "Name: education, dtype: int64"
      ]
     },
     "execution_count": 110,
     "metadata": {},
     "output_type": "execute_result"
    }
   ],
   "source": [
    "income_data[\"education\"].value_counts()"
   ]
  },
  {
   "cell_type": "markdown",
   "metadata": {
    "id": "iAHrf78VI14O"
   },
   "source": [
    "**Along with percentage:**\n",
    "we are trying to first create frequency counts, then percentages are calculated using normalize=True option. We then concatenate frequency and percentages into a table. axis=1 , which indicates we are concatenating columns. The parameter keys mentions the actual column names in the resultant table. "
   ]
  },
  {
   "cell_type": "code",
   "execution_count": 111,
   "metadata": {
    "id": "Y07IjVA7lcxI"
   },
   "outputs": [
    {
     "name": "stdout",
     "output_type": "stream",
     "text": [
      "               counts   percent\n",
      " HS-grad        10501  0.322502\n",
      " Some-college    7291  0.223918\n",
      " Bachelors       5355  0.164461\n",
      " Masters         1723  0.052916\n",
      " Assoc-voc       1382  0.042443\n",
      " 11th            1175  0.036086\n",
      " Assoc-acdm      1067  0.032769\n",
      " 10th             933  0.028654\n",
      " 7th-8th          646  0.019840\n",
      " Prof-school      576  0.017690\n",
      " 9th              514  0.015786\n",
      " 12th             433  0.013298\n",
      " Doctorate        413  0.012684\n",
      " 5th-6th          333  0.010227\n",
      " 1st-4th          168  0.005160\n",
      " Preschool         51  0.001566\n"
     ]
    }
   ],
   "source": [
    "freq=income_data[\"education\"].value_counts()\n",
    "percent=income_data[\"education\"].value_counts(normalize=True)\n",
    "freq_table=pd.concat([freq,percent], axis=1, keys=[\"counts\",\"percent\"])\n",
    "print(freq_table)"
   ]
  },
  {
   "cell_type": "code",
   "execution_count": 112,
   "metadata": {
    "id": "0EtzwEnAlfIi"
   },
   "outputs": [
    {
     "data": {
      "text/plain": [
       " Private             22696\n",
       " Self-emp-not-inc     2541\n",
       " Local-gov            2093\n",
       " ?                    1836\n",
       " State-gov            1298\n",
       " Self-emp-inc         1116\n",
       " Federal-gov           960\n",
       " Without-pay            14\n",
       " Never-worked            7\n",
       "Name: workclass, dtype: int64"
      ]
     },
     "execution_count": 112,
     "metadata": {},
     "output_type": "execute_result"
    }
   ],
   "source": [
    "#Frequnecy example -2 \n",
    "income_data[\"workclass\"].value_counts()"
   ]
  },
  {
   "cell_type": "markdown",
   "metadata": {
    "id": "PeB7r4HJJOWJ"
   },
   "source": [
    "**Cross tab:**\n",
    "\n",
    "Only 24% are earning more than 50K in the entire available data. Now let’s create a cross tab by comparing both education and income band. After that we will try get to get the income band distribution in each class of education "
   ]
  },
  {
   "cell_type": "code",
   "execution_count": 113,
   "metadata": {
    "id": "Jp7hhXl8lhOu"
   },
   "outputs": [
    {
     "name": "stdout",
     "output_type": "stream",
     "text": [
      " <=50K    24720\n",
      " >50K      7841\n",
      "Name: Income_band, dtype: int64\n",
      " <=50K    0.75919\n",
      " >50K     0.24081\n",
      "Name: Income_band, dtype: float64\n",
      "Income_band     <=50K   >50K     <=50K      >50K\n",
      "education                                       \n",
      " 10th             871     62  0.933548  0.066452\n",
      " 11th            1115     60  0.948936  0.051064\n",
      " 12th             400     33  0.923788  0.076212\n",
      " 1st-4th          162      6  0.964286  0.035714\n",
      " 5th-6th          317     16  0.951952  0.048048\n",
      " 7th-8th          606     40  0.938080  0.061920\n",
      " 9th              487     27  0.947471  0.052529\n",
      " Assoc-acdm       802    265  0.751640  0.248360\n",
      " Assoc-voc       1021    361  0.738784  0.261216\n",
      " Bachelors       3134   2221  0.585247  0.414753\n",
      " Doctorate        107    306  0.259080  0.740920\n",
      " HS-grad         8826   1675  0.840491  0.159509\n",
      " Masters          764    959  0.443413  0.556587\n",
      " Preschool         51      0  1.000000  0.000000\n",
      " Prof-school      153    423  0.265625  0.734375\n",
      " Some-college    5904   1387  0.809765  0.190235\n"
     ]
    }
   ],
   "source": [
    "#Cross tab\n",
    "print(income_data[\"Income_band\"].value_counts())\n",
    "print(income_data[\"Income_band\"].value_counts(normalize=True))\n",
    "cross_tab=pd.crosstab(income_data[\"education\"],income_data['Income_band'])\n",
    "cross_tab_p=cross_tab.astype(float).div(cross_tab.sum(axis=1), axis=0)\n",
    "final_table=pd.concat([cross_tab,cross_tab_p], axis=1)\n",
    "print(final_table)\n"
   ]
  },
  {
   "cell_type": "code",
   "execution_count": null,
   "metadata": {},
   "outputs": [],
   "source": []
  }
 ],
 "metadata": {
  "colab": {
   "collapsed_sections": [],
   "name": "Chapter-2.ipynb",
   "provenance": []
  },
  "kernelspec": {
   "display_name": "Python 3",
   "language": "python",
   "name": "python3"
  },
  "language_info": {
   "codemirror_mode": {
    "name": "ipython",
    "version": 3
   },
   "file_extension": ".py",
   "mimetype": "text/x-python",
   "name": "python",
   "nbconvert_exporter": "python",
   "pygments_lexer": "ipython3",
   "version": "3.7.4"
  }
 },
 "nbformat": 4,
 "nbformat_minor": 4
}
